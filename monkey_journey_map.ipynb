{
 "cells": [
  {
   "cell_type": "markdown",
   "id": "e7ed7454",
   "metadata": {},
   "source": [
    "# 🐒 Monkey Journey Map\n",
    "\n",
    "Welcome to monkey adventure visualization! This notebook will create interactive maps showing the monkey's journey, including all activities and health statistics.\n",
    "\n",
    "## 📦 Setup & Installation\n",
    "\n",
    "First, let's make sure all required packages are installed. Run the cell below to automatically install any missing packages."
   ]
  },
  {
   "cell_type": "code",
   "execution_count": 1,
   "id": "2d9904bf",
   "metadata": {},
   "outputs": [
    {
     "name": "stdout",
     "output_type": "stream",
     "text": [
      "🔍 Checking for required packages...\n",
      "✅ pandas - already installed\n",
      "✅ folium - already installed\n",
      "✅ plotly - already installed\n",
      "✅ numpy - already installed\n",
      "❌ nbformat>=4.2.0 - needs installation\n",
      "\n",
      "📦 Installing 1 missing packages...\n",
      "Installing nbformat>=4.2.0...\n",
      "✅ nbformat>=4.2.0 installed successfully!\n",
      "\n",
      "🎉 Package installation complete!\n",
      "\n",
      "🚀 Ready to run the notebook! Proceed to the next cell.\n"
     ]
    }
   ],
   "source": [
    "# 📦 Automatic Package Installation\n",
    "# Run this cell first to install all required packages\n",
    "import subprocess\n",
    "import sys\n",
    "\n",
    "def install_package(package):\n",
    "    \"\"\"Install a package using pip\"\"\"\n",
    "    try:\n",
    "        subprocess.check_call([sys.executable, \"-m\", \"pip\", \"install\", package])\n",
    "        return True\n",
    "    except subprocess.CalledProcessError:\n",
    "        return False\n",
    "\n",
    "# List of required packages\n",
    "required_packages = [\"pandas\", \"folium\", \"plotly\", \"numpy\", \"nbformat>=4.2.0\"]\n",
    "\n",
    "print(\"🔍 Checking for required packages...\")\n",
    "\n",
    "# Check if packages are already installed\n",
    "missing_packages = []\n",
    "for package in required_packages:\n",
    "    try:\n",
    "        import_name = package.split('>=')[0].split('==')[0].split('<=')[0]\n",
    "        __import__(import_name)\n",
    "        print(f\"✅ {package} - already installed\")\n",
    "    except ImportError:\n",
    "        missing_packages.append(package)\n",
    "        print(f\"❌ {package} - needs installation\")\n",
    "\n",
    "# Install missing packages\n",
    "if missing_packages:\n",
    "    print(f\"\\n📦 Installing {len(missing_packages)} missing packages...\")\n",
    "    for package in missing_packages:\n",
    "        print(f\"Installing {package}...\")\n",
    "        if install_package(package):\n",
    "            print(f\"✅ {package} installed successfully!\")\n",
    "        else:\n",
    "            print(f\"❌ Failed to install {package}\")\n",
    "    print(\"\\n🎉 Package installation complete!\")\n",
    "else:\n",
    "    print(\"\\n🎉 All packages are already installed!\")\n",
    "\n",
    "print(\"\\n🚀 Ready to run the notebook! Proceed to the next cell.\")"
   ]
  },
  {
   "cell_type": "markdown",
   "id": "1ea72daa",
   "metadata": {},
   "source": [
    "## Import Required Libraries\n",
    "\n",
    "First, let's import all the necessary libraries for data handling and map visualization."
   ]
  },
  {
   "cell_type": "code",
   "execution_count": 2,
   "id": "7393520d",
   "metadata": {},
   "outputs": [
    {
     "name": "stdout",
     "output_type": "stream",
     "text": [
      "✅ Libraries imported successfully!\n"
     ]
    }
   ],
   "source": [
    "import pandas as pd\n",
    "import folium\n",
    "from folium import plugins\n",
    "import json\n",
    "from datetime import datetime\n",
    "import numpy as np\n",
    "\n",
    "# For interactive plotting\n",
    "import plotly.express as px\n",
    "import plotly.graph_objects as go\n",
    "\n",
    "print(\"✅ Libraries imported successfully!\")"
   ]
  },
  {
   "cell_type": "markdown",
   "id": "27ce16d2",
   "metadata": {},
   "source": [
    "## Load Monkey Journey Data\n",
    "\n",
    "Let's load the journey data from our JSON file that contains the latest data from the MonkeyMCP service. This includes all the path points, activities, and health statistics from the adventure, generated using our updated 60/40 activity selection algorithm.\n",
    "\n",
    "The JSON file (`monkey_journey_data.json`) contains fresh data showing:\n",
    "- **monkey's preferred activities** (60% chance): iPhone Photography, Waterfront Stroll, Adventure Blogging  \n",
    "- **Common monkey activities** (40% chance): Climbing, Watching, etc.\n",
    "- Updated health statistics and journey metrics"
   ]
  },
  {
   "cell_type": "code",
   "execution_count": 3,
   "id": "f864231a",
   "metadata": {},
   "outputs": [
    {
     "name": "stdout",
     "output_type": "stream",
     "text": [
      "📊 Journey data loaded successfully from JSON file!\n",
      "🐒 Monkey: Mooch\n",
      "📍 Path Points: 15\n",
      "🎯 Activities: 5\n",
      "🏃‍♂️ Total Distance: 0.461 km\n",
      "⏱️ Total Duration: 01:36:00\n",
      "\n",
      "🎯 Activities performed:\n",
      "  • iPhone Photography: Captured stunning photos with the latest iPhone ca...\n",
      "  • Waterfront Stroll: Enjoyed a peaceful walk along the Seattle waterfro...\n",
      "  • Climbing: Climbed a tall tree to get a better view...\n",
      "  • Climbing: Climbed a tall tree to get a better view...\n",
      "  • Watching: Sat quietly observing the surrounding environment...\n",
      "\n",
      "📊 Activity Type Summary:\n",
      "  • iPhone Photography: 1 time(s)\n",
      "  • Waterfront Stroll: 1 time(s)\n",
      "  • Climbing: 2 time(s)\n",
      "  • Watching: 1 time(s)\n"
     ]
    }
   ],
   "source": [
    "# Load monkey's Journey Data from JSON file\n",
    "import json\n",
    "import os\n",
    "\n",
    "# Load the journey data from the JSON file\n",
    "json_file_path = 'monkey_journey_data.json'\n",
    "\n",
    "# Check if file exists\n",
    "if os.path.exists(json_file_path):\n",
    "    with open(json_file_path, 'r') as file:\n",
    "        monkey_journey = json.load(file)\n",
    "    print(\"📊 Journey data loaded successfully from JSON file!\")\n",
    "else:\n",
    "    print(\"❌ JSON file not found. Please ensure 'monkey_journey_data.json' exists in the current directory.\")\n",
    "    # Fallback to hardcoded data if file doesn't exist\n",
    "    monkey_journey = {\n",
    "        \"MonkeyName\": \"monkey\",\n",
    "        \"StartLocation\": {\"Latitude\": 47.608013, \"Longitude\": -122.335167},\n",
    "        \"StartTime\": \"2025-07-02T11:35:41.6638431Z\",\n",
    "        \"EndTime\": \"2025-07-02T12:47:41.6638431Z\",\n",
    "        \"PathPoints\": [],\n",
    "        \"Activities\": [],\n",
    "        \"HealthStats\": {\"Energy\": 59, \"Happiness\": 68, \"Hunger\": 71, \"Social\": 76, \"Stress\": 11, \"Health\": 87},\n",
    "        \"TotalDuration\": \"01:12:00\",\n",
    "        \"TotalDistanceKm\": 0.1946922330484976\n",
    "    }\n",
    "    print(\"📊 Using fallback data.\")\n",
    "\n",
    "print(f\"🐒 Monkey: {monkey_journey['MonkeyName']}\")\n",
    "print(f\"📍 Path Points: {len(monkey_journey['PathPoints'])}\")\n",
    "print(f\"🎯 Activities: {len(monkey_journey['Activities'])}\")\n",
    "print(f\"🏃‍♂️ Total Distance: {monkey_journey['TotalDistanceKm']:.3f} km\")\n",
    "print(f\"⏱️ Total Duration: {monkey_journey['TotalDuration']}\")\n",
    "\n",
    "# Display the activities with their types (showing the new 60/40 distribution)\n",
    "print(f\"\\n🎯 Activities performed:\")\n",
    "activity_types = {}\n",
    "for activity in monkey_journey['Activities']:\n",
    "    activity_type = activity['Type']\n",
    "    if activity_type in activity_types:\n",
    "        activity_types[activity_type] += 1\n",
    "    else:\n",
    "        activity_types[activity_type] = 1\n",
    "    print(f\"  • {activity['Type']}: {activity['Description'][:50]}...\")\n",
    "\n",
    "print(f\"\\n📊 Activity Type Summary:\")\n",
    "for activity_type, count in activity_types.items():\n",
    "    print(f\"  • {activity_type}: {count} time(s)\")"
   ]
  },
  {
   "cell_type": "markdown",
   "id": "63a5ed1d",
   "metadata": {},
   "source": [
    "## Prepare Geographical Data\n",
    "\n",
    "Now let's structure the data into pandas DataFrames for easier manipulation and plotting. We'll create separate datasets for the path points and activities."
   ]
  },
  {
   "cell_type": "code",
   "execution_count": 4,
   "id": "ed83f189",
   "metadata": {},
   "outputs": [
    {
     "name": "stdout",
     "output_type": "stream",
     "text": [
      "🗺️ Path Points DataFrame:\n",
      "    Point   Latitude   Longitude                     Timestamp   Time\n",
      "0       1  47.608013 -122.335167  2025-07-02T13:52:08.1079669Z  13:52\n",
      "1       2  47.607810 -122.335363  2025-07-02T14:04:08.1079669Z  14:04\n",
      "2       3  47.607804 -122.335363  2025-07-02T14:16:08.1079669Z  14:16\n",
      "3       4  47.607797 -122.335812  2025-07-02T15:10:08.1079669Z  15:10\n",
      "4       5  47.607970 -122.335957  2025-07-02T14:32:08.1079669Z  14:32\n",
      "5       6  47.607635 -122.335648  2025-07-02T15:22:08.1079669Z  15:22\n",
      "6       7  47.608037 -122.335687  2025-07-02T15:58:08.1079669Z  15:58\n",
      "7       8  47.608151 -122.335029  2025-07-02T16:08:08.1079669Z  16:08\n",
      "8       9  47.608688 -122.335183  2025-07-02T15:49:08.1079669Z  15:49\n",
      "9      10  47.608764 -122.335200  2025-07-02T17:22:08.1079669Z  17:22\n",
      "10     11  47.608893 -122.335325  2025-07-02T17:43:08.1079669Z  17:43\n",
      "11     12  47.609125 -122.335193  2025-07-02T16:04:08.1079669Z  16:04\n",
      "12     13  47.608872 -122.334783  2025-07-02T18:25:08.1079669Z  18:25\n",
      "13     14  47.609302 -122.334797  2025-07-02T17:50:08.1079669Z  17:50\n",
      "14     15  47.609029 -122.334874  2025-07-02T19:52:08.1079669Z  19:52\n",
      "\n",
      "🎯 Activities DataFrame:\n",
      "                 Type                                        Description  \\\n",
      "0  iPhone Photography  Captured stunning photos with the latest iPhon...   \n",
      "1   Waterfront Stroll  Enjoyed a peaceful walk along the Seattle wate...   \n",
      "2            Climbing           Climbed a tall tree to get a better view   \n",
      "3            Climbing           Climbed a tall tree to get a better view   \n",
      "4            Watching  Sat quietly observing the surrounding environment   \n",
      "\n",
      "    Latitude   Longitude                     Timestamp   Time  Duration  \\\n",
      "0  47.608037 -122.335687  2025-07-02T15:58:08.1079669Z  15:58  00:26:00   \n",
      "1  47.608151 -122.335029  2025-07-02T16:08:08.1079669Z  16:08  00:36:00   \n",
      "2  47.608688 -122.335183  2025-07-02T15:49:08.1079669Z  15:49  00:07:00   \n",
      "3  47.608764 -122.335200  2025-07-02T17:22:08.1079669Z  17:22  00:08:00   \n",
      "4  47.609125 -122.335193  2025-07-02T16:04:08.1079669Z  16:04  00:09:00   \n",
      "\n",
      "   EnergyChange  \n",
      "0             4  \n",
      "1            12  \n",
      "2           -15  \n",
      "3           -10  \n",
      "4             5  \n"
     ]
    }
   ],
   "source": [
    "# Create DataFrame for path points\n",
    "path_data = []\n",
    "for i, point in enumerate(monkey_journey['PathPoints']):\n",
    "    path_data.append({\n",
    "        'Point': i + 1,\n",
    "        'Latitude': point['Location']['Latitude'],\n",
    "        'Longitude': point['Location']['Longitude'],\n",
    "        'Timestamp': point['Timestamp'],\n",
    "        'Time': datetime.fromisoformat(point['Timestamp'].replace('Z', '+00:00')).strftime('%H:%M')\n",
    "    })\n",
    "\n",
    "path_df = pd.DataFrame(path_data)\n",
    "\n",
    "# Create DataFrame for activities\n",
    "activity_data = []\n",
    "for activity in monkey_journey['Activities']:\n",
    "    activity_data.append({\n",
    "        'Type': activity['Type'],\n",
    "        'Description': activity['Description'],\n",
    "        'Latitude': activity['Location']['Latitude'],\n",
    "        'Longitude': activity['Location']['Longitude'],\n",
    "        'Timestamp': activity['Timestamp'],\n",
    "        'Time': datetime.fromisoformat(activity['Timestamp'].replace('Z', '+00:00')).strftime('%H:%M'),\n",
    "        'Duration': activity['Duration'],\n",
    "        'EnergyChange': activity['EnergyChange']\n",
    "    })\n",
    "\n",
    "activity_df = pd.DataFrame(activity_data)\n",
    "\n",
    "# Display the prepared data\n",
    "print(\"🗺️ Path Points DataFrame:\")\n",
    "print(path_df)\n",
    "print(\"\\n🎯 Activities DataFrame:\")\n",
    "print(activity_df)"
   ]
  },
  {
   "cell_type": "markdown",
   "id": "85b1d940",
   "metadata": {},
   "source": [
    "## Plot monkey's Journey on a Map\n",
    "\n",
    "Let's create an interactive map using Folium to visualize monkey's journey. We'll show the path taken and mark all the activity locations."
   ]
  },
  {
   "cell_type": "code",
   "execution_count": 5,
   "id": "b324b209",
   "metadata": {},
   "outputs": [
    {
     "name": "stdout",
     "output_type": "stream",
     "text": [
      "🗺️ Base map with journey path created!\n"
     ]
    },
    {
     "data": {
      "text/html": [
       "<div style=\"width:100%;\"><div style=\"position:relative;width:100%;height:0;padding-bottom:60%;\"><span style=\"color:#565656\">Make this Notebook Trusted to load map: File -> Trust Notebook</span><iframe srcdoc=\"&lt;!DOCTYPE html&gt;\n",
       "&lt;html&gt;\n",
       "&lt;head&gt;\n",
       "    \n",
       "    &lt;meta http-equiv=&quot;content-type&quot; content=&quot;text/html; charset=UTF-8&quot; /&gt;\n",
       "    &lt;script src=&quot;https://cdn.jsdelivr.net/npm/leaflet@1.9.3/dist/leaflet.js&quot;&gt;&lt;/script&gt;\n",
       "    &lt;script src=&quot;https://code.jquery.com/jquery-3.7.1.min.js&quot;&gt;&lt;/script&gt;\n",
       "    &lt;script src=&quot;https://cdn.jsdelivr.net/npm/bootstrap@5.2.2/dist/js/bootstrap.bundle.min.js&quot;&gt;&lt;/script&gt;\n",
       "    &lt;script src=&quot;https://cdnjs.cloudflare.com/ajax/libs/Leaflet.awesome-markers/2.0.2/leaflet.awesome-markers.js&quot;&gt;&lt;/script&gt;\n",
       "    &lt;link rel=&quot;stylesheet&quot; href=&quot;https://cdn.jsdelivr.net/npm/leaflet@1.9.3/dist/leaflet.css&quot;/&gt;\n",
       "    &lt;link rel=&quot;stylesheet&quot; href=&quot;https://cdn.jsdelivr.net/npm/bootstrap@5.2.2/dist/css/bootstrap.min.css&quot;/&gt;\n",
       "    &lt;link rel=&quot;stylesheet&quot; href=&quot;https://netdna.bootstrapcdn.com/bootstrap/3.0.0/css/bootstrap-glyphicons.css&quot;/&gt;\n",
       "    &lt;link rel=&quot;stylesheet&quot; href=&quot;https://cdn.jsdelivr.net/npm/@fortawesome/fontawesome-free@6.2.0/css/all.min.css&quot;/&gt;\n",
       "    &lt;link rel=&quot;stylesheet&quot; href=&quot;https://cdnjs.cloudflare.com/ajax/libs/Leaflet.awesome-markers/2.0.2/leaflet.awesome-markers.css&quot;/&gt;\n",
       "    &lt;link rel=&quot;stylesheet&quot; href=&quot;https://cdn.jsdelivr.net/gh/python-visualization/folium/folium/templates/leaflet.awesome.rotate.min.css&quot;/&gt;\n",
       "    \n",
       "            &lt;meta name=&quot;viewport&quot; content=&quot;width=device-width,\n",
       "                initial-scale=1.0, maximum-scale=1.0, user-scalable=no&quot; /&gt;\n",
       "            &lt;style&gt;\n",
       "                #map_fe194cec328ac51b42fe8d32ca0e1fc5 {\n",
       "                    position: relative;\n",
       "                    width: 100.0%;\n",
       "                    height: 100.0%;\n",
       "                    left: 0.0%;\n",
       "                    top: 0.0%;\n",
       "                }\n",
       "                .leaflet-container { font-size: 1rem; }\n",
       "            &lt;/style&gt;\n",
       "\n",
       "            &lt;style&gt;html, body {\n",
       "                width: 100%;\n",
       "                height: 100%;\n",
       "                margin: 0;\n",
       "                padding: 0;\n",
       "            }\n",
       "            &lt;/style&gt;\n",
       "\n",
       "            &lt;style&gt;#map {\n",
       "                position:absolute;\n",
       "                top:0;\n",
       "                bottom:0;\n",
       "                right:0;\n",
       "                left:0;\n",
       "                }\n",
       "            &lt;/style&gt;\n",
       "\n",
       "            &lt;script&gt;\n",
       "                L_NO_TOUCH = false;\n",
       "                L_DISABLE_3D = false;\n",
       "            &lt;/script&gt;\n",
       "\n",
       "        \n",
       "&lt;/head&gt;\n",
       "&lt;body&gt;\n",
       "    \n",
       "    \n",
       "            &lt;div class=&quot;folium-map&quot; id=&quot;map_fe194cec328ac51b42fe8d32ca0e1fc5&quot; &gt;&lt;/div&gt;\n",
       "        \n",
       "&lt;/body&gt;\n",
       "&lt;script&gt;\n",
       "    \n",
       "    \n",
       "            var map_fe194cec328ac51b42fe8d32ca0e1fc5 = L.map(\n",
       "                &quot;map_fe194cec328ac51b42fe8d32ca0e1fc5&quot;,\n",
       "                {\n",
       "                    center: [47.60839262154914, -122.33529203543296],\n",
       "                    crs: L.CRS.EPSG3857,\n",
       "                    ...{\n",
       "  &quot;zoom&quot;: 17,\n",
       "  &quot;zoomControl&quot;: true,\n",
       "  &quot;preferCanvas&quot;: false,\n",
       "}\n",
       "\n",
       "                }\n",
       "            );\n",
       "\n",
       "            \n",
       "\n",
       "        \n",
       "    \n",
       "            var tile_layer_1ae93e6bf8176e619ea16f2934eadfe7 = L.tileLayer(\n",
       "                &quot;https://tile.openstreetmap.org/{z}/{x}/{y}.png&quot;,\n",
       "                {\n",
       "  &quot;minZoom&quot;: 0,\n",
       "  &quot;maxZoom&quot;: 19,\n",
       "  &quot;maxNativeZoom&quot;: 19,\n",
       "  &quot;noWrap&quot;: false,\n",
       "  &quot;attribution&quot;: &quot;\\u0026copy; \\u003ca href=\\&quot;https://www.openstreetmap.org/copyright\\&quot;\\u003eOpenStreetMap\\u003c/a\\u003e contributors&quot;,\n",
       "  &quot;subdomains&quot;: &quot;abc&quot;,\n",
       "  &quot;detectRetina&quot;: false,\n",
       "  &quot;tms&quot;: false,\n",
       "  &quot;opacity&quot;: 1,\n",
       "}\n",
       "\n",
       "            );\n",
       "        \n",
       "    \n",
       "            tile_layer_1ae93e6bf8176e619ea16f2934eadfe7.addTo(map_fe194cec328ac51b42fe8d32ca0e1fc5);\n",
       "        \n",
       "    \n",
       "            var poly_line_e38817cb7429055ccfe4c5d8ac3dea39 = L.polyline(\n",
       "                [[47.608013, -122.335167], [47.60781033913533, -122.33536266643291], [47.60780426549518, -122.33536289738302], [47.60779677992401, -122.3358123554838], [47.607970038580454, -122.3359569380382], [47.607635192954305, -122.33564808483166], [47.60803667828576, -122.33568673176046], [47.608151409972194, -122.33502888771966], [47.608687729483066, -122.33518300575531], [47.608764117524096, -122.33519961800057], [47.60889270257975, -122.33532521671354], [47.60912527262461, -122.33519347029672], [47.60887157578555, -122.33478300194683], [47.6093015654782, -122.33479684552117], [47.60902865541471, -122.33487381161049]],\n",
       "                {&quot;bubblingMouseEvents&quot;: true, &quot;color&quot;: &quot;blue&quot;, &quot;dashArray&quot;: null, &quot;dashOffset&quot;: null, &quot;fill&quot;: false, &quot;fillColor&quot;: &quot;blue&quot;, &quot;fillOpacity&quot;: 0.2, &quot;fillRule&quot;: &quot;evenodd&quot;, &quot;lineCap&quot;: &quot;round&quot;, &quot;lineJoin&quot;: &quot;round&quot;, &quot;noClip&quot;: false, &quot;opacity&quot;: 0.8, &quot;smoothFactor&quot;: 1.0, &quot;stroke&quot;: true, &quot;weight&quot;: 3}\n",
       "            ).addTo(map_fe194cec328ac51b42fe8d32ca0e1fc5);\n",
       "        \n",
       "    \n",
       "        var popup_cb63c686905a1a16d1b67cbbddd64396 = L.popup({\n",
       "  &quot;maxWidth&quot;: &quot;100%&quot;,\n",
       "});\n",
       "\n",
       "        \n",
       "            \n",
       "                var html_5c0cbf97ac42b2c9908e43096d83c4aa = $(`&lt;div id=&quot;html_5c0cbf97ac42b2c9908e43096d83c4aa&quot; style=&quot;width: 100.0%; height: 100.0%;&quot;&gt;monkey&#x27;s Journey Path&lt;/div&gt;`)[0];\n",
       "                popup_cb63c686905a1a16d1b67cbbddd64396.setContent(html_5c0cbf97ac42b2c9908e43096d83c4aa);\n",
       "            \n",
       "        \n",
       "\n",
       "        poly_line_e38817cb7429055ccfe4c5d8ac3dea39.bindPopup(popup_cb63c686905a1a16d1b67cbbddd64396)\n",
       "        ;\n",
       "\n",
       "        \n",
       "    \n",
       "    \n",
       "            var marker_ebd7ee2eb4fb4ba48c3bb3f90089f74a = L.marker(\n",
       "                [47.608013, -122.335167],\n",
       "                {\n",
       "}\n",
       "            ).addTo(map_fe194cec328ac51b42fe8d32ca0e1fc5);\n",
       "        \n",
       "    \n",
       "            var icon_7cf4a5fb593827d3ecfe6ded4160f2ce = L.AwesomeMarkers.icon(\n",
       "                {\n",
       "  &quot;markerColor&quot;: &quot;green&quot;,\n",
       "  &quot;iconColor&quot;: &quot;white&quot;,\n",
       "  &quot;icon&quot;: &quot;play&quot;,\n",
       "  &quot;prefix&quot;: &quot;glyphicon&quot;,\n",
       "  &quot;extraClasses&quot;: &quot;fa-rotate-0&quot;,\n",
       "}\n",
       "            );\n",
       "        \n",
       "    \n",
       "        var popup_60eb1bb939144d79f2bdcaee7ee71d80 = L.popup({\n",
       "  &quot;maxWidth&quot;: &quot;100%&quot;,\n",
       "});\n",
       "\n",
       "        \n",
       "            \n",
       "                var html_9ef134b654c1bd734f5bc436c24a759e = $(`&lt;div id=&quot;html_9ef134b654c1bd734f5bc436c24a759e&quot; style=&quot;width: 100.0%; height: 100.0%;&quot;&gt;🏁 Journey Start&lt;br&gt;Time: 13:52&lt;/div&gt;`)[0];\n",
       "                popup_60eb1bb939144d79f2bdcaee7ee71d80.setContent(html_9ef134b654c1bd734f5bc436c24a759e);\n",
       "            \n",
       "        \n",
       "\n",
       "        marker_ebd7ee2eb4fb4ba48c3bb3f90089f74a.bindPopup(popup_60eb1bb939144d79f2bdcaee7ee71d80)\n",
       "        ;\n",
       "\n",
       "        \n",
       "    \n",
       "    \n",
       "                marker_ebd7ee2eb4fb4ba48c3bb3f90089f74a.setIcon(icon_7cf4a5fb593827d3ecfe6ded4160f2ce);\n",
       "            \n",
       "    \n",
       "            var marker_99a5b642b9d83eca44c5c8aced74c4e2 = L.marker(\n",
       "                [47.60902865541471, -122.33487381161049],\n",
       "                {\n",
       "}\n",
       "            ).addTo(map_fe194cec328ac51b42fe8d32ca0e1fc5);\n",
       "        \n",
       "    \n",
       "            var icon_9d1d937dd2eca47ce4f6c14062a18bab = L.AwesomeMarkers.icon(\n",
       "                {\n",
       "  &quot;markerColor&quot;: &quot;red&quot;,\n",
       "  &quot;iconColor&quot;: &quot;white&quot;,\n",
       "  &quot;icon&quot;: &quot;stop&quot;,\n",
       "  &quot;prefix&quot;: &quot;glyphicon&quot;,\n",
       "  &quot;extraClasses&quot;: &quot;fa-rotate-0&quot;,\n",
       "}\n",
       "            );\n",
       "        \n",
       "    \n",
       "        var popup_101543f011f3a7fe98364d865a9ad999 = L.popup({\n",
       "  &quot;maxWidth&quot;: &quot;100%&quot;,\n",
       "});\n",
       "\n",
       "        \n",
       "            \n",
       "                var html_9d38697991f624911786b431bf60b349 = $(`&lt;div id=&quot;html_9d38697991f624911786b431bf60b349&quot; style=&quot;width: 100.0%; height: 100.0%;&quot;&gt;🏁 Journey End&lt;br&gt;Time: 19:52&lt;/div&gt;`)[0];\n",
       "                popup_101543f011f3a7fe98364d865a9ad999.setContent(html_9d38697991f624911786b431bf60b349);\n",
       "            \n",
       "        \n",
       "\n",
       "        marker_99a5b642b9d83eca44c5c8aced74c4e2.bindPopup(popup_101543f011f3a7fe98364d865a9ad999)\n",
       "        ;\n",
       "\n",
       "        \n",
       "    \n",
       "    \n",
       "                marker_99a5b642b9d83eca44c5c8aced74c4e2.setIcon(icon_9d1d937dd2eca47ce4f6c14062a18bab);\n",
       "            \n",
       "    \n",
       "            var circle_marker_bcec510ff45f0abcd5271e045018ad21 = L.circleMarker(\n",
       "                [47.608013, -122.335167],\n",
       "                {&quot;bubblingMouseEvents&quot;: true, &quot;color&quot;: &quot;blue&quot;, &quot;dashArray&quot;: null, &quot;dashOffset&quot;: null, &quot;fill&quot;: true, &quot;fillColor&quot;: &quot;lightblue&quot;, &quot;fillOpacity&quot;: 0.2, &quot;fillRule&quot;: &quot;evenodd&quot;, &quot;lineCap&quot;: &quot;round&quot;, &quot;lineJoin&quot;: &quot;round&quot;, &quot;opacity&quot;: 1.0, &quot;radius&quot;: 4, &quot;stroke&quot;: true, &quot;weight&quot;: 3}\n",
       "            ).addTo(map_fe194cec328ac51b42fe8d32ca0e1fc5);\n",
       "        \n",
       "    \n",
       "        var popup_b558a5bd78b4c82069acd3c592b1c0bf = L.popup({\n",
       "  &quot;maxWidth&quot;: &quot;100%&quot;,\n",
       "});\n",
       "\n",
       "        \n",
       "            \n",
       "                var html_202a2cf7920a20327d9b7c4bc1ee9f46 = $(`&lt;div id=&quot;html_202a2cf7920a20327d9b7c4bc1ee9f46&quot; style=&quot;width: 100.0%; height: 100.0%;&quot;&gt;📍 Point 1&lt;br&gt;Time: 13:52&lt;/div&gt;`)[0];\n",
       "                popup_b558a5bd78b4c82069acd3c592b1c0bf.setContent(html_202a2cf7920a20327d9b7c4bc1ee9f46);\n",
       "            \n",
       "        \n",
       "\n",
       "        circle_marker_bcec510ff45f0abcd5271e045018ad21.bindPopup(popup_b558a5bd78b4c82069acd3c592b1c0bf)\n",
       "        ;\n",
       "\n",
       "        \n",
       "    \n",
       "    \n",
       "            var circle_marker_604233db4a941e912667de9f95e885b2 = L.circleMarker(\n",
       "                [47.60781033913533, -122.33536266643291],\n",
       "                {&quot;bubblingMouseEvents&quot;: true, &quot;color&quot;: &quot;blue&quot;, &quot;dashArray&quot;: null, &quot;dashOffset&quot;: null, &quot;fill&quot;: true, &quot;fillColor&quot;: &quot;lightblue&quot;, &quot;fillOpacity&quot;: 0.2, &quot;fillRule&quot;: &quot;evenodd&quot;, &quot;lineCap&quot;: &quot;round&quot;, &quot;lineJoin&quot;: &quot;round&quot;, &quot;opacity&quot;: 1.0, &quot;radius&quot;: 4, &quot;stroke&quot;: true, &quot;weight&quot;: 3}\n",
       "            ).addTo(map_fe194cec328ac51b42fe8d32ca0e1fc5);\n",
       "        \n",
       "    \n",
       "        var popup_6749f3f8a4257dedb3e460a101980d16 = L.popup({\n",
       "  &quot;maxWidth&quot;: &quot;100%&quot;,\n",
       "});\n",
       "\n",
       "        \n",
       "            \n",
       "                var html_be75472072167bbbf9b4759aa9e61542 = $(`&lt;div id=&quot;html_be75472072167bbbf9b4759aa9e61542&quot; style=&quot;width: 100.0%; height: 100.0%;&quot;&gt;📍 Point 2&lt;br&gt;Time: 14:04&lt;/div&gt;`)[0];\n",
       "                popup_6749f3f8a4257dedb3e460a101980d16.setContent(html_be75472072167bbbf9b4759aa9e61542);\n",
       "            \n",
       "        \n",
       "\n",
       "        circle_marker_604233db4a941e912667de9f95e885b2.bindPopup(popup_6749f3f8a4257dedb3e460a101980d16)\n",
       "        ;\n",
       "\n",
       "        \n",
       "    \n",
       "    \n",
       "            var circle_marker_ab961436cb6c62b0268ce860994cd2aa = L.circleMarker(\n",
       "                [47.60780426549518, -122.33536289738302],\n",
       "                {&quot;bubblingMouseEvents&quot;: true, &quot;color&quot;: &quot;blue&quot;, &quot;dashArray&quot;: null, &quot;dashOffset&quot;: null, &quot;fill&quot;: true, &quot;fillColor&quot;: &quot;lightblue&quot;, &quot;fillOpacity&quot;: 0.2, &quot;fillRule&quot;: &quot;evenodd&quot;, &quot;lineCap&quot;: &quot;round&quot;, &quot;lineJoin&quot;: &quot;round&quot;, &quot;opacity&quot;: 1.0, &quot;radius&quot;: 4, &quot;stroke&quot;: true, &quot;weight&quot;: 3}\n",
       "            ).addTo(map_fe194cec328ac51b42fe8d32ca0e1fc5);\n",
       "        \n",
       "    \n",
       "        var popup_50ccab96a6acc1143e64236c4a089555 = L.popup({\n",
       "  &quot;maxWidth&quot;: &quot;100%&quot;,\n",
       "});\n",
       "\n",
       "        \n",
       "            \n",
       "                var html_b9b4b3a851126aa78a282b2e5dc58e4d = $(`&lt;div id=&quot;html_b9b4b3a851126aa78a282b2e5dc58e4d&quot; style=&quot;width: 100.0%; height: 100.0%;&quot;&gt;📍 Point 3&lt;br&gt;Time: 14:16&lt;/div&gt;`)[0];\n",
       "                popup_50ccab96a6acc1143e64236c4a089555.setContent(html_b9b4b3a851126aa78a282b2e5dc58e4d);\n",
       "            \n",
       "        \n",
       "\n",
       "        circle_marker_ab961436cb6c62b0268ce860994cd2aa.bindPopup(popup_50ccab96a6acc1143e64236c4a089555)\n",
       "        ;\n",
       "\n",
       "        \n",
       "    \n",
       "    \n",
       "            var circle_marker_9600d6522816f659af6259544758b4b3 = L.circleMarker(\n",
       "                [47.60779677992401, -122.3358123554838],\n",
       "                {&quot;bubblingMouseEvents&quot;: true, &quot;color&quot;: &quot;blue&quot;, &quot;dashArray&quot;: null, &quot;dashOffset&quot;: null, &quot;fill&quot;: true, &quot;fillColor&quot;: &quot;lightblue&quot;, &quot;fillOpacity&quot;: 0.2, &quot;fillRule&quot;: &quot;evenodd&quot;, &quot;lineCap&quot;: &quot;round&quot;, &quot;lineJoin&quot;: &quot;round&quot;, &quot;opacity&quot;: 1.0, &quot;radius&quot;: 4, &quot;stroke&quot;: true, &quot;weight&quot;: 3}\n",
       "            ).addTo(map_fe194cec328ac51b42fe8d32ca0e1fc5);\n",
       "        \n",
       "    \n",
       "        var popup_3fc1fd807077ee8dd026cea9b8558ea1 = L.popup({\n",
       "  &quot;maxWidth&quot;: &quot;100%&quot;,\n",
       "});\n",
       "\n",
       "        \n",
       "            \n",
       "                var html_ed91cffe5c68392124c287bf5a434ee7 = $(`&lt;div id=&quot;html_ed91cffe5c68392124c287bf5a434ee7&quot; style=&quot;width: 100.0%; height: 100.0%;&quot;&gt;📍 Point 4&lt;br&gt;Time: 15:10&lt;/div&gt;`)[0];\n",
       "                popup_3fc1fd807077ee8dd026cea9b8558ea1.setContent(html_ed91cffe5c68392124c287bf5a434ee7);\n",
       "            \n",
       "        \n",
       "\n",
       "        circle_marker_9600d6522816f659af6259544758b4b3.bindPopup(popup_3fc1fd807077ee8dd026cea9b8558ea1)\n",
       "        ;\n",
       "\n",
       "        \n",
       "    \n",
       "    \n",
       "            var circle_marker_c7cf564cbc84a05871e88430c669921f = L.circleMarker(\n",
       "                [47.607970038580454, -122.3359569380382],\n",
       "                {&quot;bubblingMouseEvents&quot;: true, &quot;color&quot;: &quot;blue&quot;, &quot;dashArray&quot;: null, &quot;dashOffset&quot;: null, &quot;fill&quot;: true, &quot;fillColor&quot;: &quot;lightblue&quot;, &quot;fillOpacity&quot;: 0.2, &quot;fillRule&quot;: &quot;evenodd&quot;, &quot;lineCap&quot;: &quot;round&quot;, &quot;lineJoin&quot;: &quot;round&quot;, &quot;opacity&quot;: 1.0, &quot;radius&quot;: 4, &quot;stroke&quot;: true, &quot;weight&quot;: 3}\n",
       "            ).addTo(map_fe194cec328ac51b42fe8d32ca0e1fc5);\n",
       "        \n",
       "    \n",
       "        var popup_a24085ad9df2a041fd940f5660e86ee4 = L.popup({\n",
       "  &quot;maxWidth&quot;: &quot;100%&quot;,\n",
       "});\n",
       "\n",
       "        \n",
       "            \n",
       "                var html_b5619c084b9e4804021464e5442a85ac = $(`&lt;div id=&quot;html_b5619c084b9e4804021464e5442a85ac&quot; style=&quot;width: 100.0%; height: 100.0%;&quot;&gt;📍 Point 5&lt;br&gt;Time: 14:32&lt;/div&gt;`)[0];\n",
       "                popup_a24085ad9df2a041fd940f5660e86ee4.setContent(html_b5619c084b9e4804021464e5442a85ac);\n",
       "            \n",
       "        \n",
       "\n",
       "        circle_marker_c7cf564cbc84a05871e88430c669921f.bindPopup(popup_a24085ad9df2a041fd940f5660e86ee4)\n",
       "        ;\n",
       "\n",
       "        \n",
       "    \n",
       "    \n",
       "            var circle_marker_ab307152ebfba496c4ebcf67b8eff29e = L.circleMarker(\n",
       "                [47.607635192954305, -122.33564808483166],\n",
       "                {&quot;bubblingMouseEvents&quot;: true, &quot;color&quot;: &quot;blue&quot;, &quot;dashArray&quot;: null, &quot;dashOffset&quot;: null, &quot;fill&quot;: true, &quot;fillColor&quot;: &quot;lightblue&quot;, &quot;fillOpacity&quot;: 0.2, &quot;fillRule&quot;: &quot;evenodd&quot;, &quot;lineCap&quot;: &quot;round&quot;, &quot;lineJoin&quot;: &quot;round&quot;, &quot;opacity&quot;: 1.0, &quot;radius&quot;: 4, &quot;stroke&quot;: true, &quot;weight&quot;: 3}\n",
       "            ).addTo(map_fe194cec328ac51b42fe8d32ca0e1fc5);\n",
       "        \n",
       "    \n",
       "        var popup_e3e87b74229f0bb2fb9fb552490f805b = L.popup({\n",
       "  &quot;maxWidth&quot;: &quot;100%&quot;,\n",
       "});\n",
       "\n",
       "        \n",
       "            \n",
       "                var html_29c787f0326b313951e6f0c39e5ed28a = $(`&lt;div id=&quot;html_29c787f0326b313951e6f0c39e5ed28a&quot; style=&quot;width: 100.0%; height: 100.0%;&quot;&gt;📍 Point 6&lt;br&gt;Time: 15:22&lt;/div&gt;`)[0];\n",
       "                popup_e3e87b74229f0bb2fb9fb552490f805b.setContent(html_29c787f0326b313951e6f0c39e5ed28a);\n",
       "            \n",
       "        \n",
       "\n",
       "        circle_marker_ab307152ebfba496c4ebcf67b8eff29e.bindPopup(popup_e3e87b74229f0bb2fb9fb552490f805b)\n",
       "        ;\n",
       "\n",
       "        \n",
       "    \n",
       "    \n",
       "            var circle_marker_8b0c18e53d1bbedba17fc5e70e7a6f99 = L.circleMarker(\n",
       "                [47.60803667828576, -122.33568673176046],\n",
       "                {&quot;bubblingMouseEvents&quot;: true, &quot;color&quot;: &quot;blue&quot;, &quot;dashArray&quot;: null, &quot;dashOffset&quot;: null, &quot;fill&quot;: true, &quot;fillColor&quot;: &quot;lightblue&quot;, &quot;fillOpacity&quot;: 0.2, &quot;fillRule&quot;: &quot;evenodd&quot;, &quot;lineCap&quot;: &quot;round&quot;, &quot;lineJoin&quot;: &quot;round&quot;, &quot;opacity&quot;: 1.0, &quot;radius&quot;: 4, &quot;stroke&quot;: true, &quot;weight&quot;: 3}\n",
       "            ).addTo(map_fe194cec328ac51b42fe8d32ca0e1fc5);\n",
       "        \n",
       "    \n",
       "        var popup_6790f90c90fb49afed66f9a3d4ce7e12 = L.popup({\n",
       "  &quot;maxWidth&quot;: &quot;100%&quot;,\n",
       "});\n",
       "\n",
       "        \n",
       "            \n",
       "                var html_f03ac583dd86fa28247d2dcab6142d37 = $(`&lt;div id=&quot;html_f03ac583dd86fa28247d2dcab6142d37&quot; style=&quot;width: 100.0%; height: 100.0%;&quot;&gt;📍 Point 7&lt;br&gt;Time: 15:58&lt;/div&gt;`)[0];\n",
       "                popup_6790f90c90fb49afed66f9a3d4ce7e12.setContent(html_f03ac583dd86fa28247d2dcab6142d37);\n",
       "            \n",
       "        \n",
       "\n",
       "        circle_marker_8b0c18e53d1bbedba17fc5e70e7a6f99.bindPopup(popup_6790f90c90fb49afed66f9a3d4ce7e12)\n",
       "        ;\n",
       "\n",
       "        \n",
       "    \n",
       "    \n",
       "            var circle_marker_444c2a84104ed57c3cf95fba4c39397e = L.circleMarker(\n",
       "                [47.608151409972194, -122.33502888771966],\n",
       "                {&quot;bubblingMouseEvents&quot;: true, &quot;color&quot;: &quot;blue&quot;, &quot;dashArray&quot;: null, &quot;dashOffset&quot;: null, &quot;fill&quot;: true, &quot;fillColor&quot;: &quot;lightblue&quot;, &quot;fillOpacity&quot;: 0.2, &quot;fillRule&quot;: &quot;evenodd&quot;, &quot;lineCap&quot;: &quot;round&quot;, &quot;lineJoin&quot;: &quot;round&quot;, &quot;opacity&quot;: 1.0, &quot;radius&quot;: 4, &quot;stroke&quot;: true, &quot;weight&quot;: 3}\n",
       "            ).addTo(map_fe194cec328ac51b42fe8d32ca0e1fc5);\n",
       "        \n",
       "    \n",
       "        var popup_b9877a9ef2d64b515ce6bd0e1cec7c55 = L.popup({\n",
       "  &quot;maxWidth&quot;: &quot;100%&quot;,\n",
       "});\n",
       "\n",
       "        \n",
       "            \n",
       "                var html_74d4c319d2d12abed29961b2c2cc043d = $(`&lt;div id=&quot;html_74d4c319d2d12abed29961b2c2cc043d&quot; style=&quot;width: 100.0%; height: 100.0%;&quot;&gt;📍 Point 8&lt;br&gt;Time: 16:08&lt;/div&gt;`)[0];\n",
       "                popup_b9877a9ef2d64b515ce6bd0e1cec7c55.setContent(html_74d4c319d2d12abed29961b2c2cc043d);\n",
       "            \n",
       "        \n",
       "\n",
       "        circle_marker_444c2a84104ed57c3cf95fba4c39397e.bindPopup(popup_b9877a9ef2d64b515ce6bd0e1cec7c55)\n",
       "        ;\n",
       "\n",
       "        \n",
       "    \n",
       "    \n",
       "            var circle_marker_71bf4d0f55cbdb86a4834a6b8dcaad57 = L.circleMarker(\n",
       "                [47.608687729483066, -122.33518300575531],\n",
       "                {&quot;bubblingMouseEvents&quot;: true, &quot;color&quot;: &quot;blue&quot;, &quot;dashArray&quot;: null, &quot;dashOffset&quot;: null, &quot;fill&quot;: true, &quot;fillColor&quot;: &quot;lightblue&quot;, &quot;fillOpacity&quot;: 0.2, &quot;fillRule&quot;: &quot;evenodd&quot;, &quot;lineCap&quot;: &quot;round&quot;, &quot;lineJoin&quot;: &quot;round&quot;, &quot;opacity&quot;: 1.0, &quot;radius&quot;: 4, &quot;stroke&quot;: true, &quot;weight&quot;: 3}\n",
       "            ).addTo(map_fe194cec328ac51b42fe8d32ca0e1fc5);\n",
       "        \n",
       "    \n",
       "        var popup_6c830df95ef66e3649ae7f16920d9c36 = L.popup({\n",
       "  &quot;maxWidth&quot;: &quot;100%&quot;,\n",
       "});\n",
       "\n",
       "        \n",
       "            \n",
       "                var html_882b55bf7f93f72e86c36fd484609dc0 = $(`&lt;div id=&quot;html_882b55bf7f93f72e86c36fd484609dc0&quot; style=&quot;width: 100.0%; height: 100.0%;&quot;&gt;📍 Point 9&lt;br&gt;Time: 15:49&lt;/div&gt;`)[0];\n",
       "                popup_6c830df95ef66e3649ae7f16920d9c36.setContent(html_882b55bf7f93f72e86c36fd484609dc0);\n",
       "            \n",
       "        \n",
       "\n",
       "        circle_marker_71bf4d0f55cbdb86a4834a6b8dcaad57.bindPopup(popup_6c830df95ef66e3649ae7f16920d9c36)\n",
       "        ;\n",
       "\n",
       "        \n",
       "    \n",
       "    \n",
       "            var circle_marker_b47d7215266a82e6d09cb6ae5dae9dae = L.circleMarker(\n",
       "                [47.608764117524096, -122.33519961800057],\n",
       "                {&quot;bubblingMouseEvents&quot;: true, &quot;color&quot;: &quot;blue&quot;, &quot;dashArray&quot;: null, &quot;dashOffset&quot;: null, &quot;fill&quot;: true, &quot;fillColor&quot;: &quot;lightblue&quot;, &quot;fillOpacity&quot;: 0.2, &quot;fillRule&quot;: &quot;evenodd&quot;, &quot;lineCap&quot;: &quot;round&quot;, &quot;lineJoin&quot;: &quot;round&quot;, &quot;opacity&quot;: 1.0, &quot;radius&quot;: 4, &quot;stroke&quot;: true, &quot;weight&quot;: 3}\n",
       "            ).addTo(map_fe194cec328ac51b42fe8d32ca0e1fc5);\n",
       "        \n",
       "    \n",
       "        var popup_25a6eebe7503e9e20183e467515bfb86 = L.popup({\n",
       "  &quot;maxWidth&quot;: &quot;100%&quot;,\n",
       "});\n",
       "\n",
       "        \n",
       "            \n",
       "                var html_97cbbeda7172824905b3e836bec8e05d = $(`&lt;div id=&quot;html_97cbbeda7172824905b3e836bec8e05d&quot; style=&quot;width: 100.0%; height: 100.0%;&quot;&gt;📍 Point 10&lt;br&gt;Time: 17:22&lt;/div&gt;`)[0];\n",
       "                popup_25a6eebe7503e9e20183e467515bfb86.setContent(html_97cbbeda7172824905b3e836bec8e05d);\n",
       "            \n",
       "        \n",
       "\n",
       "        circle_marker_b47d7215266a82e6d09cb6ae5dae9dae.bindPopup(popup_25a6eebe7503e9e20183e467515bfb86)\n",
       "        ;\n",
       "\n",
       "        \n",
       "    \n",
       "    \n",
       "            var circle_marker_82eb4d9362bd34025adc9357e1d37e45 = L.circleMarker(\n",
       "                [47.60889270257975, -122.33532521671354],\n",
       "                {&quot;bubblingMouseEvents&quot;: true, &quot;color&quot;: &quot;blue&quot;, &quot;dashArray&quot;: null, &quot;dashOffset&quot;: null, &quot;fill&quot;: true, &quot;fillColor&quot;: &quot;lightblue&quot;, &quot;fillOpacity&quot;: 0.2, &quot;fillRule&quot;: &quot;evenodd&quot;, &quot;lineCap&quot;: &quot;round&quot;, &quot;lineJoin&quot;: &quot;round&quot;, &quot;opacity&quot;: 1.0, &quot;radius&quot;: 4, &quot;stroke&quot;: true, &quot;weight&quot;: 3}\n",
       "            ).addTo(map_fe194cec328ac51b42fe8d32ca0e1fc5);\n",
       "        \n",
       "    \n",
       "        var popup_c26a9285692a6d3afc3b2be977387f3b = L.popup({\n",
       "  &quot;maxWidth&quot;: &quot;100%&quot;,\n",
       "});\n",
       "\n",
       "        \n",
       "            \n",
       "                var html_cadbe4adbf6406242157d4add6ced26d = $(`&lt;div id=&quot;html_cadbe4adbf6406242157d4add6ced26d&quot; style=&quot;width: 100.0%; height: 100.0%;&quot;&gt;📍 Point 11&lt;br&gt;Time: 17:43&lt;/div&gt;`)[0];\n",
       "                popup_c26a9285692a6d3afc3b2be977387f3b.setContent(html_cadbe4adbf6406242157d4add6ced26d);\n",
       "            \n",
       "        \n",
       "\n",
       "        circle_marker_82eb4d9362bd34025adc9357e1d37e45.bindPopup(popup_c26a9285692a6d3afc3b2be977387f3b)\n",
       "        ;\n",
       "\n",
       "        \n",
       "    \n",
       "    \n",
       "            var circle_marker_a0811f343964bd3bfdae2ec5469f322f = L.circleMarker(\n",
       "                [47.60912527262461, -122.33519347029672],\n",
       "                {&quot;bubblingMouseEvents&quot;: true, &quot;color&quot;: &quot;blue&quot;, &quot;dashArray&quot;: null, &quot;dashOffset&quot;: null, &quot;fill&quot;: true, &quot;fillColor&quot;: &quot;lightblue&quot;, &quot;fillOpacity&quot;: 0.2, &quot;fillRule&quot;: &quot;evenodd&quot;, &quot;lineCap&quot;: &quot;round&quot;, &quot;lineJoin&quot;: &quot;round&quot;, &quot;opacity&quot;: 1.0, &quot;radius&quot;: 4, &quot;stroke&quot;: true, &quot;weight&quot;: 3}\n",
       "            ).addTo(map_fe194cec328ac51b42fe8d32ca0e1fc5);\n",
       "        \n",
       "    \n",
       "        var popup_56fd93d2b2e8b6fcf6d24d39fb3bcc00 = L.popup({\n",
       "  &quot;maxWidth&quot;: &quot;100%&quot;,\n",
       "});\n",
       "\n",
       "        \n",
       "            \n",
       "                var html_806fad9d7723ee0d30a4ff0910fe7473 = $(`&lt;div id=&quot;html_806fad9d7723ee0d30a4ff0910fe7473&quot; style=&quot;width: 100.0%; height: 100.0%;&quot;&gt;📍 Point 12&lt;br&gt;Time: 16:04&lt;/div&gt;`)[0];\n",
       "                popup_56fd93d2b2e8b6fcf6d24d39fb3bcc00.setContent(html_806fad9d7723ee0d30a4ff0910fe7473);\n",
       "            \n",
       "        \n",
       "\n",
       "        circle_marker_a0811f343964bd3bfdae2ec5469f322f.bindPopup(popup_56fd93d2b2e8b6fcf6d24d39fb3bcc00)\n",
       "        ;\n",
       "\n",
       "        \n",
       "    \n",
       "    \n",
       "            var circle_marker_d4464d916c7063b0bda33493a0588b64 = L.circleMarker(\n",
       "                [47.60887157578555, -122.33478300194683],\n",
       "                {&quot;bubblingMouseEvents&quot;: true, &quot;color&quot;: &quot;blue&quot;, &quot;dashArray&quot;: null, &quot;dashOffset&quot;: null, &quot;fill&quot;: true, &quot;fillColor&quot;: &quot;lightblue&quot;, &quot;fillOpacity&quot;: 0.2, &quot;fillRule&quot;: &quot;evenodd&quot;, &quot;lineCap&quot;: &quot;round&quot;, &quot;lineJoin&quot;: &quot;round&quot;, &quot;opacity&quot;: 1.0, &quot;radius&quot;: 4, &quot;stroke&quot;: true, &quot;weight&quot;: 3}\n",
       "            ).addTo(map_fe194cec328ac51b42fe8d32ca0e1fc5);\n",
       "        \n",
       "    \n",
       "        var popup_c08d20daae345a021bd7d38c55c6a39b = L.popup({\n",
       "  &quot;maxWidth&quot;: &quot;100%&quot;,\n",
       "});\n",
       "\n",
       "        \n",
       "            \n",
       "                var html_44dbb9af40ad3282b42506b3bea13728 = $(`&lt;div id=&quot;html_44dbb9af40ad3282b42506b3bea13728&quot; style=&quot;width: 100.0%; height: 100.0%;&quot;&gt;📍 Point 13&lt;br&gt;Time: 18:25&lt;/div&gt;`)[0];\n",
       "                popup_c08d20daae345a021bd7d38c55c6a39b.setContent(html_44dbb9af40ad3282b42506b3bea13728);\n",
       "            \n",
       "        \n",
       "\n",
       "        circle_marker_d4464d916c7063b0bda33493a0588b64.bindPopup(popup_c08d20daae345a021bd7d38c55c6a39b)\n",
       "        ;\n",
       "\n",
       "        \n",
       "    \n",
       "    \n",
       "            var circle_marker_7b1a16517bb998808120587371e83e87 = L.circleMarker(\n",
       "                [47.6093015654782, -122.33479684552117],\n",
       "                {&quot;bubblingMouseEvents&quot;: true, &quot;color&quot;: &quot;blue&quot;, &quot;dashArray&quot;: null, &quot;dashOffset&quot;: null, &quot;fill&quot;: true, &quot;fillColor&quot;: &quot;lightblue&quot;, &quot;fillOpacity&quot;: 0.2, &quot;fillRule&quot;: &quot;evenodd&quot;, &quot;lineCap&quot;: &quot;round&quot;, &quot;lineJoin&quot;: &quot;round&quot;, &quot;opacity&quot;: 1.0, &quot;radius&quot;: 4, &quot;stroke&quot;: true, &quot;weight&quot;: 3}\n",
       "            ).addTo(map_fe194cec328ac51b42fe8d32ca0e1fc5);\n",
       "        \n",
       "    \n",
       "        var popup_3e26edadd6a396dcf6ac1179bd1f7224 = L.popup({\n",
       "  &quot;maxWidth&quot;: &quot;100%&quot;,\n",
       "});\n",
       "\n",
       "        \n",
       "            \n",
       "                var html_8e47258567ce8f050e71b2f2b2c79776 = $(`&lt;div id=&quot;html_8e47258567ce8f050e71b2f2b2c79776&quot; style=&quot;width: 100.0%; height: 100.0%;&quot;&gt;📍 Point 14&lt;br&gt;Time: 17:50&lt;/div&gt;`)[0];\n",
       "                popup_3e26edadd6a396dcf6ac1179bd1f7224.setContent(html_8e47258567ce8f050e71b2f2b2c79776);\n",
       "            \n",
       "        \n",
       "\n",
       "        circle_marker_7b1a16517bb998808120587371e83e87.bindPopup(popup_3e26edadd6a396dcf6ac1179bd1f7224)\n",
       "        ;\n",
       "\n",
       "        \n",
       "    \n",
       "    \n",
       "            var circle_marker_d9b09847927ebc4916418e9946c5ce8c = L.circleMarker(\n",
       "                [47.60902865541471, -122.33487381161049],\n",
       "                {&quot;bubblingMouseEvents&quot;: true, &quot;color&quot;: &quot;blue&quot;, &quot;dashArray&quot;: null, &quot;dashOffset&quot;: null, &quot;fill&quot;: true, &quot;fillColor&quot;: &quot;lightblue&quot;, &quot;fillOpacity&quot;: 0.2, &quot;fillRule&quot;: &quot;evenodd&quot;, &quot;lineCap&quot;: &quot;round&quot;, &quot;lineJoin&quot;: &quot;round&quot;, &quot;opacity&quot;: 1.0, &quot;radius&quot;: 4, &quot;stroke&quot;: true, &quot;weight&quot;: 3}\n",
       "            ).addTo(map_fe194cec328ac51b42fe8d32ca0e1fc5);\n",
       "        \n",
       "    \n",
       "        var popup_a8ae96558ebe98e1e1555183c4028435 = L.popup({\n",
       "  &quot;maxWidth&quot;: &quot;100%&quot;,\n",
       "});\n",
       "\n",
       "        \n",
       "            \n",
       "                var html_929e22b4c13995e98feda30ad723d770 = $(`&lt;div id=&quot;html_929e22b4c13995e98feda30ad723d770&quot; style=&quot;width: 100.0%; height: 100.0%;&quot;&gt;📍 Point 15&lt;br&gt;Time: 19:52&lt;/div&gt;`)[0];\n",
       "                popup_a8ae96558ebe98e1e1555183c4028435.setContent(html_929e22b4c13995e98feda30ad723d770);\n",
       "            \n",
       "        \n",
       "\n",
       "        circle_marker_d9b09847927ebc4916418e9946c5ce8c.bindPopup(popup_a8ae96558ebe98e1e1555183c4028435)\n",
       "        ;\n",
       "\n",
       "        \n",
       "    \n",
       "&lt;/script&gt;\n",
       "&lt;/html&gt;\" style=\"position:absolute;width:100%;height:100%;left:0;top:0;border:none !important;\" allowfullscreen webkitallowfullscreen mozallowfullscreen></iframe></div></div>"
      ],
      "text/plain": [
       "<folium.folium.Map at 0x24abe73ac50>"
      ]
     },
     "execution_count": 5,
     "metadata": {},
     "output_type": "execute_result"
    }
   ],
   "source": [
    "# Calculate the center point for the map\n",
    "center_lat = path_df['Latitude'].mean()\n",
    "center_lon = path_df['Longitude'].mean()\n",
    "\n",
    "# Create the base map\n",
    "monkey_map = folium.Map(\n",
    "    location=[center_lat, center_lon],\n",
    "    zoom_start=17,\n",
    "    tiles='OpenStreetMap'\n",
    ")\n",
    "\n",
    "# Add the journey path\n",
    "path_coordinates = list(zip(path_df['Latitude'], path_df['Longitude']))\n",
    "folium.PolyLine(\n",
    "    locations=path_coordinates,\n",
    "    color='blue',\n",
    "    weight=3,\n",
    "    opacity=0.8,\n",
    "    popup='monkey\\'s Journey Path'\n",
    ").add_to(monkey_map)\n",
    "\n",
    "# Add start point\n",
    "folium.Marker(\n",
    "    location=[path_df.iloc[0]['Latitude'], path_df.iloc[0]['Longitude']],\n",
    "    popup=f\"🏁 Journey Start<br>Time: {path_df.iloc[0]['Time']}\",\n",
    "    icon=folium.Icon(color='green', icon='play')\n",
    ").add_to(monkey_map)\n",
    "\n",
    "# Add end point\n",
    "folium.Marker(\n",
    "    location=[path_df.iloc[-1]['Latitude'], path_df.iloc[-1]['Longitude']],\n",
    "    popup=f\"🏁 Journey End<br>Time: {path_df.iloc[-1]['Time']}\",\n",
    "    icon=folium.Icon(color='red', icon='stop')\n",
    ").add_to(monkey_map)\n",
    "\n",
    "# Add path points\n",
    "for _, point in path_df.iterrows():\n",
    "    folium.CircleMarker(\n",
    "        location=[point['Latitude'], point['Longitude']],\n",
    "        radius=4,\n",
    "        popup=f\"📍 Point {point['Point']}<br>Time: {point['Time']}\",\n",
    "        color='blue',\n",
    "        fill=True,\n",
    "        fillColor='lightblue'\n",
    "    ).add_to(monkey_map)\n",
    "\n",
    "print(\"🗺️ Base map with journey path created!\")\n",
    "monkey_map"
   ]
  },
  {
   "cell_type": "markdown",
   "id": "0fc429c7",
   "metadata": {},
   "source": [
    "## Customize Map Visualization\n",
    "\n",
    "Now let's enhance our map by adding the activity markers with custom icons and colors, plus create an additional visualization showing monkey's health statistics."
   ]
  },
  {
   "cell_type": "code",
   "execution_count": 6,
   "id": "cb619b62",
   "metadata": {},
   "outputs": [
    {
     "name": "stdout",
     "output_type": "stream",
     "text": [
      "🎨 Enhanced map with comprehensive activity icons created!\n",
      "📊 Total activity types supported: 56\n"
     ]
    },
    {
     "data": {
      "text/html": [
       "<div style=\"width:100%;\"><div style=\"position:relative;width:100%;height:0;padding-bottom:60%;\"><span style=\"color:#565656\">Make this Notebook Trusted to load map: File -> Trust Notebook</span><iframe srcdoc=\"&lt;!DOCTYPE html&gt;\n",
       "&lt;html&gt;\n",
       "&lt;head&gt;\n",
       "    \n",
       "    &lt;meta http-equiv=&quot;content-type&quot; content=&quot;text/html; charset=UTF-8&quot; /&gt;\n",
       "    &lt;script src=&quot;https://cdn.jsdelivr.net/npm/leaflet@1.9.3/dist/leaflet.js&quot;&gt;&lt;/script&gt;\n",
       "    &lt;script src=&quot;https://code.jquery.com/jquery-3.7.1.min.js&quot;&gt;&lt;/script&gt;\n",
       "    &lt;script src=&quot;https://cdn.jsdelivr.net/npm/bootstrap@5.2.2/dist/js/bootstrap.bundle.min.js&quot;&gt;&lt;/script&gt;\n",
       "    &lt;script src=&quot;https://cdnjs.cloudflare.com/ajax/libs/Leaflet.awesome-markers/2.0.2/leaflet.awesome-markers.js&quot;&gt;&lt;/script&gt;\n",
       "    &lt;link rel=&quot;stylesheet&quot; href=&quot;https://cdn.jsdelivr.net/npm/leaflet@1.9.3/dist/leaflet.css&quot;/&gt;\n",
       "    &lt;link rel=&quot;stylesheet&quot; href=&quot;https://cdn.jsdelivr.net/npm/bootstrap@5.2.2/dist/css/bootstrap.min.css&quot;/&gt;\n",
       "    &lt;link rel=&quot;stylesheet&quot; href=&quot;https://netdna.bootstrapcdn.com/bootstrap/3.0.0/css/bootstrap-glyphicons.css&quot;/&gt;\n",
       "    &lt;link rel=&quot;stylesheet&quot; href=&quot;https://cdn.jsdelivr.net/npm/@fortawesome/fontawesome-free@6.2.0/css/all.min.css&quot;/&gt;\n",
       "    &lt;link rel=&quot;stylesheet&quot; href=&quot;https://cdnjs.cloudflare.com/ajax/libs/Leaflet.awesome-markers/2.0.2/leaflet.awesome-markers.css&quot;/&gt;\n",
       "    &lt;link rel=&quot;stylesheet&quot; href=&quot;https://cdn.jsdelivr.net/gh/python-visualization/folium/folium/templates/leaflet.awesome.rotate.min.css&quot;/&gt;\n",
       "    \n",
       "            &lt;meta name=&quot;viewport&quot; content=&quot;width=device-width,\n",
       "                initial-scale=1.0, maximum-scale=1.0, user-scalable=no&quot; /&gt;\n",
       "            &lt;style&gt;\n",
       "                #map_7a6f8f3a83787302414dfaaa692e9500 {\n",
       "                    position: relative;\n",
       "                    width: 100.0%;\n",
       "                    height: 100.0%;\n",
       "                    left: 0.0%;\n",
       "                    top: 0.0%;\n",
       "                }\n",
       "                .leaflet-container { font-size: 1rem; }\n",
       "            &lt;/style&gt;\n",
       "\n",
       "            &lt;style&gt;html, body {\n",
       "                width: 100%;\n",
       "                height: 100%;\n",
       "                margin: 0;\n",
       "                padding: 0;\n",
       "            }\n",
       "            &lt;/style&gt;\n",
       "\n",
       "            &lt;style&gt;#map {\n",
       "                position:absolute;\n",
       "                top:0;\n",
       "                bottom:0;\n",
       "                right:0;\n",
       "                left:0;\n",
       "                }\n",
       "            &lt;/style&gt;\n",
       "\n",
       "            &lt;script&gt;\n",
       "                L_NO_TOUCH = false;\n",
       "                L_DISABLE_3D = false;\n",
       "            &lt;/script&gt;\n",
       "\n",
       "        \n",
       "&lt;/head&gt;\n",
       "&lt;body&gt;\n",
       "    \n",
       "    \n",
       "            &lt;div class=&quot;folium-map&quot; id=&quot;map_7a6f8f3a83787302414dfaaa692e9500&quot; &gt;&lt;/div&gt;\n",
       "        \n",
       "&lt;/body&gt;\n",
       "&lt;script&gt;\n",
       "    \n",
       "    \n",
       "            var map_7a6f8f3a83787302414dfaaa692e9500 = L.map(\n",
       "                &quot;map_7a6f8f3a83787302414dfaaa692e9500&quot;,\n",
       "                {\n",
       "                    center: [47.60839262154914, -122.33529203543296],\n",
       "                    crs: L.CRS.EPSG3857,\n",
       "                    ...{\n",
       "  &quot;zoom&quot;: 17,\n",
       "  &quot;zoomControl&quot;: true,\n",
       "  &quot;preferCanvas&quot;: false,\n",
       "}\n",
       "\n",
       "                }\n",
       "            );\n",
       "\n",
       "            \n",
       "\n",
       "        \n",
       "    \n",
       "            var tile_layer_0e8dfae938cc2f4285ba7e2e9ca056a7 = L.tileLayer(\n",
       "                &quot;https://tile.openstreetmap.org/{z}/{x}/{y}.png&quot;,\n",
       "                {\n",
       "  &quot;minZoom&quot;: 0,\n",
       "  &quot;maxZoom&quot;: 19,\n",
       "  &quot;maxNativeZoom&quot;: 19,\n",
       "  &quot;noWrap&quot;: false,\n",
       "  &quot;attribution&quot;: &quot;\\u0026copy; \\u003ca href=\\&quot;https://www.openstreetmap.org/copyright\\&quot;\\u003eOpenStreetMap\\u003c/a\\u003e contributors&quot;,\n",
       "  &quot;subdomains&quot;: &quot;abc&quot;,\n",
       "  &quot;detectRetina&quot;: false,\n",
       "  &quot;tms&quot;: false,\n",
       "  &quot;opacity&quot;: 1,\n",
       "}\n",
       "\n",
       "            );\n",
       "        \n",
       "    \n",
       "            tile_layer_0e8dfae938cc2f4285ba7e2e9ca056a7.addTo(map_7a6f8f3a83787302414dfaaa692e9500);\n",
       "        \n",
       "    \n",
       "            var poly_line_a7d124ce98e9f2c852d9565e5d6eefbf = L.polyline(\n",
       "                [[47.608013, -122.335167], [47.60781033913533, -122.33536266643291], [47.60780426549518, -122.33536289738302], [47.60779677992401, -122.3358123554838], [47.607970038580454, -122.3359569380382], [47.607635192954305, -122.33564808483166], [47.60803667828576, -122.33568673176046], [47.608151409972194, -122.33502888771966], [47.608687729483066, -122.33518300575531], [47.608764117524096, -122.33519961800057], [47.60889270257975, -122.33532521671354], [47.60912527262461, -122.33519347029672], [47.60887157578555, -122.33478300194683], [47.6093015654782, -122.33479684552117], [47.60902865541471, -122.33487381161049]],\n",
       "                {&quot;bubblingMouseEvents&quot;: true, &quot;color&quot;: &quot;purple&quot;, &quot;dashArray&quot;: null, &quot;dashOffset&quot;: null, &quot;fill&quot;: false, &quot;fillColor&quot;: &quot;purple&quot;, &quot;fillOpacity&quot;: 0.2, &quot;fillRule&quot;: &quot;evenodd&quot;, &quot;lineCap&quot;: &quot;round&quot;, &quot;lineJoin&quot;: &quot;round&quot;, &quot;noClip&quot;: false, &quot;opacity&quot;: 0.7, &quot;smoothFactor&quot;: 1.0, &quot;stroke&quot;: true, &quot;weight&quot;: 4}\n",
       "            ).addTo(map_7a6f8f3a83787302414dfaaa692e9500);\n",
       "        \n",
       "    \n",
       "        var popup_f5181f1275293dbdb5e00d5a96e8cdb6 = L.popup({\n",
       "  &quot;maxWidth&quot;: &quot;100%&quot;,\n",
       "});\n",
       "\n",
       "        \n",
       "            \n",
       "                var html_c6c053acbb5bc0f238fe45679109a9e4 = $(`&lt;div id=&quot;html_c6c053acbb5bc0f238fe45679109a9e4&quot; style=&quot;width: 100.0%; height: 100.0%;&quot;&gt;🐒 monkey&#x27;s Adventure Path&lt;/div&gt;`)[0];\n",
       "                popup_f5181f1275293dbdb5e00d5a96e8cdb6.setContent(html_c6c053acbb5bc0f238fe45679109a9e4);\n",
       "            \n",
       "        \n",
       "\n",
       "        poly_line_a7d124ce98e9f2c852d9565e5d6eefbf.bindPopup(popup_f5181f1275293dbdb5e00d5a96e8cdb6)\n",
       "        ;\n",
       "\n",
       "        \n",
       "    \n",
       "    \n",
       "            var marker_425e666c987ebdea8408454978a3c771 = L.marker(\n",
       "                [47.60803667828576, -122.33568673176046],\n",
       "                {\n",
       "}\n",
       "            ).addTo(map_7a6f8f3a83787302414dfaaa692e9500);\n",
       "        \n",
       "    \n",
       "            var icon_b586a4499477682901315a339d0b0aee = L.AwesomeMarkers.icon(\n",
       "                {\n",
       "  &quot;markerColor&quot;: &quot;black&quot;,\n",
       "  &quot;iconColor&quot;: &quot;white&quot;,\n",
       "  &quot;icon&quot;: &quot;camera&quot;,\n",
       "  &quot;prefix&quot;: &quot;glyphicon&quot;,\n",
       "  &quot;extraClasses&quot;: &quot;fa-rotate-0&quot;,\n",
       "}\n",
       "            );\n",
       "        \n",
       "    \n",
       "        var popup_7ca4a062a0c49f6cc5072d621b09bc75 = L.popup({\n",
       "  &quot;maxWidth&quot;: &quot;100%&quot;,\n",
       "});\n",
       "\n",
       "        \n",
       "            \n",
       "                var html_5870539380d44c476bcf395744ebbec5 = $(`&lt;div id=&quot;html_5870539380d44c476bcf395744ebbec5&quot; style=&quot;width: 100.0%; height: 100.0%;&quot;&gt;         &lt;b&gt;🎯 iPhone Photography&lt;/b&gt;&lt;br&gt;         📝 Captured stunning photos with the latest iPhone camera&lt;br&gt;         ⏰ Time: 15:58&lt;br&gt;         ⏳ Duration: 00:26:00&lt;br&gt;         ⚡ Energy Change: +4         &lt;/div&gt;`)[0];\n",
       "                popup_7ca4a062a0c49f6cc5072d621b09bc75.setContent(html_5870539380d44c476bcf395744ebbec5);\n",
       "            \n",
       "        \n",
       "\n",
       "        marker_425e666c987ebdea8408454978a3c771.bindPopup(popup_7ca4a062a0c49f6cc5072d621b09bc75)\n",
       "        ;\n",
       "\n",
       "        \n",
       "    \n",
       "    \n",
       "                marker_425e666c987ebdea8408454978a3c771.setIcon(icon_b586a4499477682901315a339d0b0aee);\n",
       "            \n",
       "    \n",
       "            var marker_15c73ceff561b451a03491033566fa66 = L.marker(\n",
       "                [47.608151409972194, -122.33502888771966],\n",
       "                {\n",
       "}\n",
       "            ).addTo(map_7a6f8f3a83787302414dfaaa692e9500);\n",
       "        \n",
       "    \n",
       "            var icon_611e873a9f67ca5af1263cc8f2569fa0 = L.AwesomeMarkers.icon(\n",
       "                {\n",
       "  &quot;markerColor&quot;: &quot;blue&quot;,\n",
       "  &quot;iconColor&quot;: &quot;white&quot;,\n",
       "  &quot;icon&quot;: &quot;ship&quot;,\n",
       "  &quot;prefix&quot;: &quot;glyphicon&quot;,\n",
       "  &quot;extraClasses&quot;: &quot;fa-rotate-0&quot;,\n",
       "}\n",
       "            );\n",
       "        \n",
       "    \n",
       "        var popup_d2801fd401aa17c34174baa64185ddd1 = L.popup({\n",
       "  &quot;maxWidth&quot;: &quot;100%&quot;,\n",
       "});\n",
       "\n",
       "        \n",
       "            \n",
       "                var html_653f90fda6f600dda47177febf7ed779 = $(`&lt;div id=&quot;html_653f90fda6f600dda47177febf7ed779&quot; style=&quot;width: 100.0%; height: 100.0%;&quot;&gt;         &lt;b&gt;🎯 Waterfront Stroll&lt;/b&gt;&lt;br&gt;         📝 Enjoyed a peaceful walk along the Seattle waterfront&lt;br&gt;         ⏰ Time: 16:08&lt;br&gt;         ⏳ Duration: 00:36:00&lt;br&gt;         ⚡ Energy Change: +12         &lt;/div&gt;`)[0];\n",
       "                popup_d2801fd401aa17c34174baa64185ddd1.setContent(html_653f90fda6f600dda47177febf7ed779);\n",
       "            \n",
       "        \n",
       "\n",
       "        marker_15c73ceff561b451a03491033566fa66.bindPopup(popup_d2801fd401aa17c34174baa64185ddd1)\n",
       "        ;\n",
       "\n",
       "        \n",
       "    \n",
       "    \n",
       "                marker_15c73ceff561b451a03491033566fa66.setIcon(icon_611e873a9f67ca5af1263cc8f2569fa0);\n",
       "            \n",
       "    \n",
       "            var marker_f2f5014de5de61a745cd99121d2f59bd = L.marker(\n",
       "                [47.608687729483066, -122.33518300575531],\n",
       "                {\n",
       "}\n",
       "            ).addTo(map_7a6f8f3a83787302414dfaaa692e9500);\n",
       "        \n",
       "    \n",
       "            var icon_da2124266521311999f9138d55485192 = L.AwesomeMarkers.icon(\n",
       "                {\n",
       "  &quot;markerColor&quot;: &quot;green&quot;,\n",
       "  &quot;iconColor&quot;: &quot;white&quot;,\n",
       "  &quot;icon&quot;: &quot;tree&quot;,\n",
       "  &quot;prefix&quot;: &quot;glyphicon&quot;,\n",
       "  &quot;extraClasses&quot;: &quot;fa-rotate-0&quot;,\n",
       "}\n",
       "            );\n",
       "        \n",
       "    \n",
       "        var popup_5f6e33458043b97ce92b039c2f82aa08 = L.popup({\n",
       "  &quot;maxWidth&quot;: &quot;100%&quot;,\n",
       "});\n",
       "\n",
       "        \n",
       "            \n",
       "                var html_d69ed81476f450605735355b7b9837ae = $(`&lt;div id=&quot;html_d69ed81476f450605735355b7b9837ae&quot; style=&quot;width: 100.0%; height: 100.0%;&quot;&gt;         &lt;b&gt;🎯 Climbing&lt;/b&gt;&lt;br&gt;         📝 Climbed a tall tree to get a better view&lt;br&gt;         ⏰ Time: 15:49&lt;br&gt;         ⏳ Duration: 00:07:00&lt;br&gt;         ⚡ Energy Change: -15         &lt;/div&gt;`)[0];\n",
       "                popup_5f6e33458043b97ce92b039c2f82aa08.setContent(html_d69ed81476f450605735355b7b9837ae);\n",
       "            \n",
       "        \n",
       "\n",
       "        marker_f2f5014de5de61a745cd99121d2f59bd.bindPopup(popup_5f6e33458043b97ce92b039c2f82aa08)\n",
       "        ;\n",
       "\n",
       "        \n",
       "    \n",
       "    \n",
       "                marker_f2f5014de5de61a745cd99121d2f59bd.setIcon(icon_da2124266521311999f9138d55485192);\n",
       "            \n",
       "    \n",
       "            var marker_494cff714a5c4d94457a9dbb9e91c0d6 = L.marker(\n",
       "                [47.608764117524096, -122.33519961800057],\n",
       "                {\n",
       "}\n",
       "            ).addTo(map_7a6f8f3a83787302414dfaaa692e9500);\n",
       "        \n",
       "    \n",
       "            var icon_cc88c227fc84ac4d7d09ec13ab06044b = L.AwesomeMarkers.icon(\n",
       "                {\n",
       "  &quot;markerColor&quot;: &quot;green&quot;,\n",
       "  &quot;iconColor&quot;: &quot;white&quot;,\n",
       "  &quot;icon&quot;: &quot;tree&quot;,\n",
       "  &quot;prefix&quot;: &quot;glyphicon&quot;,\n",
       "  &quot;extraClasses&quot;: &quot;fa-rotate-0&quot;,\n",
       "}\n",
       "            );\n",
       "        \n",
       "    \n",
       "        var popup_406fc8ebed5e60e92cd5b97852392c18 = L.popup({\n",
       "  &quot;maxWidth&quot;: &quot;100%&quot;,\n",
       "});\n",
       "\n",
       "        \n",
       "            \n",
       "                var html_eca1f2d1191e0fb8e71ac7ec2b469779 = $(`&lt;div id=&quot;html_eca1f2d1191e0fb8e71ac7ec2b469779&quot; style=&quot;width: 100.0%; height: 100.0%;&quot;&gt;         &lt;b&gt;🎯 Climbing&lt;/b&gt;&lt;br&gt;         📝 Climbed a tall tree to get a better view&lt;br&gt;         ⏰ Time: 17:22&lt;br&gt;         ⏳ Duration: 00:08:00&lt;br&gt;         ⚡ Energy Change: -10         &lt;/div&gt;`)[0];\n",
       "                popup_406fc8ebed5e60e92cd5b97852392c18.setContent(html_eca1f2d1191e0fb8e71ac7ec2b469779);\n",
       "            \n",
       "        \n",
       "\n",
       "        marker_494cff714a5c4d94457a9dbb9e91c0d6.bindPopup(popup_406fc8ebed5e60e92cd5b97852392c18)\n",
       "        ;\n",
       "\n",
       "        \n",
       "    \n",
       "    \n",
       "                marker_494cff714a5c4d94457a9dbb9e91c0d6.setIcon(icon_cc88c227fc84ac4d7d09ec13ab06044b);\n",
       "            \n",
       "    \n",
       "            var marker_48a3b9acc1d6c97f42affd19c5fb4a98 = L.marker(\n",
       "                [47.60912527262461, -122.33519347029672],\n",
       "                {\n",
       "}\n",
       "            ).addTo(map_7a6f8f3a83787302414dfaaa692e9500);\n",
       "        \n",
       "    \n",
       "            var icon_a12eb0a3aeb72a6618416215e11cd887 = L.AwesomeMarkers.icon(\n",
       "                {\n",
       "  &quot;markerColor&quot;: &quot;gray&quot;,\n",
       "  &quot;iconColor&quot;: &quot;white&quot;,\n",
       "  &quot;icon&quot;: &quot;eye&quot;,\n",
       "  &quot;prefix&quot;: &quot;glyphicon&quot;,\n",
       "  &quot;extraClasses&quot;: &quot;fa-rotate-0&quot;,\n",
       "}\n",
       "            );\n",
       "        \n",
       "    \n",
       "        var popup_c5a3bb30df9ba822cc6e017be7dfaa8f = L.popup({\n",
       "  &quot;maxWidth&quot;: &quot;100%&quot;,\n",
       "});\n",
       "\n",
       "        \n",
       "            \n",
       "                var html_f292b1e500efb8ef98d18d2133fb836f = $(`&lt;div id=&quot;html_f292b1e500efb8ef98d18d2133fb836f&quot; style=&quot;width: 100.0%; height: 100.0%;&quot;&gt;         &lt;b&gt;🎯 Watching&lt;/b&gt;&lt;br&gt;         📝 Sat quietly observing the surrounding environment&lt;br&gt;         ⏰ Time: 16:04&lt;br&gt;         ⏳ Duration: 00:09:00&lt;br&gt;         ⚡ Energy Change: +5         &lt;/div&gt;`)[0];\n",
       "                popup_c5a3bb30df9ba822cc6e017be7dfaa8f.setContent(html_f292b1e500efb8ef98d18d2133fb836f);\n",
       "            \n",
       "        \n",
       "\n",
       "        marker_48a3b9acc1d6c97f42affd19c5fb4a98.bindPopup(popup_c5a3bb30df9ba822cc6e017be7dfaa8f)\n",
       "        ;\n",
       "\n",
       "        \n",
       "    \n",
       "    \n",
       "                marker_48a3b9acc1d6c97f42affd19c5fb4a98.setIcon(icon_a12eb0a3aeb72a6618416215e11cd887);\n",
       "            \n",
       "    \n",
       "            var marker_ffcd850656cacbe2c86ef6d24d40d21e = L.marker(\n",
       "                [47.608013, -122.335167],\n",
       "                {\n",
       "}\n",
       "            ).addTo(map_7a6f8f3a83787302414dfaaa692e9500);\n",
       "        \n",
       "    \n",
       "            var icon_efb2e9c2ef25cfe7d5b99d428631b51f = L.AwesomeMarkers.icon(\n",
       "                {\n",
       "  &quot;markerColor&quot;: &quot;green&quot;,\n",
       "  &quot;iconColor&quot;: &quot;white&quot;,\n",
       "  &quot;icon&quot;: &quot;play&quot;,\n",
       "  &quot;prefix&quot;: &quot;fa&quot;,\n",
       "  &quot;extraClasses&quot;: &quot;fa-rotate-0&quot;,\n",
       "}\n",
       "            );\n",
       "        \n",
       "    \n",
       "        var popup_5e49a600f4b1f04b38f4f3cbdd796721 = L.popup({\n",
       "  &quot;maxWidth&quot;: &quot;100%&quot;,\n",
       "});\n",
       "\n",
       "        \n",
       "            \n",
       "                var html_a23ab81adac413040e6f9f4429d7898c = $(`&lt;div id=&quot;html_a23ab81adac413040e6f9f4429d7898c&quot; style=&quot;width: 100.0%; height: 100.0%;&quot;&gt;🏁 monkey&#x27;s Journey Begins!&lt;/div&gt;`)[0];\n",
       "                popup_5e49a600f4b1f04b38f4f3cbdd796721.setContent(html_a23ab81adac413040e6f9f4429d7898c);\n",
       "            \n",
       "        \n",
       "\n",
       "        marker_ffcd850656cacbe2c86ef6d24d40d21e.bindPopup(popup_5e49a600f4b1f04b38f4f3cbdd796721)\n",
       "        ;\n",
       "\n",
       "        \n",
       "    \n",
       "    \n",
       "                marker_ffcd850656cacbe2c86ef6d24d40d21e.setIcon(icon_efb2e9c2ef25cfe7d5b99d428631b51f);\n",
       "            \n",
       "    \n",
       "            var marker_f626d32497a9356a8e98698c6bdc6aab = L.marker(\n",
       "                [47.60902865541471, -122.33487381161049],\n",
       "                {\n",
       "}\n",
       "            ).addTo(map_7a6f8f3a83787302414dfaaa692e9500);\n",
       "        \n",
       "    \n",
       "            var icon_a784237e4f63e2585b4516facb62d09e = L.AwesomeMarkers.icon(\n",
       "                {\n",
       "  &quot;markerColor&quot;: &quot;red&quot;,\n",
       "  &quot;iconColor&quot;: &quot;white&quot;,\n",
       "  &quot;icon&quot;: &quot;stop&quot;,\n",
       "  &quot;prefix&quot;: &quot;fa&quot;,\n",
       "  &quot;extraClasses&quot;: &quot;fa-rotate-0&quot;,\n",
       "}\n",
       "            );\n",
       "        \n",
       "    \n",
       "        var popup_59064b3cabd172daaf77490a001eb761 = L.popup({\n",
       "  &quot;maxWidth&quot;: &quot;100%&quot;,\n",
       "});\n",
       "\n",
       "        \n",
       "            \n",
       "                var html_d96a87a7ed69b0aedfece73f21296db7 = $(`&lt;div id=&quot;html_d96a87a7ed69b0aedfece73f21296db7&quot; style=&quot;width: 100.0%; height: 100.0%;&quot;&gt;🏁 Journey Complete!&lt;/div&gt;`)[0];\n",
       "                popup_59064b3cabd172daaf77490a001eb761.setContent(html_d96a87a7ed69b0aedfece73f21296db7);\n",
       "            \n",
       "        \n",
       "\n",
       "        marker_f626d32497a9356a8e98698c6bdc6aab.bindPopup(popup_59064b3cabd172daaf77490a001eb761)\n",
       "        ;\n",
       "\n",
       "        \n",
       "    \n",
       "    \n",
       "                marker_f626d32497a9356a8e98698c6bdc6aab.setIcon(icon_a784237e4f63e2585b4516facb62d09e);\n",
       "            \n",
       "&lt;/script&gt;\n",
       "&lt;/html&gt;\" style=\"position:absolute;width:100%;height:100%;left:0;top:0;border:none !important;\" allowfullscreen webkitallowfullscreen mozallowfullscreen></iframe></div></div>"
      ],
      "text/plain": [
       "<folium.folium.Map at 0x24abe721c90>"
      ]
     },
     "execution_count": 6,
     "metadata": {},
     "output_type": "execute_result"
    }
   ],
   "source": [
    "# Create enhanced map with activities\n",
    "enhanced_map = folium.Map(\n",
    "    location=[center_lat, center_lon],\n",
    "    zoom_start=17,\n",
    "    tiles='OpenStreetMap'\n",
    ")\n",
    "\n",
    "# Add the journey path\n",
    "folium.PolyLine(\n",
    "    locations=path_coordinates,\n",
    "    color='purple',\n",
    "    weight=4,\n",
    "    opacity=0.7,\n",
    "    popup='🐒 monkey\\'s Adventure Path'\n",
    ").add_to(enhanced_map)\n",
    "\n",
    "# Define activity icons and colors based on MonkeyLocationService.cs activity types\n",
    "activity_icons = {\n",
    "    # Common activities\n",
    "    'Foraging': {'icon': 'cutlery', 'color': 'orange'},\n",
    "    'Resting': {'icon': 'bed', 'color': 'blue'},\n",
    "    'Exploring': {'icon': 'search', 'color': 'purple'},\n",
    "    'Drinking': {'icon': 'tint', 'color': 'lightblue'},\n",
    "    'Climbing': {'icon': 'tree', 'color': 'green'},\n",
    "    'Sunbathing': {'icon': 'sun', 'color': 'yellow'},\n",
    "    'Playing': {'icon': 'play', 'color': 'pink'},\n",
    "    'Grooming': {'icon': 'heart', 'color': 'red'},\n",
    "    'Watching': {'icon': 'eye', 'color': 'gray'},\n",
    "    'Stretching': {'icon': 'expand', 'color': 'lightgreen'},\n",
    "    'Snacking': {'icon': 'apple', 'color': 'orange'},\n",
    "    'Shelter Seeking': {'icon': 'home', 'color': 'brown'},\n",
    "    'Scent Investigation': {'icon': 'search-plus', 'color': 'darkgreen'},\n",
    "    'Branch Swinging': {'icon': 'arrows', 'color': 'darkgreen'},\n",
    "    'Ground Exploration': {'icon': 'map', 'color': 'beige'},\n",
    "    \n",
    "    # Baboon specific activities\n",
    "    'Socializing': {'icon': 'users', 'color': 'blue'},\n",
    "    \n",
    "    # Capuchin specific activities\n",
    "    'Tool Use': {'icon': 'wrench', 'color': 'darkblue'},\n",
    "    'Fruit Foraging': {'icon': 'apple', 'color': 'red'},\n",
    "    'Social Learning': {'icon': 'graduation-cap', 'color': 'blue'},\n",
    "    \n",
    "    # Blue monkey specific activities\n",
    "    'Canopy Foraging': {'icon': 'tree', 'color': 'green'},\n",
    "    'Territory Patrol': {'icon': 'shield', 'color': 'darkred'},\n",
    "    'Group Bonding': {'icon': 'heart', 'color': 'pink'},\n",
    "    \n",
    "    # Squirrel monkey specific activities\n",
    "    'Acrobatic Leaping': {'icon': 'rocket', 'color': 'orange'},\n",
    "    'Insect Hunting': {'icon': 'bug', 'color': 'green'},\n",
    "    'Playful Wrestling': {'icon': 'hand-rock', 'color': 'purple'},\n",
    "    \n",
    "    # Golden Lion Tamarin specific activities\n",
    "    'Mane Grooming': {'icon': 'star', 'color': 'yellow'},\n",
    "    'Tree Hole Foraging': {'icon': 'circle', 'color': 'brown'},\n",
    "    'Family Bonding': {'icon': 'heart', 'color': 'red'},\n",
    "    \n",
    "    # Howler monkey specific activities\n",
    "    'Howling': {'icon': 'volume-up', 'color': 'darkred'},\n",
    "    'Leaf Eating': {'icon': 'leaf', 'color': 'green'},\n",
    "    'Territory Marking': {'icon': 'flag', 'color': 'red'},\n",
    "    \n",
    "    # Japanese Macaque specific activities\n",
    "    'Hot Spring Bath': {'icon': 'bath', 'color': 'lightblue'},\n",
    "    'Snow Play': {'icon': 'snowflake', 'color': 'white'},\n",
    "    'Potato Washing': {'icon': 'tint', 'color': 'blue'},\n",
    "    \n",
    "    # Mandrill specific activities\n",
    "    'Colorful Display': {'icon': 'star', 'color': 'rainbow'},\n",
    "    'Ground Foraging': {'icon': 'search', 'color': 'brown'},\n",
    "    'Troop Leadership': {'icon': 'crown', 'color': 'gold'},\n",
    "    \n",
    "    # Proboscis monkey specific activities\n",
    "    'Swimming': {'icon': 'swimmer', 'color': 'lightblue'},\n",
    "    'Nose Flexing': {'icon': 'smile', 'color': 'orange'},\n",
    "    'Mangrove Foraging': {'icon': 'tree', 'color': 'darkgreen'},\n",
    "    \n",
    "    # Red-shanked douc specific activities\n",
    "    'Colorful Posing': {'icon': 'camera', 'color': 'red'},\n",
    "    'Leaf Selection': {'icon': 'leaf', 'color': 'green'},\n",
    "    'Arboreal Movement': {'icon': 'arrows', 'color': 'green'},\n",
    "    \n",
    "    # Sebastian (urban monkey) specific activities\n",
    "    'Tech Shopping': {'icon': 'shopping-cart', 'color': 'blue'},\n",
    "    'Coffee Break': {'icon': 'coffee', 'color': 'brown'},\n",
    "    'Social Media': {'icon': 'share', 'color': 'blue'},\n",
    "    \n",
    "    # Henry (desert urban monkey) specific activities\n",
    "    'iOS Testing': {'icon': 'mobile', 'color': 'gray'},\n",
    "    'Desert Exploration': {'icon': 'sun', 'color': 'orange'},\n",
    "    'Travel Planning': {'icon': 'plane', 'color': 'blue'},\n",
    "    \n",
    "    # monkey (urban waterfront monkey) specific activities\n",
    "    'iPhone Photography': {'icon': 'camera', 'color': 'black'},\n",
    "    'Waterfront Stroll': {'icon': 'ship', 'color': 'blue'},\n",
    "    'Adventure Blogging': {'icon': 'edit', 'color': 'green'},\n",
    "    \n",
    "    # Default activities\n",
    "    'Banana Finding': {'icon': 'apple', 'color': 'yellow'},\n",
    "    'Swinging': {'icon': 'arrows', 'color': 'green'},\n",
    "    'Mutual Grooming': {'icon': 'heart', 'color': 'pink'},\n",
    "    \n",
    "    # Fallback for unknown activities\n",
    "    'Unknown': {'icon': 'question', 'color': 'gray'}\n",
    "}\n",
    "\n",
    "# Add activity markers\n",
    "for _, activity in activity_df.iterrows():\n",
    "    icon_info = activity_icons.get(activity['Type'], activity_icons['Unknown'])\n",
    "    \n",
    "    folium.Marker(\n",
    "        location=[activity['Latitude'], activity['Longitude']],\n",
    "        popup=f\"\"\"\n",
    "        <b>🎯 {activity['Type']}</b><br>\n",
    "        📝 {activity['Description']}<br>\n",
    "        ⏰ Time: {activity['Time']}<br>\n",
    "        ⏳ Duration: {activity['Duration']}<br>\n",
    "        ⚡ Energy Change: {'+' if activity['EnergyChange'] >= 0 else ''}{activity['EnergyChange']}\n",
    "        \"\"\",\n",
    "        icon=folium.Icon(color=icon_info['color'], icon=icon_info['icon'])\n",
    "    ).add_to(enhanced_map)\n",
    "\n",
    "# Add start and end markers\n",
    "folium.Marker(\n",
    "    location=[path_df.iloc[0]['Latitude'], path_df.iloc[0]['Longitude']],\n",
    "    popup=\"🏁 monkey's Journey Begins!\",\n",
    "    icon=folium.Icon(color='green', icon='play', prefix='fa')\n",
    ").add_to(enhanced_map)\n",
    "\n",
    "folium.Marker(\n",
    "    location=[path_df.iloc[-1]['Latitude'], path_df.iloc[-1]['Longitude']],\n",
    "    popup=\"🏁 Journey Complete!\",\n",
    "    icon=folium.Icon(color='red', icon='stop', prefix='fa')\n",
    ").add_to(enhanced_map)\n",
    "\n",
    "print(\"🎨 Enhanced map with comprehensive activity icons created!\")\n",
    "print(f\"📊 Total activity types supported: {len(activity_icons)}\")\n",
    "enhanced_map"
   ]
  },
  {
   "cell_type": "markdown",
   "id": "b62393e5",
   "metadata": {},
   "source": [
    "## monkey's Health Dashboard\n",
    "\n",
    "Let's create some visualizations to show monkey's health statistics and journey summary."
   ]
  },
  {
   "cell_type": "code",
   "execution_count": 7,
   "id": "e751e568",
   "metadata": {},
   "outputs": [
    {
     "data": {
      "application/vnd.plotly.v1+json": {
       "config": {
        "plotlyServerURL": "https://plot.ly"
       },
       "data": [
        {
         "hovertemplate": "Metric=%{x}<br>Value=%{marker.color}<extra></extra>",
         "legendgroup": "",
         "marker": {
          "color": {
           "bdata": "YUMyYhZa",
           "dtype": "i1"
          },
          "coloraxis": "coloraxis",
          "pattern": {
           "shape": ""
          }
         },
         "name": "",
         "orientation": "v",
         "showlegend": false,
         "text": {
          "bdata": "AAAAAABAWEAAAAAAAMBQQAAAAAAAAElAAAAAAACAWEAAAAAAAAA2QAAAAAAAgFZA",
          "dtype": "f8"
         },
         "textposition": "outside",
         "texttemplate": "%{text}",
         "type": "bar",
         "x": [
          "Energy",
          "Happiness",
          "Hunger",
          "Social",
          "Stress",
          "Health"
         ],
         "xaxis": "x",
         "y": {
          "bdata": "YUMyYhZa",
          "dtype": "i1"
         },
         "yaxis": "y"
        }
       ],
       "layout": {
        "barmode": "relative",
        "coloraxis": {
         "colorbar": {
          "title": {
           "text": "Value"
          }
         },
         "colorscale": [
          [
           0,
           "#440154"
          ],
          [
           0.1111111111111111,
           "#482878"
          ],
          [
           0.2222222222222222,
           "#3e4989"
          ],
          [
           0.3333333333333333,
           "#31688e"
          ],
          [
           0.4444444444444444,
           "#26828e"
          ],
          [
           0.5555555555555556,
           "#1f9e89"
          ],
          [
           0.6666666666666666,
           "#35b779"
          ],
          [
           0.7777777777777778,
           "#6ece58"
          ],
          [
           0.8888888888888888,
           "#b5de2b"
          ],
          [
           1,
           "#fde725"
          ]
         ]
        },
        "legend": {
         "tracegroupgap": 0
        },
        "showlegend": false,
        "template": {
         "data": {
          "bar": [
           {
            "error_x": {
             "color": "#2a3f5f"
            },
            "error_y": {
             "color": "#2a3f5f"
            },
            "marker": {
             "line": {
              "color": "#E5ECF6",
              "width": 0.5
             },
             "pattern": {
              "fillmode": "overlay",
              "size": 10,
              "solidity": 0.2
             }
            },
            "type": "bar"
           }
          ],
          "barpolar": [
           {
            "marker": {
             "line": {
              "color": "#E5ECF6",
              "width": 0.5
             },
             "pattern": {
              "fillmode": "overlay",
              "size": 10,
              "solidity": 0.2
             }
            },
            "type": "barpolar"
           }
          ],
          "carpet": [
           {
            "aaxis": {
             "endlinecolor": "#2a3f5f",
             "gridcolor": "white",
             "linecolor": "white",
             "minorgridcolor": "white",
             "startlinecolor": "#2a3f5f"
            },
            "baxis": {
             "endlinecolor": "#2a3f5f",
             "gridcolor": "white",
             "linecolor": "white",
             "minorgridcolor": "white",
             "startlinecolor": "#2a3f5f"
            },
            "type": "carpet"
           }
          ],
          "choropleth": [
           {
            "colorbar": {
             "outlinewidth": 0,
             "ticks": ""
            },
            "type": "choropleth"
           }
          ],
          "contour": [
           {
            "colorbar": {
             "outlinewidth": 0,
             "ticks": ""
            },
            "colorscale": [
             [
              0,
              "#0d0887"
             ],
             [
              0.1111111111111111,
              "#46039f"
             ],
             [
              0.2222222222222222,
              "#7201a8"
             ],
             [
              0.3333333333333333,
              "#9c179e"
             ],
             [
              0.4444444444444444,
              "#bd3786"
             ],
             [
              0.5555555555555556,
              "#d8576b"
             ],
             [
              0.6666666666666666,
              "#ed7953"
             ],
             [
              0.7777777777777778,
              "#fb9f3a"
             ],
             [
              0.8888888888888888,
              "#fdca26"
             ],
             [
              1,
              "#f0f921"
             ]
            ],
            "type": "contour"
           }
          ],
          "contourcarpet": [
           {
            "colorbar": {
             "outlinewidth": 0,
             "ticks": ""
            },
            "type": "contourcarpet"
           }
          ],
          "heatmap": [
           {
            "colorbar": {
             "outlinewidth": 0,
             "ticks": ""
            },
            "colorscale": [
             [
              0,
              "#0d0887"
             ],
             [
              0.1111111111111111,
              "#46039f"
             ],
             [
              0.2222222222222222,
              "#7201a8"
             ],
             [
              0.3333333333333333,
              "#9c179e"
             ],
             [
              0.4444444444444444,
              "#bd3786"
             ],
             [
              0.5555555555555556,
              "#d8576b"
             ],
             [
              0.6666666666666666,
              "#ed7953"
             ],
             [
              0.7777777777777778,
              "#fb9f3a"
             ],
             [
              0.8888888888888888,
              "#fdca26"
             ],
             [
              1,
              "#f0f921"
             ]
            ],
            "type": "heatmap"
           }
          ],
          "histogram": [
           {
            "marker": {
             "pattern": {
              "fillmode": "overlay",
              "size": 10,
              "solidity": 0.2
             }
            },
            "type": "histogram"
           }
          ],
          "histogram2d": [
           {
            "colorbar": {
             "outlinewidth": 0,
             "ticks": ""
            },
            "colorscale": [
             [
              0,
              "#0d0887"
             ],
             [
              0.1111111111111111,
              "#46039f"
             ],
             [
              0.2222222222222222,
              "#7201a8"
             ],
             [
              0.3333333333333333,
              "#9c179e"
             ],
             [
              0.4444444444444444,
              "#bd3786"
             ],
             [
              0.5555555555555556,
              "#d8576b"
             ],
             [
              0.6666666666666666,
              "#ed7953"
             ],
             [
              0.7777777777777778,
              "#fb9f3a"
             ],
             [
              0.8888888888888888,
              "#fdca26"
             ],
             [
              1,
              "#f0f921"
             ]
            ],
            "type": "histogram2d"
           }
          ],
          "histogram2dcontour": [
           {
            "colorbar": {
             "outlinewidth": 0,
             "ticks": ""
            },
            "colorscale": [
             [
              0,
              "#0d0887"
             ],
             [
              0.1111111111111111,
              "#46039f"
             ],
             [
              0.2222222222222222,
              "#7201a8"
             ],
             [
              0.3333333333333333,
              "#9c179e"
             ],
             [
              0.4444444444444444,
              "#bd3786"
             ],
             [
              0.5555555555555556,
              "#d8576b"
             ],
             [
              0.6666666666666666,
              "#ed7953"
             ],
             [
              0.7777777777777778,
              "#fb9f3a"
             ],
             [
              0.8888888888888888,
              "#fdca26"
             ],
             [
              1,
              "#f0f921"
             ]
            ],
            "type": "histogram2dcontour"
           }
          ],
          "mesh3d": [
           {
            "colorbar": {
             "outlinewidth": 0,
             "ticks": ""
            },
            "type": "mesh3d"
           }
          ],
          "parcoords": [
           {
            "line": {
             "colorbar": {
              "outlinewidth": 0,
              "ticks": ""
             }
            },
            "type": "parcoords"
           }
          ],
          "pie": [
           {
            "automargin": true,
            "type": "pie"
           }
          ],
          "scatter": [
           {
            "fillpattern": {
             "fillmode": "overlay",
             "size": 10,
             "solidity": 0.2
            },
            "type": "scatter"
           }
          ],
          "scatter3d": [
           {
            "line": {
             "colorbar": {
              "outlinewidth": 0,
              "ticks": ""
             }
            },
            "marker": {
             "colorbar": {
              "outlinewidth": 0,
              "ticks": ""
             }
            },
            "type": "scatter3d"
           }
          ],
          "scattercarpet": [
           {
            "marker": {
             "colorbar": {
              "outlinewidth": 0,
              "ticks": ""
             }
            },
            "type": "scattercarpet"
           }
          ],
          "scattergeo": [
           {
            "marker": {
             "colorbar": {
              "outlinewidth": 0,
              "ticks": ""
             }
            },
            "type": "scattergeo"
           }
          ],
          "scattergl": [
           {
            "marker": {
             "colorbar": {
              "outlinewidth": 0,
              "ticks": ""
             }
            },
            "type": "scattergl"
           }
          ],
          "scattermap": [
           {
            "marker": {
             "colorbar": {
              "outlinewidth": 0,
              "ticks": ""
             }
            },
            "type": "scattermap"
           }
          ],
          "scattermapbox": [
           {
            "marker": {
             "colorbar": {
              "outlinewidth": 0,
              "ticks": ""
             }
            },
            "type": "scattermapbox"
           }
          ],
          "scatterpolar": [
           {
            "marker": {
             "colorbar": {
              "outlinewidth": 0,
              "ticks": ""
             }
            },
            "type": "scatterpolar"
           }
          ],
          "scatterpolargl": [
           {
            "marker": {
             "colorbar": {
              "outlinewidth": 0,
              "ticks": ""
             }
            },
            "type": "scatterpolargl"
           }
          ],
          "scatterternary": [
           {
            "marker": {
             "colorbar": {
              "outlinewidth": 0,
              "ticks": ""
             }
            },
            "type": "scatterternary"
           }
          ],
          "surface": [
           {
            "colorbar": {
             "outlinewidth": 0,
             "ticks": ""
            },
            "colorscale": [
             [
              0,
              "#0d0887"
             ],
             [
              0.1111111111111111,
              "#46039f"
             ],
             [
              0.2222222222222222,
              "#7201a8"
             ],
             [
              0.3333333333333333,
              "#9c179e"
             ],
             [
              0.4444444444444444,
              "#bd3786"
             ],
             [
              0.5555555555555556,
              "#d8576b"
             ],
             [
              0.6666666666666666,
              "#ed7953"
             ],
             [
              0.7777777777777778,
              "#fb9f3a"
             ],
             [
              0.8888888888888888,
              "#fdca26"
             ],
             [
              1,
              "#f0f921"
             ]
            ],
            "type": "surface"
           }
          ],
          "table": [
           {
            "cells": {
             "fill": {
              "color": "#EBF0F8"
             },
             "line": {
              "color": "white"
             }
            },
            "header": {
             "fill": {
              "color": "#C8D4E3"
             },
             "line": {
              "color": "white"
             }
            },
            "type": "table"
           }
          ]
         },
         "layout": {
          "annotationdefaults": {
           "arrowcolor": "#2a3f5f",
           "arrowhead": 0,
           "arrowwidth": 1
          },
          "autotypenumbers": "strict",
          "coloraxis": {
           "colorbar": {
            "outlinewidth": 0,
            "ticks": ""
           }
          },
          "colorscale": {
           "diverging": [
            [
             0,
             "#8e0152"
            ],
            [
             0.1,
             "#c51b7d"
            ],
            [
             0.2,
             "#de77ae"
            ],
            [
             0.3,
             "#f1b6da"
            ],
            [
             0.4,
             "#fde0ef"
            ],
            [
             0.5,
             "#f7f7f7"
            ],
            [
             0.6,
             "#e6f5d0"
            ],
            [
             0.7,
             "#b8e186"
            ],
            [
             0.8,
             "#7fbc41"
            ],
            [
             0.9,
             "#4d9221"
            ],
            [
             1,
             "#276419"
            ]
           ],
           "sequential": [
            [
             0,
             "#0d0887"
            ],
            [
             0.1111111111111111,
             "#46039f"
            ],
            [
             0.2222222222222222,
             "#7201a8"
            ],
            [
             0.3333333333333333,
             "#9c179e"
            ],
            [
             0.4444444444444444,
             "#bd3786"
            ],
            [
             0.5555555555555556,
             "#d8576b"
            ],
            [
             0.6666666666666666,
             "#ed7953"
            ],
            [
             0.7777777777777778,
             "#fb9f3a"
            ],
            [
             0.8888888888888888,
             "#fdca26"
            ],
            [
             1,
             "#f0f921"
            ]
           ],
           "sequentialminus": [
            [
             0,
             "#0d0887"
            ],
            [
             0.1111111111111111,
             "#46039f"
            ],
            [
             0.2222222222222222,
             "#7201a8"
            ],
            [
             0.3333333333333333,
             "#9c179e"
            ],
            [
             0.4444444444444444,
             "#bd3786"
            ],
            [
             0.5555555555555556,
             "#d8576b"
            ],
            [
             0.6666666666666666,
             "#ed7953"
            ],
            [
             0.7777777777777778,
             "#fb9f3a"
            ],
            [
             0.8888888888888888,
             "#fdca26"
            ],
            [
             1,
             "#f0f921"
            ]
           ]
          },
          "colorway": [
           "#636efa",
           "#EF553B",
           "#00cc96",
           "#ab63fa",
           "#FFA15A",
           "#19d3f3",
           "#FF6692",
           "#B6E880",
           "#FF97FF",
           "#FECB52"
          ],
          "font": {
           "color": "#2a3f5f"
          },
          "geo": {
           "bgcolor": "white",
           "lakecolor": "white",
           "landcolor": "#E5ECF6",
           "showlakes": true,
           "showland": true,
           "subunitcolor": "white"
          },
          "hoverlabel": {
           "align": "left"
          },
          "hovermode": "closest",
          "mapbox": {
           "style": "light"
          },
          "paper_bgcolor": "white",
          "plot_bgcolor": "#E5ECF6",
          "polar": {
           "angularaxis": {
            "gridcolor": "white",
            "linecolor": "white",
            "ticks": ""
           },
           "bgcolor": "#E5ECF6",
           "radialaxis": {
            "gridcolor": "white",
            "linecolor": "white",
            "ticks": ""
           }
          },
          "scene": {
           "xaxis": {
            "backgroundcolor": "#E5ECF6",
            "gridcolor": "white",
            "gridwidth": 2,
            "linecolor": "white",
            "showbackground": true,
            "ticks": "",
            "zerolinecolor": "white"
           },
           "yaxis": {
            "backgroundcolor": "#E5ECF6",
            "gridcolor": "white",
            "gridwidth": 2,
            "linecolor": "white",
            "showbackground": true,
            "ticks": "",
            "zerolinecolor": "white"
           },
           "zaxis": {
            "backgroundcolor": "#E5ECF6",
            "gridcolor": "white",
            "gridwidth": 2,
            "linecolor": "white",
            "showbackground": true,
            "ticks": "",
            "zerolinecolor": "white"
           }
          },
          "shapedefaults": {
           "line": {
            "color": "#2a3f5f"
           }
          },
          "ternary": {
           "aaxis": {
            "gridcolor": "white",
            "linecolor": "white",
            "ticks": ""
           },
           "baxis": {
            "gridcolor": "white",
            "linecolor": "white",
            "ticks": ""
           },
           "bgcolor": "#E5ECF6",
           "caxis": {
            "gridcolor": "white",
            "linecolor": "white",
            "ticks": ""
           }
          },
          "title": {
           "x": 0.05
          },
          "xaxis": {
           "automargin": true,
           "gridcolor": "white",
           "linecolor": "white",
           "ticks": "",
           "title": {
            "standoff": 15
           },
           "zerolinecolor": "white",
           "zerolinewidth": 2
          },
          "yaxis": {
           "automargin": true,
           "gridcolor": "white",
           "linecolor": "white",
           "ticks": "",
           "title": {
            "standoff": 15
           },
           "zerolinecolor": "white",
           "zerolinewidth": 2
          }
         }
        },
        "title": {
         "text": "🐒 monkey's Health Statistics"
        },
        "xaxis": {
         "anchor": "y",
         "domain": [
          0,
          1
         ],
         "title": {
          "text": "Health Metrics"
         }
        },
        "yaxis": {
         "anchor": "x",
         "domain": [
          0,
          1
         ],
         "title": {
          "text": "Score (0-100)"
         }
        }
       }
      }
     },
     "metadata": {},
     "output_type": "display_data"
    },
    {
     "name": "stdout",
     "output_type": "stream",
     "text": [
      "📊 Journey Summary:\n",
      "🐒 Monkey: Mooch\n",
      "⏱️ Total Duration: 01:36:00\n",
      "📏 Total Distance: 0.461 km\n",
      "🎯 Activities Completed: 5\n",
      "📍 Path Points Recorded: 15\n",
      "\n",
      "🎯 Activity Breakdown:\n",
      "  • iPhone Photography: 00:26:00 (+4 energy)\n",
      "  • Waterfront Stroll: 00:36:00 (+12 energy)\n",
      "  • Climbing: 00:07:00 (+-15 energy)\n",
      "  • Climbing: 00:08:00 (+-10 energy)\n",
      "  • Watching: 00:09:00 (+5 energy)\n",
      "\n",
      "💪 Final Health Score: 90/100\n",
      "😊 Happiness Level: 67/100\n",
      "😌 Stress Level: 22/100 (Lower is better!)\n"
     ]
    }
   ],
   "source": [
    "# Health Statistics\n",
    "import nbformat\n",
    "health_stats = monkey_journey['HealthStats']\n",
    "\n",
    "# Create health stats bar chart\n",
    "health_df = pd.DataFrame(list(health_stats.items()), columns=['Metric', 'Value'])\n",
    "\n",
    "fig_health = px.bar(\n",
    "    health_df, \n",
    "    x='Metric', \n",
    "    y='Value',\n",
    "    title=\"🐒 monkey's Health Statistics\",\n",
    "    color='Value',\n",
    "    color_continuous_scale='Viridis',\n",
    "    text='Value'\n",
    " )\n",
    "\n",
    "fig_health.update_traces(texttemplate='%{text}', textposition='outside')\n",
    "fig_health.update_layout(\n",
    "    xaxis_title=\"Health Metrics\",\n",
    "    yaxis_title=\"Score (0-100)\",\n",
    "    showlegend=False\n",
    ")\n",
    "\n",
    "fig_health.show()\n",
    "\n",
    "# Activity summary\n",
    "print(\"📊 Journey Summary:\")\n",
    "print(f\"🐒 Monkey: {monkey_journey['MonkeyName']}\")\n",
    "print(f\"⏱️ Total Duration: {monkey_journey['TotalDuration']}\")\n",
    "print(f\"📏 Total Distance: {monkey_journey['TotalDistanceKm']:.3f} km\")\n",
    "print(f\"🎯 Activities Completed: {len(monkey_journey['Activities'])}\")\n",
    "print(f\"📍 Path Points Recorded: {len(monkey_journey['PathPoints'])}\")\n",
    "\n",
    "print(\"\\n🎯 Activity Breakdown:\")\n",
    "for activity in monkey_journey['Activities']:\n",
    "    print(f\"  • {activity['Type']}: {activity['Duration']} (+{activity['EnergyChange']} energy)\")\n",
    "\n",
    "print(f\"\\n💪 Final Health Score: {health_stats['Health']}/100\")\n",
    "print(f\"😊 Happiness Level: {health_stats['Happiness']}/100\")\n",
    "print(f\"😌 Stress Level: {health_stats['Stress']}/100 (Lower is better!)\")"
   ]
  }
 ],
 "metadata": {
  "kernelspec": {
   "display_name": "Python 3",
   "language": "python",
   "name": "python3"
  },
  "language_info": {
   "codemirror_mode": {
    "name": "ipython",
    "version": 3
   },
   "file_extension": ".py",
   "mimetype": "text/x-python",
   "name": "python",
   "nbconvert_exporter": "python",
   "pygments_lexer": "ipython3",
   "version": "3.11.9"
  }
 },
 "nbformat": 4,
 "nbformat_minor": 5
}
