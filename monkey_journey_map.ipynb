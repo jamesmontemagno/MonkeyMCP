{
 "cells": [
  {
   "cell_type": "markdown",
   "id": "e7ed7454",
   "metadata": {},
   "source": [
    "# 🐒 Monkey Journey Map\n",
    "\n",
    "Welcome to monkey adventure visualization! This notebook will create interactive maps showing the monkey's journey, including all activities and health statistics.\n",
    "\n",
    "## 📦 Setup & Installation\n",
    "\n",
    "First, let's make sure all required packages are installed. Run the cell below to automatically install any missing packages."
   ]
  },
  {
   "cell_type": "code",
   "execution_count": 1,
   "id": "2d9904bf",
   "metadata": {},
   "outputs": [
    {
     "name": "stdout",
     "output_type": "stream",
     "text": [
      "🔍 Checking for required packages...\n",
      "✅ pandas - already installed\n",
      "✅ pandas - already installed\n",
      "✅ folium - already installed\n",
      "✅ plotly - already installed\n",
      "✅ numpy - already installed\n",
      "✅ folium - already installed\n",
      "✅ plotly - already installed\n",
      "✅ numpy - already installed\n",
      "✅ nbformat>=4.2.0 - already installed\n",
      "\n",
      "🎉 All packages are already installed!\n",
      "\n",
      "🚀 Ready to run the notebook! Proceed to the next cell.\n",
      "✅ nbformat>=4.2.0 - already installed\n",
      "\n",
      "🎉 All packages are already installed!\n",
      "\n",
      "🚀 Ready to run the notebook! Proceed to the next cell.\n"
     ]
    }
   ],
   "source": [
    "# 📦 Automatic Package Installation\n",
    "# Run this cell first to install all required packages\n",
    "import subprocess\n",
    "import sys\n",
    "\n",
    "def install_package(package):\n",
    "    \"\"\"Install a package using pip\"\"\"\n",
    "    try:\n",
    "        subprocess.check_call([sys.executable, \"-m\", \"pip\", \"install\", package])\n",
    "        return True\n",
    "    except subprocess.CalledProcessError:\n",
    "        return False\n",
    "\n",
    "# List of required packages\n",
    "required_packages = [\"pandas\", \"folium\", \"plotly\", \"numpy\", \"nbformat>=4.2.0\"]\n",
    "\n",
    "print(\"🔍 Checking for required packages...\")\n",
    "\n",
    "# Check if packages are already installed\n",
    "missing_packages = []\n",
    "for package in required_packages:\n",
    "    try:\n",
    "        import_name = package.split('>=')[0].split('==')[0].split('<=')[0]\n",
    "        __import__(import_name)\n",
    "        print(f\"✅ {package} - already installed\")\n",
    "    except ImportError:\n",
    "        missing_packages.append(package)\n",
    "        print(f\"❌ {package} - needs installation\")\n",
    "\n",
    "# Install missing packages\n",
    "if missing_packages:\n",
    "    print(f\"\\n📦 Installing {len(missing_packages)} missing packages...\")\n",
    "    for package in missing_packages:\n",
    "        print(f\"Installing {package}...\")\n",
    "        if install_package(package):\n",
    "            print(f\"✅ {package} installed successfully!\")\n",
    "        else:\n",
    "            print(f\"❌ Failed to install {package}\")\n",
    "    print(\"\\n🎉 Package installation complete!\")\n",
    "else:\n",
    "    print(\"\\n🎉 All packages are already installed!\")\n",
    "\n",
    "print(\"\\n🚀 Ready to run the notebook! Proceed to the next cell.\")"
   ]
  },
  {
   "cell_type": "markdown",
   "id": "1ea72daa",
   "metadata": {},
   "source": [
    "## Import Required Libraries\n",
    "\n",
    "First, let's import all the necessary libraries for data handling and map visualization."
   ]
  },
  {
   "cell_type": "code",
   "execution_count": 2,
   "id": "7393520d",
   "metadata": {},
   "outputs": [
    {
     "name": "stdout",
     "output_type": "stream",
     "text": [
      "✅ Libraries imported successfully!\n"
     ]
    }
   ],
   "source": [
    "import pandas as pd\n",
    "import folium\n",
    "from folium import plugins\n",
    "import json\n",
    "from datetime import datetime\n",
    "import numpy as np\n",
    "\n",
    "# For interactive plotting\n",
    "import plotly.express as px\n",
    "import plotly.graph_objects as go\n",
    "\n",
    "print(\"✅ Libraries imported successfully!\")"
   ]
  },
  {
   "cell_type": "markdown",
   "id": "27ce16d2",
   "metadata": {},
   "source": [
    "## Load Monkey Journey Data\n",
    "\n",
    "Let's load the journey data from our JSON file that contains the latest data from the MonkeyMCP service. This includes all the path points, activities, and health statistics from the adventure, generated using our updated 60/40 activity selection algorithm.\n",
    "\n",
    "The JSON file (`monkey_journey_data.json`) contains fresh data showing:\n",
    "- **monkey's preferred activities** (60% chance): iPhone Photography, Waterfront Stroll, Adventure Blogging  \n",
    "- **Common monkey activities** (40% chance): Climbing, Watching, etc.\n",
    "- Updated health statistics and journey metrics"
   ]
  },
  {
   "cell_type": "code",
   "execution_count": 3,
   "id": "f864231a",
   "metadata": {},
   "outputs": [
    {
     "name": "stdout",
     "output_type": "stream",
     "text": [
      "📊 Journey data loaded successfully from JSON file!\n",
      "🐒 Monkey: Mooch\n",
      "📍 Path Points: 15\n",
      "🎯 Activities: 5\n",
      "🏃‍♂️ Total Distance: 0.461 km\n",
      "⏱️ Total Duration: 01:36:00\n",
      "\n",
      "🎯 Activities performed:\n",
      "  • iPhone Photography: Captured stunning photos with the latest iPhone ca...\n",
      "  • Waterfront Stroll: Enjoyed a peaceful walk along the Seattle waterfro...\n",
      "  • Climbing: Climbed a tall tree to get a better view...\n",
      "  • Climbing: Climbed a tall tree to get a better view...\n",
      "  • Watching: Sat quietly observing the surrounding environment...\n",
      "\n",
      "📊 Activity Type Summary:\n",
      "  • iPhone Photography: 1 time(s)\n",
      "  • Waterfront Stroll: 1 time(s)\n",
      "  • Climbing: 2 time(s)\n",
      "  • Watching: 1 time(s)\n"
     ]
    }
   ],
   "source": [
    "# Load monkey's Journey Data from JSON file\n",
    "import json\n",
    "import os\n",
    "\n",
    "# Load the journey data from the JSON file\n",
    "json_file_path = 'monkey_journey_data.json'\n",
    "\n",
    "# Check if file exists\n",
    "if os.path.exists(json_file_path):\n",
    "    with open(json_file_path, 'r') as file:\n",
    "        monkey_journey = json.load(file)\n",
    "    print(\"📊 Journey data loaded successfully from JSON file!\")\n",
    "else:\n",
    "    print(\"❌ JSON file not found. Please ensure 'monkey_journey_data.json' exists in the current directory.\")\n",
    "    # Fallback to hardcoded data if file doesn't exist\n",
    "    monkey_journey = {\n",
    "        \"MonkeyName\": \"monkey\",\n",
    "        \"StartLocation\": {\"Latitude\": 47.608013, \"Longitude\": -122.335167},\n",
    "        \"StartTime\": \"2025-07-02T11:35:41.6638431Z\",\n",
    "        \"EndTime\": \"2025-07-02T12:47:41.6638431Z\",\n",
    "        \"PathPoints\": [],\n",
    "        \"Activities\": [],\n",
    "        \"HealthStats\": {\"Energy\": 59, \"Happiness\": 68, \"Hunger\": 71, \"Social\": 76, \"Stress\": 11, \"Health\": 87},\n",
    "        \"TotalDuration\": \"01:12:00\",\n",
    "        \"TotalDistanceKm\": 0.1946922330484976\n",
    "    }\n",
    "    print(\"📊 Using fallback data.\")\n",
    "\n",
    "print(f\"🐒 Monkey: {monkey_journey['MonkeyName']}\")\n",
    "print(f\"📍 Path Points: {len(monkey_journey['PathPoints'])}\")\n",
    "print(f\"🎯 Activities: {len(monkey_journey['Activities'])}\")\n",
    "print(f\"🏃‍♂️ Total Distance: {monkey_journey['TotalDistanceKm']:.3f} km\")\n",
    "print(f\"⏱️ Total Duration: {monkey_journey['TotalDuration']}\")\n",
    "\n",
    "# Display the activities with their types (showing the new 60/40 distribution)\n",
    "print(f\"\\n🎯 Activities performed:\")\n",
    "activity_types = {}\n",
    "for activity in monkey_journey['Activities']:\n",
    "    activity_type = activity['Type']\n",
    "    if activity_type in activity_types:\n",
    "        activity_types[activity_type] += 1\n",
    "    else:\n",
    "        activity_types[activity_type] = 1\n",
    "    print(f\"  • {activity['Type']}: {activity['Description'][:50]}...\")\n",
    "\n",
    "print(f\"\\n📊 Activity Type Summary:\")\n",
    "for activity_type, count in activity_types.items():\n",
    "    print(f\"  • {activity_type}: {count} time(s)\")"
   ]
  },
  {
   "cell_type": "markdown",
   "id": "63a5ed1d",
   "metadata": {},
   "source": [
    "## Prepare Geographical Data\n",
    "\n",
    "Now let's structure the data into pandas DataFrames for easier manipulation and plotting. We'll create separate datasets for the path points and activities."
   ]
  },
  {
   "cell_type": "code",
   "execution_count": 4,
   "id": "ed83f189",
   "metadata": {},
   "outputs": [
    {
     "name": "stdout",
     "output_type": "stream",
     "text": [
      "🗺️ Path Points DataFrame:\n",
      "    Point   Latitude   Longitude                     Timestamp   Time\n",
      "0       1  47.608013 -122.335167  2025-07-02T13:52:08.1079669Z  13:52\n",
      "1       2  47.607810 -122.335363  2025-07-02T14:04:08.1079669Z  14:04\n",
      "2       3  47.607804 -122.335363  2025-07-02T14:16:08.1079669Z  14:16\n",
      "3       4  47.607797 -122.335812  2025-07-02T15:10:08.1079669Z  15:10\n",
      "4       5  47.607970 -122.335957  2025-07-02T14:32:08.1079669Z  14:32\n",
      "5       6  47.607635 -122.335648  2025-07-02T15:22:08.1079669Z  15:22\n",
      "6       7  47.608037 -122.335687  2025-07-02T15:58:08.1079669Z  15:58\n",
      "7       8  47.608151 -122.335029  2025-07-02T16:08:08.1079669Z  16:08\n",
      "8       9  47.608688 -122.335183  2025-07-02T15:49:08.1079669Z  15:49\n",
      "9      10  47.608764 -122.335200  2025-07-02T17:22:08.1079669Z  17:22\n",
      "10     11  47.608893 -122.335325  2025-07-02T17:43:08.1079669Z  17:43\n",
      "11     12  47.609125 -122.335193  2025-07-02T16:04:08.1079669Z  16:04\n",
      "12     13  47.608872 -122.334783  2025-07-02T18:25:08.1079669Z  18:25\n",
      "13     14  47.609302 -122.334797  2025-07-02T17:50:08.1079669Z  17:50\n",
      "14     15  47.609029 -122.334874  2025-07-02T19:52:08.1079669Z  19:52\n",
      "\n",
      "🎯 Activities DataFrame:\n",
      "                 Type                                        Description  \\\n",
      "0  iPhone Photography  Captured stunning photos with the latest iPhon...   \n",
      "1   Waterfront Stroll  Enjoyed a peaceful walk along the Seattle wate...   \n",
      "2            Climbing           Climbed a tall tree to get a better view   \n",
      "3            Climbing           Climbed a tall tree to get a better view   \n",
      "4            Watching  Sat quietly observing the surrounding environment   \n",
      "\n",
      "    Latitude   Longitude                     Timestamp   Time  Duration  \\\n",
      "0  47.608037 -122.335687  2025-07-02T15:58:08.1079669Z  15:58  00:26:00   \n",
      "1  47.608151 -122.335029  2025-07-02T16:08:08.1079669Z  16:08  00:36:00   \n",
      "2  47.608688 -122.335183  2025-07-02T15:49:08.1079669Z  15:49  00:07:00   \n",
      "3  47.608764 -122.335200  2025-07-02T17:22:08.1079669Z  17:22  00:08:00   \n",
      "4  47.609125 -122.335193  2025-07-02T16:04:08.1079669Z  16:04  00:09:00   \n",
      "\n",
      "   EnergyChange  \n",
      "0             4  \n",
      "1            12  \n",
      "2           -15  \n",
      "3           -10  \n",
      "4             5  \n"
     ]
    }
   ],
   "source": [
    "# Create DataFrame for path points\n",
    "path_data = []\n",
    "for i, point in enumerate(monkey_journey['PathPoints']):\n",
    "    path_data.append({\n",
    "        'Point': i + 1,\n",
    "        'Latitude': point['Location']['Latitude'],\n",
    "        'Longitude': point['Location']['Longitude'],\n",
    "        'Timestamp': point['Timestamp'],\n",
    "        'Time': datetime.fromisoformat(point['Timestamp'].replace('Z', '+00:00')).strftime('%H:%M')\n",
    "    })\n",
    "\n",
    "path_df = pd.DataFrame(path_data)\n",
    "\n",
    "# Create DataFrame for activities\n",
    "activity_data = []\n",
    "for activity in monkey_journey['Activities']:\n",
    "    activity_data.append({\n",
    "        'Type': activity['Type'],\n",
    "        'Description': activity['Description'],\n",
    "        'Latitude': activity['Location']['Latitude'],\n",
    "        'Longitude': activity['Location']['Longitude'],\n",
    "        'Timestamp': activity['Timestamp'],\n",
    "        'Time': datetime.fromisoformat(activity['Timestamp'].replace('Z', '+00:00')).strftime('%H:%M'),\n",
    "        'Duration': activity['Duration'],\n",
    "        'EnergyChange': activity['EnergyChange']\n",
    "    })\n",
    "\n",
    "activity_df = pd.DataFrame(activity_data)\n",
    "\n",
    "# Display the prepared data\n",
    "print(\"🗺️ Path Points DataFrame:\")\n",
    "print(path_df)\n",
    "print(\"\\n🎯 Activities DataFrame:\")\n",
    "print(activity_df)"
   ]
  },
  {
   "cell_type": "markdown",
   "id": "85b1d940",
   "metadata": {},
   "source": [
    "## Plot monkey's Journey on a Map\n",
    "\n",
    "Let's create an interactive map using Folium to visualize monkey's journey. We'll show the path taken and mark all the activity locations."
   ]
  },
  {
   "cell_type": "code",
   "execution_count": 5,
   "id": "b324b209",
   "metadata": {},
   "outputs": [
    {
     "name": "stdout",
     "output_type": "stream",
     "text": [
      "🗺️ Base map with journey path created!\n"
     ]
    },
    {
     "data": {
      "text/html": [
       "<div style=\"width:100%;\"><div style=\"position:relative;width:100%;height:0;padding-bottom:60%;\"><span style=\"color:#565656\">Make this Notebook Trusted to load map: File -> Trust Notebook</span><iframe srcdoc=\"&lt;!DOCTYPE html&gt;\n",
       "&lt;html&gt;\n",
       "&lt;head&gt;\n",
       "    \n",
       "    &lt;meta http-equiv=&quot;content-type&quot; content=&quot;text/html; charset=UTF-8&quot; /&gt;\n",
       "    &lt;script src=&quot;https://cdn.jsdelivr.net/npm/leaflet@1.9.3/dist/leaflet.js&quot;&gt;&lt;/script&gt;\n",
       "    &lt;script src=&quot;https://code.jquery.com/jquery-3.7.1.min.js&quot;&gt;&lt;/script&gt;\n",
       "    &lt;script src=&quot;https://cdn.jsdelivr.net/npm/bootstrap@5.2.2/dist/js/bootstrap.bundle.min.js&quot;&gt;&lt;/script&gt;\n",
       "    &lt;script src=&quot;https://cdnjs.cloudflare.com/ajax/libs/Leaflet.awesome-markers/2.0.2/leaflet.awesome-markers.js&quot;&gt;&lt;/script&gt;\n",
       "    &lt;link rel=&quot;stylesheet&quot; href=&quot;https://cdn.jsdelivr.net/npm/leaflet@1.9.3/dist/leaflet.css&quot;/&gt;\n",
       "    &lt;link rel=&quot;stylesheet&quot; href=&quot;https://cdn.jsdelivr.net/npm/bootstrap@5.2.2/dist/css/bootstrap.min.css&quot;/&gt;\n",
       "    &lt;link rel=&quot;stylesheet&quot; href=&quot;https://netdna.bootstrapcdn.com/bootstrap/3.0.0/css/bootstrap-glyphicons.css&quot;/&gt;\n",
       "    &lt;link rel=&quot;stylesheet&quot; href=&quot;https://cdn.jsdelivr.net/npm/@fortawesome/fontawesome-free@6.2.0/css/all.min.css&quot;/&gt;\n",
       "    &lt;link rel=&quot;stylesheet&quot; href=&quot;https://cdnjs.cloudflare.com/ajax/libs/Leaflet.awesome-markers/2.0.2/leaflet.awesome-markers.css&quot;/&gt;\n",
       "    &lt;link rel=&quot;stylesheet&quot; href=&quot;https://cdn.jsdelivr.net/gh/python-visualization/folium/folium/templates/leaflet.awesome.rotate.min.css&quot;/&gt;\n",
       "    \n",
       "            &lt;meta name=&quot;viewport&quot; content=&quot;width=device-width,\n",
       "                initial-scale=1.0, maximum-scale=1.0, user-scalable=no&quot; /&gt;\n",
       "            &lt;style&gt;\n",
       "                #map_4d1eb89613665d7229cb2d1fa4133ace {\n",
       "                    position: relative;\n",
       "                    width: 100.0%;\n",
       "                    height: 100.0%;\n",
       "                    left: 0.0%;\n",
       "                    top: 0.0%;\n",
       "                }\n",
       "                .leaflet-container { font-size: 1rem; }\n",
       "            &lt;/style&gt;\n",
       "\n",
       "            &lt;style&gt;html, body {\n",
       "                width: 100%;\n",
       "                height: 100%;\n",
       "                margin: 0;\n",
       "                padding: 0;\n",
       "            }\n",
       "            &lt;/style&gt;\n",
       "\n",
       "            &lt;style&gt;#map {\n",
       "                position:absolute;\n",
       "                top:0;\n",
       "                bottom:0;\n",
       "                right:0;\n",
       "                left:0;\n",
       "                }\n",
       "            &lt;/style&gt;\n",
       "\n",
       "            &lt;script&gt;\n",
       "                L_NO_TOUCH = false;\n",
       "                L_DISABLE_3D = false;\n",
       "            &lt;/script&gt;\n",
       "\n",
       "        \n",
       "&lt;/head&gt;\n",
       "&lt;body&gt;\n",
       "    \n",
       "    \n",
       "            &lt;div class=&quot;folium-map&quot; id=&quot;map_4d1eb89613665d7229cb2d1fa4133ace&quot; &gt;&lt;/div&gt;\n",
       "        \n",
       "&lt;/body&gt;\n",
       "&lt;script&gt;\n",
       "    \n",
       "    \n",
       "            var map_4d1eb89613665d7229cb2d1fa4133ace = L.map(\n",
       "                &quot;map_4d1eb89613665d7229cb2d1fa4133ace&quot;,\n",
       "                {\n",
       "                    center: [47.60839262154914, -122.33529203543296],\n",
       "                    crs: L.CRS.EPSG3857,\n",
       "                    ...{\n",
       "  &quot;zoom&quot;: 17,\n",
       "  &quot;zoomControl&quot;: true,\n",
       "  &quot;preferCanvas&quot;: false,\n",
       "}\n",
       "\n",
       "                }\n",
       "            );\n",
       "\n",
       "            \n",
       "\n",
       "        \n",
       "    \n",
       "            var tile_layer_3feb894f3b9ad2908165b7179cec5c22 = L.tileLayer(\n",
       "                &quot;https://tile.openstreetmap.org/{z}/{x}/{y}.png&quot;,\n",
       "                {\n",
       "  &quot;minZoom&quot;: 0,\n",
       "  &quot;maxZoom&quot;: 19,\n",
       "  &quot;maxNativeZoom&quot;: 19,\n",
       "  &quot;noWrap&quot;: false,\n",
       "  &quot;attribution&quot;: &quot;\\u0026copy; \\u003ca href=\\&quot;https://www.openstreetmap.org/copyright\\&quot;\\u003eOpenStreetMap\\u003c/a\\u003e contributors&quot;,\n",
       "  &quot;subdomains&quot;: &quot;abc&quot;,\n",
       "  &quot;detectRetina&quot;: false,\n",
       "  &quot;tms&quot;: false,\n",
       "  &quot;opacity&quot;: 1,\n",
       "}\n",
       "\n",
       "            );\n",
       "        \n",
       "    \n",
       "            tile_layer_3feb894f3b9ad2908165b7179cec5c22.addTo(map_4d1eb89613665d7229cb2d1fa4133ace);\n",
       "        \n",
       "    \n",
       "            var poly_line_6df459f6355b607ebd1034e4b9277edb = L.polyline(\n",
       "                [[47.608013, -122.335167], [47.60781033913533, -122.33536266643291], [47.60780426549518, -122.33536289738302], [47.60779677992401, -122.3358123554838], [47.607970038580454, -122.3359569380382], [47.607635192954305, -122.33564808483166], [47.60803667828576, -122.33568673176046], [47.608151409972194, -122.33502888771966], [47.608687729483066, -122.33518300575531], [47.608764117524096, -122.33519961800057], [47.60889270257975, -122.33532521671354], [47.60912527262461, -122.33519347029672], [47.60887157578555, -122.33478300194683], [47.6093015654782, -122.33479684552117], [47.60902865541471, -122.33487381161049]],\n",
       "                {&quot;bubblingMouseEvents&quot;: true, &quot;color&quot;: &quot;blue&quot;, &quot;dashArray&quot;: null, &quot;dashOffset&quot;: null, &quot;fill&quot;: false, &quot;fillColor&quot;: &quot;blue&quot;, &quot;fillOpacity&quot;: 0.2, &quot;fillRule&quot;: &quot;evenodd&quot;, &quot;lineCap&quot;: &quot;round&quot;, &quot;lineJoin&quot;: &quot;round&quot;, &quot;noClip&quot;: false, &quot;opacity&quot;: 0.8, &quot;smoothFactor&quot;: 1.0, &quot;stroke&quot;: true, &quot;weight&quot;: 3}\n",
       "            ).addTo(map_4d1eb89613665d7229cb2d1fa4133ace);\n",
       "        \n",
       "    \n",
       "        var popup_ccab7403672af5009e55d0ec6055e414 = L.popup({\n",
       "  &quot;maxWidth&quot;: &quot;100%&quot;,\n",
       "});\n",
       "\n",
       "        \n",
       "            \n",
       "                var html_f1016b2ea2cbe682e26021c577295e80 = $(`&lt;div id=&quot;html_f1016b2ea2cbe682e26021c577295e80&quot; style=&quot;width: 100.0%; height: 100.0%;&quot;&gt;monkey&#x27;s Journey Path&lt;/div&gt;`)[0];\n",
       "                popup_ccab7403672af5009e55d0ec6055e414.setContent(html_f1016b2ea2cbe682e26021c577295e80);\n",
       "            \n",
       "        \n",
       "\n",
       "        poly_line_6df459f6355b607ebd1034e4b9277edb.bindPopup(popup_ccab7403672af5009e55d0ec6055e414)\n",
       "        ;\n",
       "\n",
       "        \n",
       "    \n",
       "    \n",
       "            var marker_a453f6e9180146d5d9c914851fe21ad2 = L.marker(\n",
       "                [47.608013, -122.335167],\n",
       "                {\n",
       "}\n",
       "            ).addTo(map_4d1eb89613665d7229cb2d1fa4133ace);\n",
       "        \n",
       "    \n",
       "            var icon_8a06763ca33c165feae8ff4c1a7ca051 = L.AwesomeMarkers.icon(\n",
       "                {\n",
       "  &quot;markerColor&quot;: &quot;green&quot;,\n",
       "  &quot;iconColor&quot;: &quot;white&quot;,\n",
       "  &quot;icon&quot;: &quot;play&quot;,\n",
       "  &quot;prefix&quot;: &quot;glyphicon&quot;,\n",
       "  &quot;extraClasses&quot;: &quot;fa-rotate-0&quot;,\n",
       "}\n",
       "            );\n",
       "        \n",
       "    \n",
       "        var popup_dc9c44f73bbd778fafe056a00ba7c40b = L.popup({\n",
       "  &quot;maxWidth&quot;: &quot;100%&quot;,\n",
       "});\n",
       "\n",
       "        \n",
       "            \n",
       "                var html_51c82df35052d9815d28afa06430ec93 = $(`&lt;div id=&quot;html_51c82df35052d9815d28afa06430ec93&quot; style=&quot;width: 100.0%; height: 100.0%;&quot;&gt;🏁 Journey Start&lt;br&gt;Time: 13:52&lt;/div&gt;`)[0];\n",
       "                popup_dc9c44f73bbd778fafe056a00ba7c40b.setContent(html_51c82df35052d9815d28afa06430ec93);\n",
       "            \n",
       "        \n",
       "\n",
       "        marker_a453f6e9180146d5d9c914851fe21ad2.bindPopup(popup_dc9c44f73bbd778fafe056a00ba7c40b)\n",
       "        ;\n",
       "\n",
       "        \n",
       "    \n",
       "    \n",
       "                marker_a453f6e9180146d5d9c914851fe21ad2.setIcon(icon_8a06763ca33c165feae8ff4c1a7ca051);\n",
       "            \n",
       "    \n",
       "            var marker_38c806f5f5219fc25754899e3762fdf2 = L.marker(\n",
       "                [47.60902865541471, -122.33487381161049],\n",
       "                {\n",
       "}\n",
       "            ).addTo(map_4d1eb89613665d7229cb2d1fa4133ace);\n",
       "        \n",
       "    \n",
       "            var icon_b0939f9c30ae71939a8e301387393e68 = L.AwesomeMarkers.icon(\n",
       "                {\n",
       "  &quot;markerColor&quot;: &quot;red&quot;,\n",
       "  &quot;iconColor&quot;: &quot;white&quot;,\n",
       "  &quot;icon&quot;: &quot;stop&quot;,\n",
       "  &quot;prefix&quot;: &quot;glyphicon&quot;,\n",
       "  &quot;extraClasses&quot;: &quot;fa-rotate-0&quot;,\n",
       "}\n",
       "            );\n",
       "        \n",
       "    \n",
       "        var popup_250ce788aa3dda178e99f3ca6f4fca48 = L.popup({\n",
       "  &quot;maxWidth&quot;: &quot;100%&quot;,\n",
       "});\n",
       "\n",
       "        \n",
       "            \n",
       "                var html_fc2407bbd065bb342ffaa4491e2b650d = $(`&lt;div id=&quot;html_fc2407bbd065bb342ffaa4491e2b650d&quot; style=&quot;width: 100.0%; height: 100.0%;&quot;&gt;🏁 Journey End&lt;br&gt;Time: 19:52&lt;/div&gt;`)[0];\n",
       "                popup_250ce788aa3dda178e99f3ca6f4fca48.setContent(html_fc2407bbd065bb342ffaa4491e2b650d);\n",
       "            \n",
       "        \n",
       "\n",
       "        marker_38c806f5f5219fc25754899e3762fdf2.bindPopup(popup_250ce788aa3dda178e99f3ca6f4fca48)\n",
       "        ;\n",
       "\n",
       "        \n",
       "    \n",
       "    \n",
       "                marker_38c806f5f5219fc25754899e3762fdf2.setIcon(icon_b0939f9c30ae71939a8e301387393e68);\n",
       "            \n",
       "    \n",
       "            var circle_marker_b9ed3ecefd4db35141940e9d208f52cd = L.circleMarker(\n",
       "                [47.608013, -122.335167],\n",
       "                {&quot;bubblingMouseEvents&quot;: true, &quot;color&quot;: &quot;blue&quot;, &quot;dashArray&quot;: null, &quot;dashOffset&quot;: null, &quot;fill&quot;: true, &quot;fillColor&quot;: &quot;lightblue&quot;, &quot;fillOpacity&quot;: 0.2, &quot;fillRule&quot;: &quot;evenodd&quot;, &quot;lineCap&quot;: &quot;round&quot;, &quot;lineJoin&quot;: &quot;round&quot;, &quot;opacity&quot;: 1.0, &quot;radius&quot;: 4, &quot;stroke&quot;: true, &quot;weight&quot;: 3}\n",
       "            ).addTo(map_4d1eb89613665d7229cb2d1fa4133ace);\n",
       "        \n",
       "    \n",
       "        var popup_1b5f36b52e47e64f9f04fab35df8e8f8 = L.popup({\n",
       "  &quot;maxWidth&quot;: &quot;100%&quot;,\n",
       "});\n",
       "\n",
       "        \n",
       "            \n",
       "                var html_41f6f4dbbc2f7df706ec4f3321d4134e = $(`&lt;div id=&quot;html_41f6f4dbbc2f7df706ec4f3321d4134e&quot; style=&quot;width: 100.0%; height: 100.0%;&quot;&gt;📍 Point 1&lt;br&gt;Time: 13:52&lt;/div&gt;`)[0];\n",
       "                popup_1b5f36b52e47e64f9f04fab35df8e8f8.setContent(html_41f6f4dbbc2f7df706ec4f3321d4134e);\n",
       "            \n",
       "        \n",
       "\n",
       "        circle_marker_b9ed3ecefd4db35141940e9d208f52cd.bindPopup(popup_1b5f36b52e47e64f9f04fab35df8e8f8)\n",
       "        ;\n",
       "\n",
       "        \n",
       "    \n",
       "    \n",
       "            var circle_marker_67a106732916c3c533f98c35332535b1 = L.circleMarker(\n",
       "                [47.60781033913533, -122.33536266643291],\n",
       "                {&quot;bubblingMouseEvents&quot;: true, &quot;color&quot;: &quot;blue&quot;, &quot;dashArray&quot;: null, &quot;dashOffset&quot;: null, &quot;fill&quot;: true, &quot;fillColor&quot;: &quot;lightblue&quot;, &quot;fillOpacity&quot;: 0.2, &quot;fillRule&quot;: &quot;evenodd&quot;, &quot;lineCap&quot;: &quot;round&quot;, &quot;lineJoin&quot;: &quot;round&quot;, &quot;opacity&quot;: 1.0, &quot;radius&quot;: 4, &quot;stroke&quot;: true, &quot;weight&quot;: 3}\n",
       "            ).addTo(map_4d1eb89613665d7229cb2d1fa4133ace);\n",
       "        \n",
       "    \n",
       "        var popup_44ff6b4f0c9ce80c9b28178dc59ef34d = L.popup({\n",
       "  &quot;maxWidth&quot;: &quot;100%&quot;,\n",
       "});\n",
       "\n",
       "        \n",
       "            \n",
       "                var html_724e298177fb84e22a60717c21571712 = $(`&lt;div id=&quot;html_724e298177fb84e22a60717c21571712&quot; style=&quot;width: 100.0%; height: 100.0%;&quot;&gt;📍 Point 2&lt;br&gt;Time: 14:04&lt;/div&gt;`)[0];\n",
       "                popup_44ff6b4f0c9ce80c9b28178dc59ef34d.setContent(html_724e298177fb84e22a60717c21571712);\n",
       "            \n",
       "        \n",
       "\n",
       "        circle_marker_67a106732916c3c533f98c35332535b1.bindPopup(popup_44ff6b4f0c9ce80c9b28178dc59ef34d)\n",
       "        ;\n",
       "\n",
       "        \n",
       "    \n",
       "    \n",
       "            var circle_marker_27dfbf016ba424818e5fce327c04b26f = L.circleMarker(\n",
       "                [47.60780426549518, -122.33536289738302],\n",
       "                {&quot;bubblingMouseEvents&quot;: true, &quot;color&quot;: &quot;blue&quot;, &quot;dashArray&quot;: null, &quot;dashOffset&quot;: null, &quot;fill&quot;: true, &quot;fillColor&quot;: &quot;lightblue&quot;, &quot;fillOpacity&quot;: 0.2, &quot;fillRule&quot;: &quot;evenodd&quot;, &quot;lineCap&quot;: &quot;round&quot;, &quot;lineJoin&quot;: &quot;round&quot;, &quot;opacity&quot;: 1.0, &quot;radius&quot;: 4, &quot;stroke&quot;: true, &quot;weight&quot;: 3}\n",
       "            ).addTo(map_4d1eb89613665d7229cb2d1fa4133ace);\n",
       "        \n",
       "    \n",
       "        var popup_52e25e10c21f74e85ad2f2ff6f303128 = L.popup({\n",
       "  &quot;maxWidth&quot;: &quot;100%&quot;,\n",
       "});\n",
       "\n",
       "        \n",
       "            \n",
       "                var html_456bdbf174f7403dc7bbc83167226815 = $(`&lt;div id=&quot;html_456bdbf174f7403dc7bbc83167226815&quot; style=&quot;width: 100.0%; height: 100.0%;&quot;&gt;📍 Point 3&lt;br&gt;Time: 14:16&lt;/div&gt;`)[0];\n",
       "                popup_52e25e10c21f74e85ad2f2ff6f303128.setContent(html_456bdbf174f7403dc7bbc83167226815);\n",
       "            \n",
       "        \n",
       "\n",
       "        circle_marker_27dfbf016ba424818e5fce327c04b26f.bindPopup(popup_52e25e10c21f74e85ad2f2ff6f303128)\n",
       "        ;\n",
       "\n",
       "        \n",
       "    \n",
       "    \n",
       "            var circle_marker_50f74fde9db0a43f34bee86b26165d23 = L.circleMarker(\n",
       "                [47.60779677992401, -122.3358123554838],\n",
       "                {&quot;bubblingMouseEvents&quot;: true, &quot;color&quot;: &quot;blue&quot;, &quot;dashArray&quot;: null, &quot;dashOffset&quot;: null, &quot;fill&quot;: true, &quot;fillColor&quot;: &quot;lightblue&quot;, &quot;fillOpacity&quot;: 0.2, &quot;fillRule&quot;: &quot;evenodd&quot;, &quot;lineCap&quot;: &quot;round&quot;, &quot;lineJoin&quot;: &quot;round&quot;, &quot;opacity&quot;: 1.0, &quot;radius&quot;: 4, &quot;stroke&quot;: true, &quot;weight&quot;: 3}\n",
       "            ).addTo(map_4d1eb89613665d7229cb2d1fa4133ace);\n",
       "        \n",
       "    \n",
       "        var popup_1b15cb4d85767711332fa00bea934364 = L.popup({\n",
       "  &quot;maxWidth&quot;: &quot;100%&quot;,\n",
       "});\n",
       "\n",
       "        \n",
       "            \n",
       "                var html_e2b4f2f0350ed1b6d66077fcc3aa8a0b = $(`&lt;div id=&quot;html_e2b4f2f0350ed1b6d66077fcc3aa8a0b&quot; style=&quot;width: 100.0%; height: 100.0%;&quot;&gt;📍 Point 4&lt;br&gt;Time: 15:10&lt;/div&gt;`)[0];\n",
       "                popup_1b15cb4d85767711332fa00bea934364.setContent(html_e2b4f2f0350ed1b6d66077fcc3aa8a0b);\n",
       "            \n",
       "        \n",
       "\n",
       "        circle_marker_50f74fde9db0a43f34bee86b26165d23.bindPopup(popup_1b15cb4d85767711332fa00bea934364)\n",
       "        ;\n",
       "\n",
       "        \n",
       "    \n",
       "    \n",
       "            var circle_marker_029a85dd55b6580ee7553ad237f7ef0f = L.circleMarker(\n",
       "                [47.607970038580454, -122.3359569380382],\n",
       "                {&quot;bubblingMouseEvents&quot;: true, &quot;color&quot;: &quot;blue&quot;, &quot;dashArray&quot;: null, &quot;dashOffset&quot;: null, &quot;fill&quot;: true, &quot;fillColor&quot;: &quot;lightblue&quot;, &quot;fillOpacity&quot;: 0.2, &quot;fillRule&quot;: &quot;evenodd&quot;, &quot;lineCap&quot;: &quot;round&quot;, &quot;lineJoin&quot;: &quot;round&quot;, &quot;opacity&quot;: 1.0, &quot;radius&quot;: 4, &quot;stroke&quot;: true, &quot;weight&quot;: 3}\n",
       "            ).addTo(map_4d1eb89613665d7229cb2d1fa4133ace);\n",
       "        \n",
       "    \n",
       "        var popup_97e482beda9072082e79ea70e4cb3496 = L.popup({\n",
       "  &quot;maxWidth&quot;: &quot;100%&quot;,\n",
       "});\n",
       "\n",
       "        \n",
       "            \n",
       "                var html_d0b18a218372ecaecdb7381f125d12e5 = $(`&lt;div id=&quot;html_d0b18a218372ecaecdb7381f125d12e5&quot; style=&quot;width: 100.0%; height: 100.0%;&quot;&gt;📍 Point 5&lt;br&gt;Time: 14:32&lt;/div&gt;`)[0];\n",
       "                popup_97e482beda9072082e79ea70e4cb3496.setContent(html_d0b18a218372ecaecdb7381f125d12e5);\n",
       "            \n",
       "        \n",
       "\n",
       "        circle_marker_029a85dd55b6580ee7553ad237f7ef0f.bindPopup(popup_97e482beda9072082e79ea70e4cb3496)\n",
       "        ;\n",
       "\n",
       "        \n",
       "    \n",
       "    \n",
       "            var circle_marker_d71f85c415b96cd776ba3686651e2084 = L.circleMarker(\n",
       "                [47.607635192954305, -122.33564808483166],\n",
       "                {&quot;bubblingMouseEvents&quot;: true, &quot;color&quot;: &quot;blue&quot;, &quot;dashArray&quot;: null, &quot;dashOffset&quot;: null, &quot;fill&quot;: true, &quot;fillColor&quot;: &quot;lightblue&quot;, &quot;fillOpacity&quot;: 0.2, &quot;fillRule&quot;: &quot;evenodd&quot;, &quot;lineCap&quot;: &quot;round&quot;, &quot;lineJoin&quot;: &quot;round&quot;, &quot;opacity&quot;: 1.0, &quot;radius&quot;: 4, &quot;stroke&quot;: true, &quot;weight&quot;: 3}\n",
       "            ).addTo(map_4d1eb89613665d7229cb2d1fa4133ace);\n",
       "        \n",
       "    \n",
       "        var popup_2bf1f8ab4ac96a38c3c0abdc47cfb588 = L.popup({\n",
       "  &quot;maxWidth&quot;: &quot;100%&quot;,\n",
       "});\n",
       "\n",
       "        \n",
       "            \n",
       "                var html_fb6c7de5ec5d680a2523e107f1d08e09 = $(`&lt;div id=&quot;html_fb6c7de5ec5d680a2523e107f1d08e09&quot; style=&quot;width: 100.0%; height: 100.0%;&quot;&gt;📍 Point 6&lt;br&gt;Time: 15:22&lt;/div&gt;`)[0];\n",
       "                popup_2bf1f8ab4ac96a38c3c0abdc47cfb588.setContent(html_fb6c7de5ec5d680a2523e107f1d08e09);\n",
       "            \n",
       "        \n",
       "\n",
       "        circle_marker_d71f85c415b96cd776ba3686651e2084.bindPopup(popup_2bf1f8ab4ac96a38c3c0abdc47cfb588)\n",
       "        ;\n",
       "\n",
       "        \n",
       "    \n",
       "    \n",
       "            var circle_marker_b4af6bbc69c42a5413a7298c5bf50e6c = L.circleMarker(\n",
       "                [47.60803667828576, -122.33568673176046],\n",
       "                {&quot;bubblingMouseEvents&quot;: true, &quot;color&quot;: &quot;blue&quot;, &quot;dashArray&quot;: null, &quot;dashOffset&quot;: null, &quot;fill&quot;: true, &quot;fillColor&quot;: &quot;lightblue&quot;, &quot;fillOpacity&quot;: 0.2, &quot;fillRule&quot;: &quot;evenodd&quot;, &quot;lineCap&quot;: &quot;round&quot;, &quot;lineJoin&quot;: &quot;round&quot;, &quot;opacity&quot;: 1.0, &quot;radius&quot;: 4, &quot;stroke&quot;: true, &quot;weight&quot;: 3}\n",
       "            ).addTo(map_4d1eb89613665d7229cb2d1fa4133ace);\n",
       "        \n",
       "    \n",
       "        var popup_2a22bdab4861961d18570c5d6f6e7043 = L.popup({\n",
       "  &quot;maxWidth&quot;: &quot;100%&quot;,\n",
       "});\n",
       "\n",
       "        \n",
       "            \n",
       "                var html_a0607dd17dc950747d4f7b1b62ccb6a2 = $(`&lt;div id=&quot;html_a0607dd17dc950747d4f7b1b62ccb6a2&quot; style=&quot;width: 100.0%; height: 100.0%;&quot;&gt;📍 Point 7&lt;br&gt;Time: 15:58&lt;/div&gt;`)[0];\n",
       "                popup_2a22bdab4861961d18570c5d6f6e7043.setContent(html_a0607dd17dc950747d4f7b1b62ccb6a2);\n",
       "            \n",
       "        \n",
       "\n",
       "        circle_marker_b4af6bbc69c42a5413a7298c5bf50e6c.bindPopup(popup_2a22bdab4861961d18570c5d6f6e7043)\n",
       "        ;\n",
       "\n",
       "        \n",
       "    \n",
       "    \n",
       "            var circle_marker_6cc898a062809dd9ade3fe7f758656cb = L.circleMarker(\n",
       "                [47.608151409972194, -122.33502888771966],\n",
       "                {&quot;bubblingMouseEvents&quot;: true, &quot;color&quot;: &quot;blue&quot;, &quot;dashArray&quot;: null, &quot;dashOffset&quot;: null, &quot;fill&quot;: true, &quot;fillColor&quot;: &quot;lightblue&quot;, &quot;fillOpacity&quot;: 0.2, &quot;fillRule&quot;: &quot;evenodd&quot;, &quot;lineCap&quot;: &quot;round&quot;, &quot;lineJoin&quot;: &quot;round&quot;, &quot;opacity&quot;: 1.0, &quot;radius&quot;: 4, &quot;stroke&quot;: true, &quot;weight&quot;: 3}\n",
       "            ).addTo(map_4d1eb89613665d7229cb2d1fa4133ace);\n",
       "        \n",
       "    \n",
       "        var popup_4bd090d4f1336079a80aa2f3ab5fe8df = L.popup({\n",
       "  &quot;maxWidth&quot;: &quot;100%&quot;,\n",
       "});\n",
       "\n",
       "        \n",
       "            \n",
       "                var html_97991a200366c3bf77fe332690ca4f35 = $(`&lt;div id=&quot;html_97991a200366c3bf77fe332690ca4f35&quot; style=&quot;width: 100.0%; height: 100.0%;&quot;&gt;📍 Point 8&lt;br&gt;Time: 16:08&lt;/div&gt;`)[0];\n",
       "                popup_4bd090d4f1336079a80aa2f3ab5fe8df.setContent(html_97991a200366c3bf77fe332690ca4f35);\n",
       "            \n",
       "        \n",
       "\n",
       "        circle_marker_6cc898a062809dd9ade3fe7f758656cb.bindPopup(popup_4bd090d4f1336079a80aa2f3ab5fe8df)\n",
       "        ;\n",
       "\n",
       "        \n",
       "    \n",
       "    \n",
       "            var circle_marker_234dac68abb84bcb90c1818e44c1b71c = L.circleMarker(\n",
       "                [47.608687729483066, -122.33518300575531],\n",
       "                {&quot;bubblingMouseEvents&quot;: true, &quot;color&quot;: &quot;blue&quot;, &quot;dashArray&quot;: null, &quot;dashOffset&quot;: null, &quot;fill&quot;: true, &quot;fillColor&quot;: &quot;lightblue&quot;, &quot;fillOpacity&quot;: 0.2, &quot;fillRule&quot;: &quot;evenodd&quot;, &quot;lineCap&quot;: &quot;round&quot;, &quot;lineJoin&quot;: &quot;round&quot;, &quot;opacity&quot;: 1.0, &quot;radius&quot;: 4, &quot;stroke&quot;: true, &quot;weight&quot;: 3}\n",
       "            ).addTo(map_4d1eb89613665d7229cb2d1fa4133ace);\n",
       "        \n",
       "    \n",
       "        var popup_fc7c4284062f0e3c93688e98851656d8 = L.popup({\n",
       "  &quot;maxWidth&quot;: &quot;100%&quot;,\n",
       "});\n",
       "\n",
       "        \n",
       "            \n",
       "                var html_af360fbcccb3f27e1e2ab10abded0648 = $(`&lt;div id=&quot;html_af360fbcccb3f27e1e2ab10abded0648&quot; style=&quot;width: 100.0%; height: 100.0%;&quot;&gt;📍 Point 9&lt;br&gt;Time: 15:49&lt;/div&gt;`)[0];\n",
       "                popup_fc7c4284062f0e3c93688e98851656d8.setContent(html_af360fbcccb3f27e1e2ab10abded0648);\n",
       "            \n",
       "        \n",
       "\n",
       "        circle_marker_234dac68abb84bcb90c1818e44c1b71c.bindPopup(popup_fc7c4284062f0e3c93688e98851656d8)\n",
       "        ;\n",
       "\n",
       "        \n",
       "    \n",
       "    \n",
       "            var circle_marker_6baa8ce7b7f52ea8d81037f890ce898e = L.circleMarker(\n",
       "                [47.608764117524096, -122.33519961800057],\n",
       "                {&quot;bubblingMouseEvents&quot;: true, &quot;color&quot;: &quot;blue&quot;, &quot;dashArray&quot;: null, &quot;dashOffset&quot;: null, &quot;fill&quot;: true, &quot;fillColor&quot;: &quot;lightblue&quot;, &quot;fillOpacity&quot;: 0.2, &quot;fillRule&quot;: &quot;evenodd&quot;, &quot;lineCap&quot;: &quot;round&quot;, &quot;lineJoin&quot;: &quot;round&quot;, &quot;opacity&quot;: 1.0, &quot;radius&quot;: 4, &quot;stroke&quot;: true, &quot;weight&quot;: 3}\n",
       "            ).addTo(map_4d1eb89613665d7229cb2d1fa4133ace);\n",
       "        \n",
       "    \n",
       "        var popup_e6350c7e41beb456855d282b4218bc88 = L.popup({\n",
       "  &quot;maxWidth&quot;: &quot;100%&quot;,\n",
       "});\n",
       "\n",
       "        \n",
       "            \n",
       "                var html_1cafb0e47cede9fdc51c3861a880f1f0 = $(`&lt;div id=&quot;html_1cafb0e47cede9fdc51c3861a880f1f0&quot; style=&quot;width: 100.0%; height: 100.0%;&quot;&gt;📍 Point 10&lt;br&gt;Time: 17:22&lt;/div&gt;`)[0];\n",
       "                popup_e6350c7e41beb456855d282b4218bc88.setContent(html_1cafb0e47cede9fdc51c3861a880f1f0);\n",
       "            \n",
       "        \n",
       "\n",
       "        circle_marker_6baa8ce7b7f52ea8d81037f890ce898e.bindPopup(popup_e6350c7e41beb456855d282b4218bc88)\n",
       "        ;\n",
       "\n",
       "        \n",
       "    \n",
       "    \n",
       "            var circle_marker_883bc6f53f5c2927922dc2ca9c3c6ade = L.circleMarker(\n",
       "                [47.60889270257975, -122.33532521671354],\n",
       "                {&quot;bubblingMouseEvents&quot;: true, &quot;color&quot;: &quot;blue&quot;, &quot;dashArray&quot;: null, &quot;dashOffset&quot;: null, &quot;fill&quot;: true, &quot;fillColor&quot;: &quot;lightblue&quot;, &quot;fillOpacity&quot;: 0.2, &quot;fillRule&quot;: &quot;evenodd&quot;, &quot;lineCap&quot;: &quot;round&quot;, &quot;lineJoin&quot;: &quot;round&quot;, &quot;opacity&quot;: 1.0, &quot;radius&quot;: 4, &quot;stroke&quot;: true, &quot;weight&quot;: 3}\n",
       "            ).addTo(map_4d1eb89613665d7229cb2d1fa4133ace);\n",
       "        \n",
       "    \n",
       "        var popup_b0d33d078df4cd6552a5c850d87d7c81 = L.popup({\n",
       "  &quot;maxWidth&quot;: &quot;100%&quot;,\n",
       "});\n",
       "\n",
       "        \n",
       "            \n",
       "                var html_58ba9ffae06ef80552b61cb725507e03 = $(`&lt;div id=&quot;html_58ba9ffae06ef80552b61cb725507e03&quot; style=&quot;width: 100.0%; height: 100.0%;&quot;&gt;📍 Point 11&lt;br&gt;Time: 17:43&lt;/div&gt;`)[0];\n",
       "                popup_b0d33d078df4cd6552a5c850d87d7c81.setContent(html_58ba9ffae06ef80552b61cb725507e03);\n",
       "            \n",
       "        \n",
       "\n",
       "        circle_marker_883bc6f53f5c2927922dc2ca9c3c6ade.bindPopup(popup_b0d33d078df4cd6552a5c850d87d7c81)\n",
       "        ;\n",
       "\n",
       "        \n",
       "    \n",
       "    \n",
       "            var circle_marker_733e4db6cb1f35b935fdafe74bc9e8ad = L.circleMarker(\n",
       "                [47.60912527262461, -122.33519347029672],\n",
       "                {&quot;bubblingMouseEvents&quot;: true, &quot;color&quot;: &quot;blue&quot;, &quot;dashArray&quot;: null, &quot;dashOffset&quot;: null, &quot;fill&quot;: true, &quot;fillColor&quot;: &quot;lightblue&quot;, &quot;fillOpacity&quot;: 0.2, &quot;fillRule&quot;: &quot;evenodd&quot;, &quot;lineCap&quot;: &quot;round&quot;, &quot;lineJoin&quot;: &quot;round&quot;, &quot;opacity&quot;: 1.0, &quot;radius&quot;: 4, &quot;stroke&quot;: true, &quot;weight&quot;: 3}\n",
       "            ).addTo(map_4d1eb89613665d7229cb2d1fa4133ace);\n",
       "        \n",
       "    \n",
       "        var popup_fb4d87452a93a25a2967ac88c73b1fcc = L.popup({\n",
       "  &quot;maxWidth&quot;: &quot;100%&quot;,\n",
       "});\n",
       "\n",
       "        \n",
       "            \n",
       "                var html_6aaf790768a28dff206a9cd1faa38674 = $(`&lt;div id=&quot;html_6aaf790768a28dff206a9cd1faa38674&quot; style=&quot;width: 100.0%; height: 100.0%;&quot;&gt;📍 Point 12&lt;br&gt;Time: 16:04&lt;/div&gt;`)[0];\n",
       "                popup_fb4d87452a93a25a2967ac88c73b1fcc.setContent(html_6aaf790768a28dff206a9cd1faa38674);\n",
       "            \n",
       "        \n",
       "\n",
       "        circle_marker_733e4db6cb1f35b935fdafe74bc9e8ad.bindPopup(popup_fb4d87452a93a25a2967ac88c73b1fcc)\n",
       "        ;\n",
       "\n",
       "        \n",
       "    \n",
       "    \n",
       "            var circle_marker_8fe9381edb9291b8b9ea5a47e6f9b548 = L.circleMarker(\n",
       "                [47.60887157578555, -122.33478300194683],\n",
       "                {&quot;bubblingMouseEvents&quot;: true, &quot;color&quot;: &quot;blue&quot;, &quot;dashArray&quot;: null, &quot;dashOffset&quot;: null, &quot;fill&quot;: true, &quot;fillColor&quot;: &quot;lightblue&quot;, &quot;fillOpacity&quot;: 0.2, &quot;fillRule&quot;: &quot;evenodd&quot;, &quot;lineCap&quot;: &quot;round&quot;, &quot;lineJoin&quot;: &quot;round&quot;, &quot;opacity&quot;: 1.0, &quot;radius&quot;: 4, &quot;stroke&quot;: true, &quot;weight&quot;: 3}\n",
       "            ).addTo(map_4d1eb89613665d7229cb2d1fa4133ace);\n",
       "        \n",
       "    \n",
       "        var popup_997741ddf7485de0b6d575fd83662f80 = L.popup({\n",
       "  &quot;maxWidth&quot;: &quot;100%&quot;,\n",
       "});\n",
       "\n",
       "        \n",
       "            \n",
       "                var html_1f882efaffa8a22994a9379bde0125ed = $(`&lt;div id=&quot;html_1f882efaffa8a22994a9379bde0125ed&quot; style=&quot;width: 100.0%; height: 100.0%;&quot;&gt;📍 Point 13&lt;br&gt;Time: 18:25&lt;/div&gt;`)[0];\n",
       "                popup_997741ddf7485de0b6d575fd83662f80.setContent(html_1f882efaffa8a22994a9379bde0125ed);\n",
       "            \n",
       "        \n",
       "\n",
       "        circle_marker_8fe9381edb9291b8b9ea5a47e6f9b548.bindPopup(popup_997741ddf7485de0b6d575fd83662f80)\n",
       "        ;\n",
       "\n",
       "        \n",
       "    \n",
       "    \n",
       "            var circle_marker_a3300bfd48cd03fe3caace5115ce8572 = L.circleMarker(\n",
       "                [47.6093015654782, -122.33479684552117],\n",
       "                {&quot;bubblingMouseEvents&quot;: true, &quot;color&quot;: &quot;blue&quot;, &quot;dashArray&quot;: null, &quot;dashOffset&quot;: null, &quot;fill&quot;: true, &quot;fillColor&quot;: &quot;lightblue&quot;, &quot;fillOpacity&quot;: 0.2, &quot;fillRule&quot;: &quot;evenodd&quot;, &quot;lineCap&quot;: &quot;round&quot;, &quot;lineJoin&quot;: &quot;round&quot;, &quot;opacity&quot;: 1.0, &quot;radius&quot;: 4, &quot;stroke&quot;: true, &quot;weight&quot;: 3}\n",
       "            ).addTo(map_4d1eb89613665d7229cb2d1fa4133ace);\n",
       "        \n",
       "    \n",
       "        var popup_ae7580f142453b788d46ae02648bdffc = L.popup({\n",
       "  &quot;maxWidth&quot;: &quot;100%&quot;,\n",
       "});\n",
       "\n",
       "        \n",
       "            \n",
       "                var html_fb98bfb15e5060d1054bb8341a05277f = $(`&lt;div id=&quot;html_fb98bfb15e5060d1054bb8341a05277f&quot; style=&quot;width: 100.0%; height: 100.0%;&quot;&gt;📍 Point 14&lt;br&gt;Time: 17:50&lt;/div&gt;`)[0];\n",
       "                popup_ae7580f142453b788d46ae02648bdffc.setContent(html_fb98bfb15e5060d1054bb8341a05277f);\n",
       "            \n",
       "        \n",
       "\n",
       "        circle_marker_a3300bfd48cd03fe3caace5115ce8572.bindPopup(popup_ae7580f142453b788d46ae02648bdffc)\n",
       "        ;\n",
       "\n",
       "        \n",
       "    \n",
       "    \n",
       "            var circle_marker_8fdf620763b238f5bf579ee492898271 = L.circleMarker(\n",
       "                [47.60902865541471, -122.33487381161049],\n",
       "                {&quot;bubblingMouseEvents&quot;: true, &quot;color&quot;: &quot;blue&quot;, &quot;dashArray&quot;: null, &quot;dashOffset&quot;: null, &quot;fill&quot;: true, &quot;fillColor&quot;: &quot;lightblue&quot;, &quot;fillOpacity&quot;: 0.2, &quot;fillRule&quot;: &quot;evenodd&quot;, &quot;lineCap&quot;: &quot;round&quot;, &quot;lineJoin&quot;: &quot;round&quot;, &quot;opacity&quot;: 1.0, &quot;radius&quot;: 4, &quot;stroke&quot;: true, &quot;weight&quot;: 3}\n",
       "            ).addTo(map_4d1eb89613665d7229cb2d1fa4133ace);\n",
       "        \n",
       "    \n",
       "        var popup_607191ec040fadb5771868482f0c3f66 = L.popup({\n",
       "  &quot;maxWidth&quot;: &quot;100%&quot;,\n",
       "});\n",
       "\n",
       "        \n",
       "            \n",
       "                var html_209ab2dc5990c9c872016dfa176750a0 = $(`&lt;div id=&quot;html_209ab2dc5990c9c872016dfa176750a0&quot; style=&quot;width: 100.0%; height: 100.0%;&quot;&gt;📍 Point 15&lt;br&gt;Time: 19:52&lt;/div&gt;`)[0];\n",
       "                popup_607191ec040fadb5771868482f0c3f66.setContent(html_209ab2dc5990c9c872016dfa176750a0);\n",
       "            \n",
       "        \n",
       "\n",
       "        circle_marker_8fdf620763b238f5bf579ee492898271.bindPopup(popup_607191ec040fadb5771868482f0c3f66)\n",
       "        ;\n",
       "\n",
       "        \n",
       "    \n",
       "&lt;/script&gt;\n",
       "&lt;/html&gt;\" style=\"position:absolute;width:100%;height:100%;left:0;top:0;border:none !important;\" allowfullscreen webkitallowfullscreen mozallowfullscreen></iframe></div></div>"
      ],
      "text/plain": [
       "<folium.folium.Map at 0x294c5022e90>"
      ]
     },
     "execution_count": 5,
     "metadata": {},
     "output_type": "execute_result"
    }
   ],
   "source": [
    "# Calculate the center point for the map\n",
    "center_lat = path_df['Latitude'].mean()\n",
    "center_lon = path_df['Longitude'].mean()\n",
    "\n",
    "# Create the base map\n",
    "monkey_map = folium.Map(\n",
    "    location=[center_lat, center_lon],\n",
    "    zoom_start=17,\n",
    "    tiles='OpenStreetMap'\n",
    ")\n",
    "\n",
    "# Add the journey path\n",
    "path_coordinates = list(zip(path_df['Latitude'], path_df['Longitude']))\n",
    "folium.PolyLine(\n",
    "    locations=path_coordinates,\n",
    "    color='blue',\n",
    "    weight=3,\n",
    "    opacity=0.8,\n",
    "    popup='monkey\\'s Journey Path'\n",
    ").add_to(monkey_map)\n",
    "\n",
    "# Add start point\n",
    "folium.Marker(\n",
    "    location=[path_df.iloc[0]['Latitude'], path_df.iloc[0]['Longitude']],\n",
    "    popup=f\"🏁 Journey Start<br>Time: {path_df.iloc[0]['Time']}\",\n",
    "    icon=folium.Icon(color='green', icon='play')\n",
    ").add_to(monkey_map)\n",
    "\n",
    "# Add end point\n",
    "folium.Marker(\n",
    "    location=[path_df.iloc[-1]['Latitude'], path_df.iloc[-1]['Longitude']],\n",
    "    popup=f\"🏁 Journey End<br>Time: {path_df.iloc[-1]['Time']}\",\n",
    "    icon=folium.Icon(color='red', icon='stop')\n",
    ").add_to(monkey_map)\n",
    "\n",
    "# Add path points\n",
    "for _, point in path_df.iterrows():\n",
    "    folium.CircleMarker(\n",
    "        location=[point['Latitude'], point['Longitude']],\n",
    "        radius=4,\n",
    "        popup=f\"📍 Point {point['Point']}<br>Time: {point['Time']}\",\n",
    "        color='blue',\n",
    "        fill=True,\n",
    "        fillColor='lightblue'\n",
    "    ).add_to(monkey_map)\n",
    "\n",
    "print(\"🗺️ Base map with journey path created!\")\n",
    "monkey_map"
   ]
  },
  {
   "cell_type": "markdown",
   "id": "0fc429c7",
   "metadata": {},
   "source": [
    "## Customize Map Visualization\n",
    "\n",
    "Now let's enhance our map by adding the activity markers with custom icons and colors, plus create an additional visualization showing monkey's health statistics."
   ]
  },
  {
   "cell_type": "code",
   "execution_count": 6,
   "id": "cb619b62",
   "metadata": {},
   "outputs": [
    {
     "name": "stdout",
     "output_type": "stream",
     "text": [
      "🎨 Enhanced map with comprehensive activity icons created!\n",
      "📊 Total activity types supported: 56\n"
     ]
    },
    {
     "data": {
      "text/html": [
       "<div style=\"width:100%;\"><div style=\"position:relative;width:100%;height:0;padding-bottom:60%;\"><span style=\"color:#565656\">Make this Notebook Trusted to load map: File -> Trust Notebook</span><iframe srcdoc=\"&lt;!DOCTYPE html&gt;\n",
       "&lt;html&gt;\n",
       "&lt;head&gt;\n",
       "    \n",
       "    &lt;meta http-equiv=&quot;content-type&quot; content=&quot;text/html; charset=UTF-8&quot; /&gt;\n",
       "    &lt;script src=&quot;https://cdn.jsdelivr.net/npm/leaflet@1.9.3/dist/leaflet.js&quot;&gt;&lt;/script&gt;\n",
       "    &lt;script src=&quot;https://code.jquery.com/jquery-3.7.1.min.js&quot;&gt;&lt;/script&gt;\n",
       "    &lt;script src=&quot;https://cdn.jsdelivr.net/npm/bootstrap@5.2.2/dist/js/bootstrap.bundle.min.js&quot;&gt;&lt;/script&gt;\n",
       "    &lt;script src=&quot;https://cdnjs.cloudflare.com/ajax/libs/Leaflet.awesome-markers/2.0.2/leaflet.awesome-markers.js&quot;&gt;&lt;/script&gt;\n",
       "    &lt;link rel=&quot;stylesheet&quot; href=&quot;https://cdn.jsdelivr.net/npm/leaflet@1.9.3/dist/leaflet.css&quot;/&gt;\n",
       "    &lt;link rel=&quot;stylesheet&quot; href=&quot;https://cdn.jsdelivr.net/npm/bootstrap@5.2.2/dist/css/bootstrap.min.css&quot;/&gt;\n",
       "    &lt;link rel=&quot;stylesheet&quot; href=&quot;https://netdna.bootstrapcdn.com/bootstrap/3.0.0/css/bootstrap-glyphicons.css&quot;/&gt;\n",
       "    &lt;link rel=&quot;stylesheet&quot; href=&quot;https://cdn.jsdelivr.net/npm/@fortawesome/fontawesome-free@6.2.0/css/all.min.css&quot;/&gt;\n",
       "    &lt;link rel=&quot;stylesheet&quot; href=&quot;https://cdnjs.cloudflare.com/ajax/libs/Leaflet.awesome-markers/2.0.2/leaflet.awesome-markers.css&quot;/&gt;\n",
       "    &lt;link rel=&quot;stylesheet&quot; href=&quot;https://cdn.jsdelivr.net/gh/python-visualization/folium/folium/templates/leaflet.awesome.rotate.min.css&quot;/&gt;\n",
       "    \n",
       "            &lt;meta name=&quot;viewport&quot; content=&quot;width=device-width,\n",
       "                initial-scale=1.0, maximum-scale=1.0, user-scalable=no&quot; /&gt;\n",
       "            &lt;style&gt;\n",
       "                #map_d6e667eb05170b899ea8d08dff55598d {\n",
       "                    position: relative;\n",
       "                    width: 100.0%;\n",
       "                    height: 100.0%;\n",
       "                    left: 0.0%;\n",
       "                    top: 0.0%;\n",
       "                }\n",
       "                .leaflet-container { font-size: 1rem; }\n",
       "            &lt;/style&gt;\n",
       "\n",
       "            &lt;style&gt;html, body {\n",
       "                width: 100%;\n",
       "                height: 100%;\n",
       "                margin: 0;\n",
       "                padding: 0;\n",
       "            }\n",
       "            &lt;/style&gt;\n",
       "\n",
       "            &lt;style&gt;#map {\n",
       "                position:absolute;\n",
       "                top:0;\n",
       "                bottom:0;\n",
       "                right:0;\n",
       "                left:0;\n",
       "                }\n",
       "            &lt;/style&gt;\n",
       "\n",
       "            &lt;script&gt;\n",
       "                L_NO_TOUCH = false;\n",
       "                L_DISABLE_3D = false;\n",
       "            &lt;/script&gt;\n",
       "\n",
       "        \n",
       "&lt;/head&gt;\n",
       "&lt;body&gt;\n",
       "    \n",
       "    \n",
       "            &lt;div class=&quot;folium-map&quot; id=&quot;map_d6e667eb05170b899ea8d08dff55598d&quot; &gt;&lt;/div&gt;\n",
       "        \n",
       "&lt;/body&gt;\n",
       "&lt;script&gt;\n",
       "    \n",
       "    \n",
       "            var map_d6e667eb05170b899ea8d08dff55598d = L.map(\n",
       "                &quot;map_d6e667eb05170b899ea8d08dff55598d&quot;,\n",
       "                {\n",
       "                    center: [47.60839262154914, -122.33529203543296],\n",
       "                    crs: L.CRS.EPSG3857,\n",
       "                    ...{\n",
       "  &quot;zoom&quot;: 17,\n",
       "  &quot;zoomControl&quot;: true,\n",
       "  &quot;preferCanvas&quot;: false,\n",
       "}\n",
       "\n",
       "                }\n",
       "            );\n",
       "\n",
       "            \n",
       "\n",
       "        \n",
       "    \n",
       "            var tile_layer_1f428fb92fd7c789d7844f236e9b0136 = L.tileLayer(\n",
       "                &quot;https://tile.openstreetmap.org/{z}/{x}/{y}.png&quot;,\n",
       "                {\n",
       "  &quot;minZoom&quot;: 0,\n",
       "  &quot;maxZoom&quot;: 19,\n",
       "  &quot;maxNativeZoom&quot;: 19,\n",
       "  &quot;noWrap&quot;: false,\n",
       "  &quot;attribution&quot;: &quot;\\u0026copy; \\u003ca href=\\&quot;https://www.openstreetmap.org/copyright\\&quot;\\u003eOpenStreetMap\\u003c/a\\u003e contributors&quot;,\n",
       "  &quot;subdomains&quot;: &quot;abc&quot;,\n",
       "  &quot;detectRetina&quot;: false,\n",
       "  &quot;tms&quot;: false,\n",
       "  &quot;opacity&quot;: 1,\n",
       "}\n",
       "\n",
       "            );\n",
       "        \n",
       "    \n",
       "            tile_layer_1f428fb92fd7c789d7844f236e9b0136.addTo(map_d6e667eb05170b899ea8d08dff55598d);\n",
       "        \n",
       "    \n",
       "            var poly_line_439b58c2d6ab804775170a4521faa291 = L.polyline(\n",
       "                [[47.608013, -122.335167], [47.60781033913533, -122.33536266643291], [47.60780426549518, -122.33536289738302], [47.60779677992401, -122.3358123554838], [47.607970038580454, -122.3359569380382], [47.607635192954305, -122.33564808483166], [47.60803667828576, -122.33568673176046], [47.608151409972194, -122.33502888771966], [47.608687729483066, -122.33518300575531], [47.608764117524096, -122.33519961800057], [47.60889270257975, -122.33532521671354], [47.60912527262461, -122.33519347029672], [47.60887157578555, -122.33478300194683], [47.6093015654782, -122.33479684552117], [47.60902865541471, -122.33487381161049]],\n",
       "                {&quot;bubblingMouseEvents&quot;: true, &quot;color&quot;: &quot;purple&quot;, &quot;dashArray&quot;: null, &quot;dashOffset&quot;: null, &quot;fill&quot;: false, &quot;fillColor&quot;: &quot;purple&quot;, &quot;fillOpacity&quot;: 0.2, &quot;fillRule&quot;: &quot;evenodd&quot;, &quot;lineCap&quot;: &quot;round&quot;, &quot;lineJoin&quot;: &quot;round&quot;, &quot;noClip&quot;: false, &quot;opacity&quot;: 0.7, &quot;smoothFactor&quot;: 1.0, &quot;stroke&quot;: true, &quot;weight&quot;: 4}\n",
       "            ).addTo(map_d6e667eb05170b899ea8d08dff55598d);\n",
       "        \n",
       "    \n",
       "        var popup_86ecc2c543b031db14c1277ce2ea4473 = L.popup({\n",
       "  &quot;maxWidth&quot;: &quot;100%&quot;,\n",
       "});\n",
       "\n",
       "        \n",
       "            \n",
       "                var html_8826165cf3249e0074a00b6d6b7c656d = $(`&lt;div id=&quot;html_8826165cf3249e0074a00b6d6b7c656d&quot; style=&quot;width: 100.0%; height: 100.0%;&quot;&gt;🐒 monkey&#x27;s Adventure Path&lt;/div&gt;`)[0];\n",
       "                popup_86ecc2c543b031db14c1277ce2ea4473.setContent(html_8826165cf3249e0074a00b6d6b7c656d);\n",
       "            \n",
       "        \n",
       "\n",
       "        poly_line_439b58c2d6ab804775170a4521faa291.bindPopup(popup_86ecc2c543b031db14c1277ce2ea4473)\n",
       "        ;\n",
       "\n",
       "        \n",
       "    \n",
       "    \n",
       "            var marker_8d80f393c2d3929aa68a32f0eb7f5b9f = L.marker(\n",
       "                [47.60803667828576, -122.33568673176046],\n",
       "                {\n",
       "}\n",
       "            ).addTo(map_d6e667eb05170b899ea8d08dff55598d);\n",
       "        \n",
       "    \n",
       "            var icon_d5995ca897dec6b630510c37bc76de8b = L.AwesomeMarkers.icon(\n",
       "                {\n",
       "  &quot;markerColor&quot;: &quot;black&quot;,\n",
       "  &quot;iconColor&quot;: &quot;white&quot;,\n",
       "  &quot;icon&quot;: &quot;camera&quot;,\n",
       "  &quot;prefix&quot;: &quot;glyphicon&quot;,\n",
       "  &quot;extraClasses&quot;: &quot;fa-rotate-0&quot;,\n",
       "}\n",
       "            );\n",
       "        \n",
       "    \n",
       "        var popup_d2ab28af9242c4015585298957d5f0ca = L.popup({\n",
       "  &quot;maxWidth&quot;: &quot;100%&quot;,\n",
       "});\n",
       "\n",
       "        \n",
       "            \n",
       "                var html_48c97638710a1ee5aaddd03442136e97 = $(`&lt;div id=&quot;html_48c97638710a1ee5aaddd03442136e97&quot; style=&quot;width: 100.0%; height: 100.0%;&quot;&gt;         &lt;b&gt;🎯 iPhone Photography&lt;/b&gt;&lt;br&gt;         📝 Captured stunning photos with the latest iPhone camera&lt;br&gt;         ⏰ Time: 15:58&lt;br&gt;         ⏳ Duration: 00:26:00&lt;br&gt;         ⚡ Energy Change: +4         &lt;/div&gt;`)[0];\n",
       "                popup_d2ab28af9242c4015585298957d5f0ca.setContent(html_48c97638710a1ee5aaddd03442136e97);\n",
       "            \n",
       "        \n",
       "\n",
       "        marker_8d80f393c2d3929aa68a32f0eb7f5b9f.bindPopup(popup_d2ab28af9242c4015585298957d5f0ca)\n",
       "        ;\n",
       "\n",
       "        \n",
       "    \n",
       "    \n",
       "                marker_8d80f393c2d3929aa68a32f0eb7f5b9f.setIcon(icon_d5995ca897dec6b630510c37bc76de8b);\n",
       "            \n",
       "    \n",
       "            var marker_7b1aaa73defebea077a2622fc5f6a771 = L.marker(\n",
       "                [47.608151409972194, -122.33502888771966],\n",
       "                {\n",
       "}\n",
       "            ).addTo(map_d6e667eb05170b899ea8d08dff55598d);\n",
       "        \n",
       "    \n",
       "            var icon_3810cd1670794045d625a628f638d003 = L.AwesomeMarkers.icon(\n",
       "                {\n",
       "  &quot;markerColor&quot;: &quot;blue&quot;,\n",
       "  &quot;iconColor&quot;: &quot;white&quot;,\n",
       "  &quot;icon&quot;: &quot;ship&quot;,\n",
       "  &quot;prefix&quot;: &quot;glyphicon&quot;,\n",
       "  &quot;extraClasses&quot;: &quot;fa-rotate-0&quot;,\n",
       "}\n",
       "            );\n",
       "        \n",
       "    \n",
       "        var popup_61ae5cd19d0e0a21a9a90e95deff78b0 = L.popup({\n",
       "  &quot;maxWidth&quot;: &quot;100%&quot;,\n",
       "});\n",
       "\n",
       "        \n",
       "            \n",
       "                var html_81052173f8c27c75564abea67c7beb7f = $(`&lt;div id=&quot;html_81052173f8c27c75564abea67c7beb7f&quot; style=&quot;width: 100.0%; height: 100.0%;&quot;&gt;         &lt;b&gt;🎯 Waterfront Stroll&lt;/b&gt;&lt;br&gt;         📝 Enjoyed a peaceful walk along the Seattle waterfront&lt;br&gt;         ⏰ Time: 16:08&lt;br&gt;         ⏳ Duration: 00:36:00&lt;br&gt;         ⚡ Energy Change: +12         &lt;/div&gt;`)[0];\n",
       "                popup_61ae5cd19d0e0a21a9a90e95deff78b0.setContent(html_81052173f8c27c75564abea67c7beb7f);\n",
       "            \n",
       "        \n",
       "\n",
       "        marker_7b1aaa73defebea077a2622fc5f6a771.bindPopup(popup_61ae5cd19d0e0a21a9a90e95deff78b0)\n",
       "        ;\n",
       "\n",
       "        \n",
       "    \n",
       "    \n",
       "                marker_7b1aaa73defebea077a2622fc5f6a771.setIcon(icon_3810cd1670794045d625a628f638d003);\n",
       "            \n",
       "    \n",
       "            var marker_2dac5ce6d685f234866c5f17fffa29cd = L.marker(\n",
       "                [47.608687729483066, -122.33518300575531],\n",
       "                {\n",
       "}\n",
       "            ).addTo(map_d6e667eb05170b899ea8d08dff55598d);\n",
       "        \n",
       "    \n",
       "            var icon_8073f677a443d650d73645fc95ba67ce = L.AwesomeMarkers.icon(\n",
       "                {\n",
       "  &quot;markerColor&quot;: &quot;green&quot;,\n",
       "  &quot;iconColor&quot;: &quot;white&quot;,\n",
       "  &quot;icon&quot;: &quot;tree&quot;,\n",
       "  &quot;prefix&quot;: &quot;glyphicon&quot;,\n",
       "  &quot;extraClasses&quot;: &quot;fa-rotate-0&quot;,\n",
       "}\n",
       "            );\n",
       "        \n",
       "    \n",
       "        var popup_22ec09c67cdb41dd9e800a5be5297908 = L.popup({\n",
       "  &quot;maxWidth&quot;: &quot;100%&quot;,\n",
       "});\n",
       "\n",
       "        \n",
       "            \n",
       "                var html_66ffc7c3577882038c7413bab90ed2f7 = $(`&lt;div id=&quot;html_66ffc7c3577882038c7413bab90ed2f7&quot; style=&quot;width: 100.0%; height: 100.0%;&quot;&gt;         &lt;b&gt;🎯 Climbing&lt;/b&gt;&lt;br&gt;         📝 Climbed a tall tree to get a better view&lt;br&gt;         ⏰ Time: 15:49&lt;br&gt;         ⏳ Duration: 00:07:00&lt;br&gt;         ⚡ Energy Change: -15         &lt;/div&gt;`)[0];\n",
       "                popup_22ec09c67cdb41dd9e800a5be5297908.setContent(html_66ffc7c3577882038c7413bab90ed2f7);\n",
       "            \n",
       "        \n",
       "\n",
       "        marker_2dac5ce6d685f234866c5f17fffa29cd.bindPopup(popup_22ec09c67cdb41dd9e800a5be5297908)\n",
       "        ;\n",
       "\n",
       "        \n",
       "    \n",
       "    \n",
       "                marker_2dac5ce6d685f234866c5f17fffa29cd.setIcon(icon_8073f677a443d650d73645fc95ba67ce);\n",
       "            \n",
       "    \n",
       "            var marker_7013b46fb119abf16ce997b1a05ffc04 = L.marker(\n",
       "                [47.608764117524096, -122.33519961800057],\n",
       "                {\n",
       "}\n",
       "            ).addTo(map_d6e667eb05170b899ea8d08dff55598d);\n",
       "        \n",
       "    \n",
       "            var icon_c876e25e74ff883f17bf16f6f56e3fc9 = L.AwesomeMarkers.icon(\n",
       "                {\n",
       "  &quot;markerColor&quot;: &quot;green&quot;,\n",
       "  &quot;iconColor&quot;: &quot;white&quot;,\n",
       "  &quot;icon&quot;: &quot;tree&quot;,\n",
       "  &quot;prefix&quot;: &quot;glyphicon&quot;,\n",
       "  &quot;extraClasses&quot;: &quot;fa-rotate-0&quot;,\n",
       "}\n",
       "            );\n",
       "        \n",
       "    \n",
       "        var popup_f0dcc434838fc8260fb117f82ee8009c = L.popup({\n",
       "  &quot;maxWidth&quot;: &quot;100%&quot;,\n",
       "});\n",
       "\n",
       "        \n",
       "            \n",
       "                var html_75707fc1f9cae116ea1d2a9de6cca0e0 = $(`&lt;div id=&quot;html_75707fc1f9cae116ea1d2a9de6cca0e0&quot; style=&quot;width: 100.0%; height: 100.0%;&quot;&gt;         &lt;b&gt;🎯 Climbing&lt;/b&gt;&lt;br&gt;         📝 Climbed a tall tree to get a better view&lt;br&gt;         ⏰ Time: 17:22&lt;br&gt;         ⏳ Duration: 00:08:00&lt;br&gt;         ⚡ Energy Change: -10         &lt;/div&gt;`)[0];\n",
       "                popup_f0dcc434838fc8260fb117f82ee8009c.setContent(html_75707fc1f9cae116ea1d2a9de6cca0e0);\n",
       "            \n",
       "        \n",
       "\n",
       "        marker_7013b46fb119abf16ce997b1a05ffc04.bindPopup(popup_f0dcc434838fc8260fb117f82ee8009c)\n",
       "        ;\n",
       "\n",
       "        \n",
       "    \n",
       "    \n",
       "                marker_7013b46fb119abf16ce997b1a05ffc04.setIcon(icon_c876e25e74ff883f17bf16f6f56e3fc9);\n",
       "            \n",
       "    \n",
       "            var marker_c893828a93523808042c884f8f5f0210 = L.marker(\n",
       "                [47.60912527262461, -122.33519347029672],\n",
       "                {\n",
       "}\n",
       "            ).addTo(map_d6e667eb05170b899ea8d08dff55598d);\n",
       "        \n",
       "    \n",
       "            var icon_145d6c04ad3bedb2024cd8b6fe31e4d8 = L.AwesomeMarkers.icon(\n",
       "                {\n",
       "  &quot;markerColor&quot;: &quot;gray&quot;,\n",
       "  &quot;iconColor&quot;: &quot;white&quot;,\n",
       "  &quot;icon&quot;: &quot;eye&quot;,\n",
       "  &quot;prefix&quot;: &quot;glyphicon&quot;,\n",
       "  &quot;extraClasses&quot;: &quot;fa-rotate-0&quot;,\n",
       "}\n",
       "            );\n",
       "        \n",
       "    \n",
       "        var popup_049efcf688f6e5a9809d81764c626e7d = L.popup({\n",
       "  &quot;maxWidth&quot;: &quot;100%&quot;,\n",
       "});\n",
       "\n",
       "        \n",
       "            \n",
       "                var html_1395f0a30f5879761aa70cbe20959b35 = $(`&lt;div id=&quot;html_1395f0a30f5879761aa70cbe20959b35&quot; style=&quot;width: 100.0%; height: 100.0%;&quot;&gt;         &lt;b&gt;🎯 Watching&lt;/b&gt;&lt;br&gt;         📝 Sat quietly observing the surrounding environment&lt;br&gt;         ⏰ Time: 16:04&lt;br&gt;         ⏳ Duration: 00:09:00&lt;br&gt;         ⚡ Energy Change: +5         &lt;/div&gt;`)[0];\n",
       "                popup_049efcf688f6e5a9809d81764c626e7d.setContent(html_1395f0a30f5879761aa70cbe20959b35);\n",
       "            \n",
       "        \n",
       "\n",
       "        marker_c893828a93523808042c884f8f5f0210.bindPopup(popup_049efcf688f6e5a9809d81764c626e7d)\n",
       "        ;\n",
       "\n",
       "        \n",
       "    \n",
       "    \n",
       "                marker_c893828a93523808042c884f8f5f0210.setIcon(icon_145d6c04ad3bedb2024cd8b6fe31e4d8);\n",
       "            \n",
       "    \n",
       "            var marker_efde165b17f4064450bc11ec9554987d = L.marker(\n",
       "                [47.608013, -122.335167],\n",
       "                {\n",
       "}\n",
       "            ).addTo(map_d6e667eb05170b899ea8d08dff55598d);\n",
       "        \n",
       "    \n",
       "            var icon_f373fe40eda69663263d3f76a631b6e8 = L.AwesomeMarkers.icon(\n",
       "                {\n",
       "  &quot;markerColor&quot;: &quot;green&quot;,\n",
       "  &quot;iconColor&quot;: &quot;white&quot;,\n",
       "  &quot;icon&quot;: &quot;play&quot;,\n",
       "  &quot;prefix&quot;: &quot;fa&quot;,\n",
       "  &quot;extraClasses&quot;: &quot;fa-rotate-0&quot;,\n",
       "}\n",
       "            );\n",
       "        \n",
       "    \n",
       "        var popup_16a91f8725b276bd95e43624cf5623ea = L.popup({\n",
       "  &quot;maxWidth&quot;: &quot;100%&quot;,\n",
       "});\n",
       "\n",
       "        \n",
       "            \n",
       "                var html_5a4315a764ecb02b109cc3085085acde = $(`&lt;div id=&quot;html_5a4315a764ecb02b109cc3085085acde&quot; style=&quot;width: 100.0%; height: 100.0%;&quot;&gt;🏁 monkey&#x27;s Journey Begins!&lt;/div&gt;`)[0];\n",
       "                popup_16a91f8725b276bd95e43624cf5623ea.setContent(html_5a4315a764ecb02b109cc3085085acde);\n",
       "            \n",
       "        \n",
       "\n",
       "        marker_efde165b17f4064450bc11ec9554987d.bindPopup(popup_16a91f8725b276bd95e43624cf5623ea)\n",
       "        ;\n",
       "\n",
       "        \n",
       "    \n",
       "    \n",
       "                marker_efde165b17f4064450bc11ec9554987d.setIcon(icon_f373fe40eda69663263d3f76a631b6e8);\n",
       "            \n",
       "    \n",
       "            var marker_053bd328bcac142a326ea18501f72a1c = L.marker(\n",
       "                [47.60902865541471, -122.33487381161049],\n",
       "                {\n",
       "}\n",
       "            ).addTo(map_d6e667eb05170b899ea8d08dff55598d);\n",
       "        \n",
       "    \n",
       "            var icon_ef92f22ebb5cac3f3c574032f4dccef8 = L.AwesomeMarkers.icon(\n",
       "                {\n",
       "  &quot;markerColor&quot;: &quot;red&quot;,\n",
       "  &quot;iconColor&quot;: &quot;white&quot;,\n",
       "  &quot;icon&quot;: &quot;stop&quot;,\n",
       "  &quot;prefix&quot;: &quot;fa&quot;,\n",
       "  &quot;extraClasses&quot;: &quot;fa-rotate-0&quot;,\n",
       "}\n",
       "            );\n",
       "        \n",
       "    \n",
       "        var popup_24e22700a7f82eef2f353d7628acfda0 = L.popup({\n",
       "  &quot;maxWidth&quot;: &quot;100%&quot;,\n",
       "});\n",
       "\n",
       "        \n",
       "            \n",
       "                var html_25d9530deb8a22f712eb36a64e67a811 = $(`&lt;div id=&quot;html_25d9530deb8a22f712eb36a64e67a811&quot; style=&quot;width: 100.0%; height: 100.0%;&quot;&gt;🏁 Journey Complete!&lt;/div&gt;`)[0];\n",
       "                popup_24e22700a7f82eef2f353d7628acfda0.setContent(html_25d9530deb8a22f712eb36a64e67a811);\n",
       "            \n",
       "        \n",
       "\n",
       "        marker_053bd328bcac142a326ea18501f72a1c.bindPopup(popup_24e22700a7f82eef2f353d7628acfda0)\n",
       "        ;\n",
       "\n",
       "        \n",
       "    \n",
       "    \n",
       "                marker_053bd328bcac142a326ea18501f72a1c.setIcon(icon_ef92f22ebb5cac3f3c574032f4dccef8);\n",
       "            \n",
       "&lt;/script&gt;\n",
       "&lt;/html&gt;\" style=\"position:absolute;width:100%;height:100%;left:0;top:0;border:none !important;\" allowfullscreen webkitallowfullscreen mozallowfullscreen></iframe></div></div>"
      ],
      "text/plain": [
       "<folium.folium.Map at 0x294c5006810>"
      ]
     },
     "execution_count": 6,
     "metadata": {},
     "output_type": "execute_result"
    }
   ],
   "source": [
    "# Create enhanced map with activities\n",
    "enhanced_map = folium.Map(\n",
    "    location=[center_lat, center_lon],\n",
    "    zoom_start=17,\n",
    "    tiles='OpenStreetMap'\n",
    ")\n",
    "\n",
    "# Add the journey path\n",
    "folium.PolyLine(\n",
    "    locations=path_coordinates,\n",
    "    color='purple',\n",
    "    weight=4,\n",
    "    opacity=0.7,\n",
    "    popup='🐒 monkey\\'s Adventure Path'\n",
    ").add_to(enhanced_map)\n",
    "\n",
    "# Define activity icons and colors based on MonkeyLocationService.cs activity types\n",
    "activity_icons = {\n",
    "    # Common activities\n",
    "    'Foraging': {'icon': 'cutlery', 'color': 'orange'},\n",
    "    'Resting': {'icon': 'bed', 'color': 'blue'},\n",
    "    'Exploring': {'icon': 'search', 'color': 'purple'},\n",
    "    'Drinking': {'icon': 'tint', 'color': 'lightblue'},\n",
    "    'Climbing': {'icon': 'tree', 'color': 'green'},\n",
    "    'Sunbathing': {'icon': 'sun', 'color': 'yellow'},\n",
    "    'Playing': {'icon': 'play', 'color': 'pink'},\n",
    "    'Grooming': {'icon': 'heart', 'color': 'red'},\n",
    "    'Watching': {'icon': 'eye', 'color': 'gray'},\n",
    "    'Stretching': {'icon': 'expand', 'color': 'lightgreen'},\n",
    "    'Snacking': {'icon': 'apple', 'color': 'orange'},\n",
    "    'Shelter Seeking': {'icon': 'home', 'color': 'brown'},\n",
    "    'Scent Investigation': {'icon': 'search-plus', 'color': 'darkgreen'},\n",
    "    'Branch Swinging': {'icon': 'arrows', 'color': 'darkgreen'},\n",
    "    'Ground Exploration': {'icon': 'map', 'color': 'beige'},\n",
    "    \n",
    "    # Baboon specific activities\n",
    "    'Socializing': {'icon': 'users', 'color': 'blue'},\n",
    "    \n",
    "    # Capuchin specific activities\n",
    "    'Tool Use': {'icon': 'wrench', 'color': 'darkblue'},\n",
    "    'Fruit Foraging': {'icon': 'apple', 'color': 'red'},\n",
    "    'Social Learning': {'icon': 'graduation-cap', 'color': 'blue'},\n",
    "    \n",
    "    # Blue monkey specific activities\n",
    "    'Canopy Foraging': {'icon': 'tree', 'color': 'green'},\n",
    "    'Territory Patrol': {'icon': 'shield', 'color': 'darkred'},\n",
    "    'Group Bonding': {'icon': 'heart', 'color': 'pink'},\n",
    "    \n",
    "    # Squirrel monkey specific activities\n",
    "    'Acrobatic Leaping': {'icon': 'rocket', 'color': 'orange'},\n",
    "    'Insect Hunting': {'icon': 'bug', 'color': 'green'},\n",
    "    'Playful Wrestling': {'icon': 'hand-rock', 'color': 'purple'},\n",
    "    \n",
    "    # Golden Lion Tamarin specific activities\n",
    "    'Mane Grooming': {'icon': 'star', 'color': 'yellow'},\n",
    "    'Tree Hole Foraging': {'icon': 'circle', 'color': 'brown'},\n",
    "    'Family Bonding': {'icon': 'heart', 'color': 'red'},\n",
    "    \n",
    "    # Howler monkey specific activities\n",
    "    'Howling': {'icon': 'volume-up', 'color': 'darkred'},\n",
    "    'Leaf Eating': {'icon': 'leaf', 'color': 'green'},\n",
    "    'Territory Marking': {'icon': 'flag', 'color': 'red'},\n",
    "    \n",
    "    # Japanese Macaque specific activities\n",
    "    'Hot Spring Bath': {'icon': 'bath', 'color': 'lightblue'},\n",
    "    'Snow Play': {'icon': 'snowflake', 'color': 'white'},\n",
    "    'Potato Washing': {'icon': 'tint', 'color': 'blue'},\n",
    "    \n",
    "    # Mandrill specific activities\n",
    "    'Colorful Display': {'icon': 'star', 'color': 'rainbow'},\n",
    "    'Ground Foraging': {'icon': 'search', 'color': 'brown'},\n",
    "    'Troop Leadership': {'icon': 'crown', 'color': 'gold'},\n",
    "    \n",
    "    # Proboscis monkey specific activities\n",
    "    'Swimming': {'icon': 'swimmer', 'color': 'lightblue'},\n",
    "    'Nose Flexing': {'icon': 'smile', 'color': 'orange'},\n",
    "    'Mangrove Foraging': {'icon': 'tree', 'color': 'darkgreen'},\n",
    "    \n",
    "    # Red-shanked douc specific activities\n",
    "    'Colorful Posing': {'icon': 'camera', 'color': 'red'},\n",
    "    'Leaf Selection': {'icon': 'leaf', 'color': 'green'},\n",
    "    'Arboreal Movement': {'icon': 'arrows', 'color': 'green'},\n",
    "    \n",
    "    # Sebastian (urban monkey) specific activities\n",
    "    'Tech Shopping': {'icon': 'shopping-cart', 'color': 'blue'},\n",
    "    'Coffee Break': {'icon': 'coffee', 'color': 'brown'},\n",
    "    'Social Media': {'icon': 'share', 'color': 'blue'},\n",
    "    \n",
    "    # Henry (desert urban monkey) specific activities\n",
    "    'iOS Testing': {'icon': 'mobile', 'color': 'gray'},\n",
    "    'Desert Exploration': {'icon': 'sun', 'color': 'orange'},\n",
    "    'Travel Planning': {'icon': 'plane', 'color': 'blue'},\n",
    "    \n",
    "    # monkey (urban waterfront monkey) specific activities\n",
    "    'iPhone Photography': {'icon': 'camera', 'color': 'black'},\n",
    "    'Waterfront Stroll': {'icon': 'ship', 'color': 'blue'},\n",
    "    'Adventure Blogging': {'icon': 'edit', 'color': 'green'},\n",
    "    \n",
    "    # Default activities\n",
    "    'Banana Finding': {'icon': 'apple', 'color': 'yellow'},\n",
    "    'Swinging': {'icon': 'arrows', 'color': 'green'},\n",
    "    'Mutual Grooming': {'icon': 'heart', 'color': 'pink'},\n",
    "    \n",
    "    # Fallback for unknown activities\n",
    "    'Unknown': {'icon': 'question', 'color': 'gray'}\n",
    "}\n",
    "\n",
    "# Add activity markers\n",
    "for _, activity in activity_df.iterrows():\n",
    "    icon_info = activity_icons.get(activity['Type'], activity_icons['Unknown'])\n",
    "    \n",
    "    folium.Marker(\n",
    "        location=[activity['Latitude'], activity['Longitude']],\n",
    "        popup=f\"\"\"\n",
    "        <b>🎯 {activity['Type']}</b><br>\n",
    "        📝 {activity['Description']}<br>\n",
    "        ⏰ Time: {activity['Time']}<br>\n",
    "        ⏳ Duration: {activity['Duration']}<br>\n",
    "        ⚡ Energy Change: {'+' if activity['EnergyChange'] >= 0 else ''}{activity['EnergyChange']}\n",
    "        \"\"\",\n",
    "        icon=folium.Icon(color=icon_info['color'], icon=icon_info['icon'])\n",
    "    ).add_to(enhanced_map)\n",
    "\n",
    "# Add start and end markers\n",
    "folium.Marker(\n",
    "    location=[path_df.iloc[0]['Latitude'], path_df.iloc[0]['Longitude']],\n",
    "    popup=\"🏁 monkey's Journey Begins!\",\n",
    "    icon=folium.Icon(color='green', icon='play', prefix='fa')\n",
    ").add_to(enhanced_map)\n",
    "\n",
    "folium.Marker(\n",
    "    location=[path_df.iloc[-1]['Latitude'], path_df.iloc[-1]['Longitude']],\n",
    "    popup=\"🏁 Journey Complete!\",\n",
    "    icon=folium.Icon(color='red', icon='stop', prefix='fa')\n",
    ").add_to(enhanced_map)\n",
    "\n",
    "print(\"🎨 Enhanced map with comprehensive activity icons created!\")\n",
    "print(f\"📊 Total activity types supported: {len(activity_icons)}\")\n",
    "enhanced_map"
   ]
  },
  {
   "cell_type": "markdown",
   "id": "b62393e5",
   "metadata": {},
   "source": [
    "## monkey's Health Dashboard\n",
    "\n",
    "Let's create some visualizations to show monkey's health statistics and journey summary."
   ]
  },
  {
   "cell_type": "code",
   "execution_count": 7,
   "id": "e751e568",
   "metadata": {},
   "outputs": [
    {
     "data": {
      "application/vnd.plotly.v1+json": {
       "config": {
        "plotlyServerURL": "https://plot.ly"
       },
       "data": [
        {
         "hovertemplate": "Metric=%{x}<br>Value=%{marker.color}<extra></extra>",
         "legendgroup": "",
         "marker": {
          "color": {
           "bdata": "YUMyYhZa",
           "dtype": "i1"
          },
          "coloraxis": "coloraxis",
          "pattern": {
           "shape": ""
          }
         },
         "name": "",
         "orientation": "v",
         "showlegend": false,
         "text": {
          "bdata": "AAAAAABAWEAAAAAAAMBQQAAAAAAAAElAAAAAAACAWEAAAAAAAAA2QAAAAAAAgFZA",
          "dtype": "f8"
         },
         "textposition": "outside",
         "texttemplate": "%{text}",
         "type": "bar",
         "x": [
          "Energy",
          "Happiness",
          "Hunger",
          "Social",
          "Stress",
          "Health"
         ],
         "xaxis": "x",
         "y": {
          "bdata": "YUMyYhZa",
          "dtype": "i1"
         },
         "yaxis": "y"
        }
       ],
       "layout": {
        "barmode": "relative",
        "coloraxis": {
         "colorbar": {
          "title": {
           "text": "Value"
          }
         },
         "colorscale": [
          [
           0,
           "#440154"
          ],
          [
           0.1111111111111111,
           "#482878"
          ],
          [
           0.2222222222222222,
           "#3e4989"
          ],
          [
           0.3333333333333333,
           "#31688e"
          ],
          [
           0.4444444444444444,
           "#26828e"
          ],
          [
           0.5555555555555556,
           "#1f9e89"
          ],
          [
           0.6666666666666666,
           "#35b779"
          ],
          [
           0.7777777777777778,
           "#6ece58"
          ],
          [
           0.8888888888888888,
           "#b5de2b"
          ],
          [
           1,
           "#fde725"
          ]
         ]
        },
        "legend": {
         "tracegroupgap": 0
        },
        "showlegend": false,
        "template": {
         "data": {
          "bar": [
           {
            "error_x": {
             "color": "#2a3f5f"
            },
            "error_y": {
             "color": "#2a3f5f"
            },
            "marker": {
             "line": {
              "color": "#E5ECF6",
              "width": 0.5
             },
             "pattern": {
              "fillmode": "overlay",
              "size": 10,
              "solidity": 0.2
             }
            },
            "type": "bar"
           }
          ],
          "barpolar": [
           {
            "marker": {
             "line": {
              "color": "#E5ECF6",
              "width": 0.5
             },
             "pattern": {
              "fillmode": "overlay",
              "size": 10,
              "solidity": 0.2
             }
            },
            "type": "barpolar"
           }
          ],
          "carpet": [
           {
            "aaxis": {
             "endlinecolor": "#2a3f5f",
             "gridcolor": "white",
             "linecolor": "white",
             "minorgridcolor": "white",
             "startlinecolor": "#2a3f5f"
            },
            "baxis": {
             "endlinecolor": "#2a3f5f",
             "gridcolor": "white",
             "linecolor": "white",
             "minorgridcolor": "white",
             "startlinecolor": "#2a3f5f"
            },
            "type": "carpet"
           }
          ],
          "choropleth": [
           {
            "colorbar": {
             "outlinewidth": 0,
             "ticks": ""
            },
            "type": "choropleth"
           }
          ],
          "contour": [
           {
            "colorbar": {
             "outlinewidth": 0,
             "ticks": ""
            },
            "colorscale": [
             [
              0,
              "#0d0887"
             ],
             [
              0.1111111111111111,
              "#46039f"
             ],
             [
              0.2222222222222222,
              "#7201a8"
             ],
             [
              0.3333333333333333,
              "#9c179e"
             ],
             [
              0.4444444444444444,
              "#bd3786"
             ],
             [
              0.5555555555555556,
              "#d8576b"
             ],
             [
              0.6666666666666666,
              "#ed7953"
             ],
             [
              0.7777777777777778,
              "#fb9f3a"
             ],
             [
              0.8888888888888888,
              "#fdca26"
             ],
             [
              1,
              "#f0f921"
             ]
            ],
            "type": "contour"
           }
          ],
          "contourcarpet": [
           {
            "colorbar": {
             "outlinewidth": 0,
             "ticks": ""
            },
            "type": "contourcarpet"
           }
          ],
          "heatmap": [
           {
            "colorbar": {
             "outlinewidth": 0,
             "ticks": ""
            },
            "colorscale": [
             [
              0,
              "#0d0887"
             ],
             [
              0.1111111111111111,
              "#46039f"
             ],
             [
              0.2222222222222222,
              "#7201a8"
             ],
             [
              0.3333333333333333,
              "#9c179e"
             ],
             [
              0.4444444444444444,
              "#bd3786"
             ],
             [
              0.5555555555555556,
              "#d8576b"
             ],
             [
              0.6666666666666666,
              "#ed7953"
             ],
             [
              0.7777777777777778,
              "#fb9f3a"
             ],
             [
              0.8888888888888888,
              "#fdca26"
             ],
             [
              1,
              "#f0f921"
             ]
            ],
            "type": "heatmap"
           }
          ],
          "histogram": [
           {
            "marker": {
             "pattern": {
              "fillmode": "overlay",
              "size": 10,
              "solidity": 0.2
             }
            },
            "type": "histogram"
           }
          ],
          "histogram2d": [
           {
            "colorbar": {
             "outlinewidth": 0,
             "ticks": ""
            },
            "colorscale": [
             [
              0,
              "#0d0887"
             ],
             [
              0.1111111111111111,
              "#46039f"
             ],
             [
              0.2222222222222222,
              "#7201a8"
             ],
             [
              0.3333333333333333,
              "#9c179e"
             ],
             [
              0.4444444444444444,
              "#bd3786"
             ],
             [
              0.5555555555555556,
              "#d8576b"
             ],
             [
              0.6666666666666666,
              "#ed7953"
             ],
             [
              0.7777777777777778,
              "#fb9f3a"
             ],
             [
              0.8888888888888888,
              "#fdca26"
             ],
             [
              1,
              "#f0f921"
             ]
            ],
            "type": "histogram2d"
           }
          ],
          "histogram2dcontour": [
           {
            "colorbar": {
             "outlinewidth": 0,
             "ticks": ""
            },
            "colorscale": [
             [
              0,
              "#0d0887"
             ],
             [
              0.1111111111111111,
              "#46039f"
             ],
             [
              0.2222222222222222,
              "#7201a8"
             ],
             [
              0.3333333333333333,
              "#9c179e"
             ],
             [
              0.4444444444444444,
              "#bd3786"
             ],
             [
              0.5555555555555556,
              "#d8576b"
             ],
             [
              0.6666666666666666,
              "#ed7953"
             ],
             [
              0.7777777777777778,
              "#fb9f3a"
             ],
             [
              0.8888888888888888,
              "#fdca26"
             ],
             [
              1,
              "#f0f921"
             ]
            ],
            "type": "histogram2dcontour"
           }
          ],
          "mesh3d": [
           {
            "colorbar": {
             "outlinewidth": 0,
             "ticks": ""
            },
            "type": "mesh3d"
           }
          ],
          "parcoords": [
           {
            "line": {
             "colorbar": {
              "outlinewidth": 0,
              "ticks": ""
             }
            },
            "type": "parcoords"
           }
          ],
          "pie": [
           {
            "automargin": true,
            "type": "pie"
           }
          ],
          "scatter": [
           {
            "fillpattern": {
             "fillmode": "overlay",
             "size": 10,
             "solidity": 0.2
            },
            "type": "scatter"
           }
          ],
          "scatter3d": [
           {
            "line": {
             "colorbar": {
              "outlinewidth": 0,
              "ticks": ""
             }
            },
            "marker": {
             "colorbar": {
              "outlinewidth": 0,
              "ticks": ""
             }
            },
            "type": "scatter3d"
           }
          ],
          "scattercarpet": [
           {
            "marker": {
             "colorbar": {
              "outlinewidth": 0,
              "ticks": ""
             }
            },
            "type": "scattercarpet"
           }
          ],
          "scattergeo": [
           {
            "marker": {
             "colorbar": {
              "outlinewidth": 0,
              "ticks": ""
             }
            },
            "type": "scattergeo"
           }
          ],
          "scattergl": [
           {
            "marker": {
             "colorbar": {
              "outlinewidth": 0,
              "ticks": ""
             }
            },
            "type": "scattergl"
           }
          ],
          "scattermap": [
           {
            "marker": {
             "colorbar": {
              "outlinewidth": 0,
              "ticks": ""
             }
            },
            "type": "scattermap"
           }
          ],
          "scattermapbox": [
           {
            "marker": {
             "colorbar": {
              "outlinewidth": 0,
              "ticks": ""
             }
            },
            "type": "scattermapbox"
           }
          ],
          "scatterpolar": [
           {
            "marker": {
             "colorbar": {
              "outlinewidth": 0,
              "ticks": ""
             }
            },
            "type": "scatterpolar"
           }
          ],
          "scatterpolargl": [
           {
            "marker": {
             "colorbar": {
              "outlinewidth": 0,
              "ticks": ""
             }
            },
            "type": "scatterpolargl"
           }
          ],
          "scatterternary": [
           {
            "marker": {
             "colorbar": {
              "outlinewidth": 0,
              "ticks": ""
             }
            },
            "type": "scatterternary"
           }
          ],
          "surface": [
           {
            "colorbar": {
             "outlinewidth": 0,
             "ticks": ""
            },
            "colorscale": [
             [
              0,
              "#0d0887"
             ],
             [
              0.1111111111111111,
              "#46039f"
             ],
             [
              0.2222222222222222,
              "#7201a8"
             ],
             [
              0.3333333333333333,
              "#9c179e"
             ],
             [
              0.4444444444444444,
              "#bd3786"
             ],
             [
              0.5555555555555556,
              "#d8576b"
             ],
             [
              0.6666666666666666,
              "#ed7953"
             ],
             [
              0.7777777777777778,
              "#fb9f3a"
             ],
             [
              0.8888888888888888,
              "#fdca26"
             ],
             [
              1,
              "#f0f921"
             ]
            ],
            "type": "surface"
           }
          ],
          "table": [
           {
            "cells": {
             "fill": {
              "color": "#EBF0F8"
             },
             "line": {
              "color": "white"
             }
            },
            "header": {
             "fill": {
              "color": "#C8D4E3"
             },
             "line": {
              "color": "white"
             }
            },
            "type": "table"
           }
          ]
         },
         "layout": {
          "annotationdefaults": {
           "arrowcolor": "#2a3f5f",
           "arrowhead": 0,
           "arrowwidth": 1
          },
          "autotypenumbers": "strict",
          "coloraxis": {
           "colorbar": {
            "outlinewidth": 0,
            "ticks": ""
           }
          },
          "colorscale": {
           "diverging": [
            [
             0,
             "#8e0152"
            ],
            [
             0.1,
             "#c51b7d"
            ],
            [
             0.2,
             "#de77ae"
            ],
            [
             0.3,
             "#f1b6da"
            ],
            [
             0.4,
             "#fde0ef"
            ],
            [
             0.5,
             "#f7f7f7"
            ],
            [
             0.6,
             "#e6f5d0"
            ],
            [
             0.7,
             "#b8e186"
            ],
            [
             0.8,
             "#7fbc41"
            ],
            [
             0.9,
             "#4d9221"
            ],
            [
             1,
             "#276419"
            ]
           ],
           "sequential": [
            [
             0,
             "#0d0887"
            ],
            [
             0.1111111111111111,
             "#46039f"
            ],
            [
             0.2222222222222222,
             "#7201a8"
            ],
            [
             0.3333333333333333,
             "#9c179e"
            ],
            [
             0.4444444444444444,
             "#bd3786"
            ],
            [
             0.5555555555555556,
             "#d8576b"
            ],
            [
             0.6666666666666666,
             "#ed7953"
            ],
            [
             0.7777777777777778,
             "#fb9f3a"
            ],
            [
             0.8888888888888888,
             "#fdca26"
            ],
            [
             1,
             "#f0f921"
            ]
           ],
           "sequentialminus": [
            [
             0,
             "#0d0887"
            ],
            [
             0.1111111111111111,
             "#46039f"
            ],
            [
             0.2222222222222222,
             "#7201a8"
            ],
            [
             0.3333333333333333,
             "#9c179e"
            ],
            [
             0.4444444444444444,
             "#bd3786"
            ],
            [
             0.5555555555555556,
             "#d8576b"
            ],
            [
             0.6666666666666666,
             "#ed7953"
            ],
            [
             0.7777777777777778,
             "#fb9f3a"
            ],
            [
             0.8888888888888888,
             "#fdca26"
            ],
            [
             1,
             "#f0f921"
            ]
           ]
          },
          "colorway": [
           "#636efa",
           "#EF553B",
           "#00cc96",
           "#ab63fa",
           "#FFA15A",
           "#19d3f3",
           "#FF6692",
           "#B6E880",
           "#FF97FF",
           "#FECB52"
          ],
          "font": {
           "color": "#2a3f5f"
          },
          "geo": {
           "bgcolor": "white",
           "lakecolor": "white",
           "landcolor": "#E5ECF6",
           "showlakes": true,
           "showland": true,
           "subunitcolor": "white"
          },
          "hoverlabel": {
           "align": "left"
          },
          "hovermode": "closest",
          "mapbox": {
           "style": "light"
          },
          "paper_bgcolor": "white",
          "plot_bgcolor": "#E5ECF6",
          "polar": {
           "angularaxis": {
            "gridcolor": "white",
            "linecolor": "white",
            "ticks": ""
           },
           "bgcolor": "#E5ECF6",
           "radialaxis": {
            "gridcolor": "white",
            "linecolor": "white",
            "ticks": ""
           }
          },
          "scene": {
           "xaxis": {
            "backgroundcolor": "#E5ECF6",
            "gridcolor": "white",
            "gridwidth": 2,
            "linecolor": "white",
            "showbackground": true,
            "ticks": "",
            "zerolinecolor": "white"
           },
           "yaxis": {
            "backgroundcolor": "#E5ECF6",
            "gridcolor": "white",
            "gridwidth": 2,
            "linecolor": "white",
            "showbackground": true,
            "ticks": "",
            "zerolinecolor": "white"
           },
           "zaxis": {
            "backgroundcolor": "#E5ECF6",
            "gridcolor": "white",
            "gridwidth": 2,
            "linecolor": "white",
            "showbackground": true,
            "ticks": "",
            "zerolinecolor": "white"
           }
          },
          "shapedefaults": {
           "line": {
            "color": "#2a3f5f"
           }
          },
          "ternary": {
           "aaxis": {
            "gridcolor": "white",
            "linecolor": "white",
            "ticks": ""
           },
           "baxis": {
            "gridcolor": "white",
            "linecolor": "white",
            "ticks": ""
           },
           "bgcolor": "#E5ECF6",
           "caxis": {
            "gridcolor": "white",
            "linecolor": "white",
            "ticks": ""
           }
          },
          "title": {
           "x": 0.05
          },
          "xaxis": {
           "automargin": true,
           "gridcolor": "white",
           "linecolor": "white",
           "ticks": "",
           "title": {
            "standoff": 15
           },
           "zerolinecolor": "white",
           "zerolinewidth": 2
          },
          "yaxis": {
           "automargin": true,
           "gridcolor": "white",
           "linecolor": "white",
           "ticks": "",
           "title": {
            "standoff": 15
           },
           "zerolinecolor": "white",
           "zerolinewidth": 2
          }
         }
        },
        "title": {
         "text": "🐒 monkey's Health Statistics"
        },
        "xaxis": {
         "anchor": "y",
         "domain": [
          0,
          1
         ],
         "title": {
          "text": "Health Metrics"
         }
        },
        "yaxis": {
         "anchor": "x",
         "domain": [
          0,
          1
         ],
         "title": {
          "text": "Score (0-100)"
         }
        }
       }
      }
     },
     "metadata": {},
     "output_type": "display_data"
    },
    {
     "name": "stdout",
     "output_type": "stream",
     "text": [
      "📊 Journey Summary:\n",
      "🐒 Monkey: Mooch\n",
      "⏱️ Total Duration: 01:36:00\n",
      "📏 Total Distance: 0.461 km\n",
      "🎯 Activities Completed: 5\n",
      "📍 Path Points Recorded: 15\n",
      "\n",
      "🎯 Activity Breakdown:\n",
      "  • iPhone Photography: 00:26:00 (+4 energy)\n",
      "  • Waterfront Stroll: 00:36:00 (+12 energy)\n",
      "  • Climbing: 00:07:00 (+-15 energy)\n",
      "  • Climbing: 00:08:00 (+-10 energy)\n",
      "  • Watching: 00:09:00 (+5 energy)\n",
      "\n",
      "💪 Final Health Score: 90/100\n",
      "😊 Happiness Level: 67/100\n",
      "😌 Stress Level: 22/100 (Lower is better!)\n"
     ]
    }
   ],
   "source": [
    "# Health Statistics\n",
    "import nbformat\n",
    "health_stats = monkey_journey['HealthStats']\n",
    "\n",
    "# Create health stats bar chart\n",
    "health_df = pd.DataFrame(list(health_stats.items()), columns=['Metric', 'Value'])\n",
    "\n",
    "fig_health = px.bar(\n",
    "    health_df, \n",
    "    x='Metric', \n",
    "    y='Value',\n",
    "    title=\"🐒 monkey's Health Statistics\",\n",
    "    color='Value',\n",
    "    color_continuous_scale='Viridis',\n",
    "    text='Value'\n",
    " )\n",
    "\n",
    "fig_health.update_traces(texttemplate='%{text}', textposition='outside')\n",
    "fig_health.update_layout(\n",
    "    xaxis_title=\"Health Metrics\",\n",
    "    yaxis_title=\"Score (0-100)\",\n",
    "    showlegend=False\n",
    ")\n",
    "\n",
    "fig_health.show()\n",
    "\n",
    "# Activity summary\n",
    "print(\"📊 Journey Summary:\")\n",
    "print(f\"🐒 Monkey: {monkey_journey['MonkeyName']}\")\n",
    "print(f\"⏱️ Total Duration: {monkey_journey['TotalDuration']}\")\n",
    "print(f\"📏 Total Distance: {monkey_journey['TotalDistanceKm']:.3f} km\")\n",
    "print(f\"🎯 Activities Completed: {len(monkey_journey['Activities'])}\")\n",
    "print(f\"📍 Path Points Recorded: {len(monkey_journey['PathPoints'])}\")\n",
    "\n",
    "print(\"\\n🎯 Activity Breakdown:\")\n",
    "for activity in monkey_journey['Activities']:\n",
    "    print(f\"  • {activity['Type']}: {activity['Duration']} (+{activity['EnergyChange']} energy)\")\n",
    "\n",
    "print(f\"\\n💪 Final Health Score: {health_stats['Health']}/100\")\n",
    "print(f\"😊 Happiness Level: {health_stats['Happiness']}/100\")\n",
    "print(f\"😌 Stress Level: {health_stats['Stress']}/100 (Lower is better!)\")"
   ]
  }
 ],
 "metadata": {
  "kernelspec": {
   "display_name": "Python 3",
   "language": "python",
   "name": "python3"
  },
  "language_info": {
   "codemirror_mode": {
    "name": "ipython",
    "version": 3
   },
   "file_extension": ".py",
   "mimetype": "text/x-python",
   "name": "python",
   "nbconvert_exporter": "python",
   "pygments_lexer": "ipython3",
   "version": "3.11.9"
  }
 },
 "nbformat": 4,
 "nbformat_minor": 5
}
